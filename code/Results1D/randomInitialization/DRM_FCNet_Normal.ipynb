{
 "cells": [
  {
   "cell_type": "code",
   "execution_count": 1,
   "metadata": {},
   "outputs": [],
   "source": [
    "import torch\n",
    "from torch.autograd import Variable\n",
    "import torch.nn as nn\n",
    "import torch.nn.functional as F\n",
    "import torch.optim as optim\n",
    "from torch.optim.lr_scheduler import StepLR, MultiStepLR\n",
    "import numpy as np\n",
    "# import matplotlib.pyplot as plt\n",
    "from math import *\n",
    "import time"
   ]
  },
  {
   "cell_type": "code",
   "execution_count": 2,
   "metadata": {},
   "outputs": [],
   "source": [
    "torch.cuda.set_device(2)\n",
    "torch.set_default_tensor_type('torch.DoubleTensor')"
   ]
  },
  {
   "cell_type": "code",
   "execution_count": 3,
   "metadata": {},
   "outputs": [],
   "source": [
    "# activation function\n",
    "def activation(x):\n",
    "    return x * torch.sigmoid(x)"
   ]
  },
  {
   "cell_type": "code",
   "execution_count": 4,
   "metadata": {},
   "outputs": [],
   "source": [
    "# build FCNet \n",
    "class Net(torch.nn.Module):\n",
    "    def __init__(self,input_width,layer_width):\n",
    "        super(Net,self).__init__()\n",
    "        self.layer_in = torch.nn.Linear(input_width, layer_width)\n",
    "        self.layer1 = torch.nn.Linear(layer_width, layer_width)\n",
    "        self.layer2 = torch.nn.Linear(layer_width, layer_width)\n",
    "        self.layer_out = torch.nn.Linear(layer_width, 1)\n",
    "    def forward(self,x):\n",
    "        y = self.layer_in(x)\n",
    "        y = activation(self.layer2(activation(self.layer1(y)))) \n",
    "        output = self.layer_out(y)\n",
    "        return output"
   ]
  },
  {
   "cell_type": "code",
   "execution_count": 5,
   "metadata": {},
   "outputs": [],
   "source": [
    "dimension = 1"
   ]
  },
  {
   "cell_type": "code",
   "execution_count": 6,
   "metadata": {},
   "outputs": [],
   "source": [
    "input_width,layer_width = dimension, 4"
   ]
  },
  {
   "cell_type": "code",
   "execution_count": 7,
   "metadata": {},
   "outputs": [],
   "source": [
    "net = Net(input_width,layer_width).cuda() # network for u on gpu"
   ]
  },
  {
   "cell_type": "code",
   "execution_count": 8,
   "metadata": {},
   "outputs": [],
   "source": [
    "# defination of exact solution\n",
    "def u_ex(x):     \n",
    "    temp = 1.0\n",
    "    for i in range(dimension):\n",
    "        temp = temp * torch.sin(pi*x[:, i])\n",
    "    u_temp = 1.0 * temp\n",
    "    return u_temp.reshape([x.size()[0], 1])"
   ]
  },
  {
   "cell_type": "code",
   "execution_count": 9,
   "metadata": {},
   "outputs": [],
   "source": [
    "# defination of f(x)\n",
    "def f(x):\n",
    "    temp = 1.0\n",
    "    for i in range(dimension):\n",
    "        temp = temp * torch.sin(pi*x[:, i])\n",
    "    u_temp = 1.0 * temp\n",
    "    f_temp = dimension * pi**2 * u_temp \n",
    "    return f_temp.reshape([x.size()[0],1])"
   ]
  },
  {
   "cell_type": "code",
   "execution_count": 10,
   "metadata": {},
   "outputs": [],
   "source": [
    "# generate points by random\n",
    "def generate_sample(data_size):\n",
    "    sample_temp = torch.rand(data_size, dimension)\n",
    "    return sample_temp.cuda()"
   ]
  },
  {
   "cell_type": "code",
   "execution_count": 11,
   "metadata": {},
   "outputs": [],
   "source": [
    "def model(x):\n",
    "    x_temp = x.cuda()\n",
    "    D_x_0 = torch.prod(x_temp, axis = 1).reshape([x.size()[0], 1]) \n",
    "    D_x_1 = torch.prod(1.0 - x_temp, axis = 1).reshape([x.size()[0], 1]) \n",
    "    model_u_temp = D_x_0 * D_x_1 * net(x)\n",
    "    return model_u_temp.reshape([x.size()[0], 1])"
   ]
  },
  {
   "cell_type": "code",
   "execution_count": 12,
   "metadata": {},
   "outputs": [],
   "source": [
    "# # Xavier normal initialization for weights:\n",
    "# #             mean = 0 std = gain * sqrt(2 / fan_in + fan_out)\n",
    "# # zero initialization for biases\n",
    "# def initialize_weights(self):\n",
    "#     for m in self.modules():\n",
    "#         if isinstance(m,nn.Linear):\n",
    "#             nn.init.xavier_normal_(m.weight.data)\n",
    "#             if m.bias is not None:\n",
    "#                 m.bias.data.zero_()"
   ]
  },
  {
   "cell_type": "code",
   "execution_count": 13,
   "metadata": {},
   "outputs": [],
   "source": [
    "# # Uniform initialization for weights:\n",
    "# #                  U(a, b)\n",
    "# #             nn.init.uniform_(tensor, a = 0, b = 1)\n",
    "# # zero initialization for biases\n",
    "# def initialize_weights(self):\n",
    "#     for m in self.modules():\n",
    "#         if isinstance(m,nn.Linear):\n",
    "#             nn.init.uniform_(m.weight.data)\n",
    "#             if m.bias is not None:\n",
    "#                 m.bias.data.zero_()"
   ]
  },
  {
   "cell_type": "code",
   "execution_count": 14,
   "metadata": {},
   "outputs": [],
   "source": [
    "# Normal initialization for weights:\n",
    "#               N(mean = 0, std = 1)\n",
    "#             nn.init.normal_(tensor, a = 0, b = 1)\n",
    "# zero initialization for biases\n",
    "def initialize_weights(self):\n",
    "    for m in self.modules():\n",
    "        if isinstance(m,nn.Linear):\n",
    "            nn.init.normal_(m.weight.data)\n",
    "            if m.bias is not None:\n",
    "                m.bias.data.zero_()"
   ]
  },
  {
   "cell_type": "code",
   "execution_count": 15,
   "metadata": {},
   "outputs": [],
   "source": [
    "initialize_weights(net)"
   ]
  },
  {
   "cell_type": "code",
   "execution_count": 16,
   "metadata": {},
   "outputs": [
    {
     "name": "stdout",
     "output_type": "stream",
     "text": [
      "layer_in.weight torch.Size([4, 1])\n",
      "tensor([[-0.1614],\n",
      "        [ 0.4534],\n",
      "        [ 0.5319],\n",
      "        [ 0.0274]])\n",
      "layer_in.bias torch.Size([4])\n",
      "tensor([0., 0., 0., 0.])\n",
      "layer1.weight torch.Size([4, 4])\n",
      "tensor([[-0.6886,  0.8734, -0.9422, -0.0037],\n",
      "        [-1.4594,  1.3985, -0.5471, -0.6950],\n",
      "        [-0.3775,  0.0922,  0.8538,  1.8657],\n",
      "        [ 0.2616,  0.4915,  0.1425, -0.8274]])\n",
      "layer1.bias torch.Size([4])\n",
      "tensor([0., 0., 0., 0.])\n",
      "layer2.weight torch.Size([4, 4])\n",
      "tensor([[-0.4238, -0.1112, -1.4694, -1.1913],\n",
      "        [ 0.4857, -1.0241,  0.9503, -0.0916],\n",
      "        [-0.0324,  0.1899,  0.4933,  0.5001],\n",
      "        [-0.5650,  0.3052, -0.0162,  1.6370]])\n",
      "layer2.bias torch.Size([4])\n",
      "tensor([0., 0., 0., 0.])\n",
      "layer_out.weight torch.Size([1, 4])\n",
      "tensor([[-0.9012,  0.6240,  0.1108,  1.0980]])\n",
      "layer_out.bias torch.Size([1])\n",
      "tensor([0.])\n"
     ]
    }
   ],
   "source": [
    "for name,param in net.named_parameters():\n",
    "                print(name,param.size())\n",
    "                print(param.detach().cpu())"
   ]
  },
  {
   "cell_type": "code",
   "execution_count": 17,
   "metadata": {},
   "outputs": [],
   "source": [
    "# loss function to DRM by auto differential\n",
    "def loss_function(x):\n",
    "#     x = generate_sample(data_size).cuda()\n",
    "#     x.requires_grad = True\n",
    "    u_hat = model(x)\n",
    "    grad_u_hat = torch.autograd.grad(outputs = u_hat, inputs = x, grad_outputs = torch.ones(u_hat.shape).cuda(), create_graph = True)\n",
    "    grad_u_sq = ((grad_u_hat[0]**2).sum(1)).reshape([len(grad_u_hat[0]), 1])\n",
    "    part = torch.sum(0.5 * grad_u_sq  - f(x) * u_hat)  / len(x)\n",
    "    return part"
   ]
  },
  {
   "cell_type": "code",
   "execution_count": 18,
   "metadata": {},
   "outputs": [],
   "source": [
    "torch.save(net.state_dict(), 'net_params_DRM_FCNet_Normal.pkl')"
   ]
  },
  {
   "cell_type": "code",
   "execution_count": null,
   "metadata": {},
   "outputs": [],
   "source": []
  },
  {
   "cell_type": "code",
   "execution_count": null,
   "metadata": {},
   "outputs": [],
   "source": []
  },
  {
   "cell_type": "code",
   "execution_count": null,
   "metadata": {},
   "outputs": [],
   "source": []
  },
  {
   "cell_type": "code",
   "execution_count": null,
   "metadata": {},
   "outputs": [],
   "source": []
  },
  {
   "cell_type": "code",
   "execution_count": null,
   "metadata": {},
   "outputs": [],
   "source": []
  },
  {
   "cell_type": "code",
   "execution_count": null,
   "metadata": {},
   "outputs": [],
   "source": []
  }
 ],
 "metadata": {
  "kernelspec": {
   "display_name": "Python 3",
   "language": "python",
   "name": "python3"
  },
  "language_info": {
   "codemirror_mode": {
    "name": "ipython",
    "version": 3
   },
   "file_extension": ".py",
   "mimetype": "text/x-python",
   "name": "python",
   "nbconvert_exporter": "python",
   "pygments_lexer": "ipython3",
   "version": "3.6.9"
  }
 },
 "nbformat": 4,
 "nbformat_minor": 4
}
