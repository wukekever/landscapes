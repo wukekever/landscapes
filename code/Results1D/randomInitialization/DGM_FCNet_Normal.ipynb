{
 "cells": [
  {
   "cell_type": "code",
   "execution_count": 1,
   "metadata": {},
   "outputs": [],
   "source": [
    "import torch\n",
    "from torch.autograd import Variable\n",
    "import torch.nn as nn\n",
    "import torch.nn.functional as F\n",
    "import torch.optim as optim\n",
    "from torch.optim.lr_scheduler import StepLR, MultiStepLR\n",
    "import numpy as np\n",
    "# import matplotlib.pyplot as plt\n",
    "from math import *\n",
    "import time"
   ]
  },
  {
   "cell_type": "code",
   "execution_count": 2,
   "metadata": {},
   "outputs": [],
   "source": [
    "torch.cuda.set_device(2)\n",
    "torch.set_default_tensor_type('torch.DoubleTensor')"
   ]
  },
  {
   "cell_type": "code",
   "execution_count": 3,
   "metadata": {},
   "outputs": [],
   "source": [
    "# activation function\n",
    "def activation(x):\n",
    "    return x * torch.sigmoid(x)"
   ]
  },
  {
   "cell_type": "code",
   "execution_count": 4,
   "metadata": {},
   "outputs": [],
   "source": [
    "# build FCNet \n",
    "class Net(torch.nn.Module):\n",
    "    def __init__(self,input_width,layer_width):\n",
    "        super(Net,self).__init__()\n",
    "        self.layer_in = torch.nn.Linear(input_width, layer_width)\n",
    "        self.layer1 = torch.nn.Linear(layer_width, layer_width)\n",
    "        self.layer2 = torch.nn.Linear(layer_width, layer_width)\n",
    "        self.layer_out = torch.nn.Linear(layer_width, 1)\n",
    "    def forward(self,x):\n",
    "        y = self.layer_in(x)\n",
    "        y = activation(self.layer2(activation(self.layer1(y)))) # residual block 1\n",
    "        output = self.layer_out(y)\n",
    "        return output"
   ]
  },
  {
   "cell_type": "code",
   "execution_count": 5,
   "metadata": {},
   "outputs": [],
   "source": [
    "dimension = 1"
   ]
  },
  {
   "cell_type": "code",
   "execution_count": 6,
   "metadata": {},
   "outputs": [],
   "source": [
    "input_width,layer_width = dimension, 4"
   ]
  },
  {
   "cell_type": "code",
   "execution_count": 7,
   "metadata": {},
   "outputs": [],
   "source": [
    "net = Net(input_width,layer_width).cuda() # network for u on gpu"
   ]
  },
  {
   "cell_type": "code",
   "execution_count": 8,
   "metadata": {},
   "outputs": [],
   "source": [
    "# defination of exact solution\n",
    "def u_ex(x):     \n",
    "    temp = 1.0\n",
    "    for i in range(dimension):\n",
    "        temp = temp * torch.sin(pi*x[:, i])\n",
    "    u_temp = 1.0 * temp\n",
    "    return u_temp.reshape([x.size()[0], 1])"
   ]
  },
  {
   "cell_type": "code",
   "execution_count": 9,
   "metadata": {},
   "outputs": [],
   "source": [
    "# defination of f(x)\n",
    "def f(x):\n",
    "    temp = 1.0\n",
    "    for i in range(dimension):\n",
    "        temp = temp * torch.sin(pi*x[:, i])\n",
    "    u_temp = 1.0 * temp\n",
    "    f_temp = dimension * pi**2 * u_temp \n",
    "    return f_temp.reshape([x.size()[0],1])"
   ]
  },
  {
   "cell_type": "code",
   "execution_count": 10,
   "metadata": {},
   "outputs": [],
   "source": [
    "# generate points by random\n",
    "def generate_sample(data_size):\n",
    "    sample_temp = torch.rand(data_size, dimension)\n",
    "    return sample_temp.cuda()"
   ]
  },
  {
   "cell_type": "code",
   "execution_count": 11,
   "metadata": {},
   "outputs": [],
   "source": [
    "def model(x):\n",
    "    x_temp = x.cuda()\n",
    "    D_x_0 = torch.prod(x_temp, axis = 1).reshape([x.size()[0], 1]) \n",
    "    D_x_1 = torch.prod(1.0 - x_temp, axis = 1).reshape([x.size()[0], 1]) \n",
    "    model_u_temp = D_x_0 * D_x_1 * net(x)\n",
    "    return model_u_temp.reshape([x.size()[0], 1])"
   ]
  },
  {
   "cell_type": "code",
   "execution_count": 12,
   "metadata": {},
   "outputs": [],
   "source": [
    "# # Xavier normal initialization for weights:\n",
    "# #             mean = 0 std = gain * sqrt(2 / fan_in + fan_out)\n",
    "# # zero initialization for biases\n",
    "# def initialize_weights(self):\n",
    "#     for m in self.modules():\n",
    "#         if isinstance(m,nn.Linear):\n",
    "#             nn.init.xavier_normal_(m.weight.data)\n",
    "#             if m.bias is not None:\n",
    "#                 m.bias.data.zero_()"
   ]
  },
  {
   "cell_type": "code",
   "execution_count": 13,
   "metadata": {},
   "outputs": [],
   "source": [
    "# # Uniform initialization for weights:\n",
    "# #                  U(a, b)\n",
    "# #             nn.init.uniform_(tensor, a = 0, b = 1)\n",
    "# # zero initialization for biases\n",
    "# def initialize_weights(self):\n",
    "#     for m in self.modules():\n",
    "#         if isinstance(m,nn.Linear):\n",
    "#             nn.init.uniform_(m.weight.data)\n",
    "#             if m.bias is not None:\n",
    "#                 m.bias.data.zero_()"
   ]
  },
  {
   "cell_type": "code",
   "execution_count": 14,
   "metadata": {},
   "outputs": [],
   "source": [
    "# Normal initialization for weights:\n",
    "#               N(mean = 0, std = 1)\n",
    "#             nn.init.normal_(tensor, a = 0, b = 1)\n",
    "# zero initialization for biases\n",
    "def initialize_weights(self):\n",
    "    for m in self.modules():\n",
    "        if isinstance(m,nn.Linear):\n",
    "            nn.init.normal_(m.weight.data)\n",
    "            if m.bias is not None:\n",
    "                m.bias.data.zero_()"
   ]
  },
  {
   "cell_type": "code",
   "execution_count": 15,
   "metadata": {},
   "outputs": [],
   "source": [
    "initialize_weights(net)"
   ]
  },
  {
   "cell_type": "code",
   "execution_count": 16,
   "metadata": {},
   "outputs": [
    {
     "name": "stdout",
     "output_type": "stream",
     "text": [
      "layer_in.weight torch.Size([4, 1])\n",
      "tensor([[ 0.6052],\n",
      "        [ 0.2934],\n",
      "        [ 1.5980],\n",
      "        [-0.2812]])\n",
      "layer_in.bias torch.Size([4])\n",
      "tensor([0., 0., 0., 0.])\n",
      "layer1.weight torch.Size([4, 4])\n",
      "tensor([[-0.7762,  0.6250, -0.3043, -0.9242],\n",
      "        [-0.6758,  1.2227, -0.4803,  0.6145],\n",
      "        [ 0.7422, -1.5257, -0.8149, -0.7447],\n",
      "        [ 1.3409,  0.8129, -0.0611,  0.2862]])\n",
      "layer1.bias torch.Size([4])\n",
      "tensor([0., 0., 0., 0.])\n",
      "layer2.weight torch.Size([4, 4])\n",
      "tensor([[ 1.3148, -1.9231,  0.8192,  0.6821],\n",
      "        [-1.4513,  0.2206, -0.6673,  0.6838],\n",
      "        [ 0.9120,  0.9919,  0.6188,  1.0709],\n",
      "        [-2.1711, -0.3977, -0.5913,  0.2476]])\n",
      "layer2.bias torch.Size([4])\n",
      "tensor([0., 0., 0., 0.])\n",
      "layer_out.weight torch.Size([1, 4])\n",
      "tensor([[-0.7523, -1.2161, -1.2453,  0.5064]])\n",
      "layer_out.bias torch.Size([1])\n",
      "tensor([0.])\n"
     ]
    }
   ],
   "source": [
    "for name,param in net.named_parameters():\n",
    "                print(name,param.size())\n",
    "                print(param.detach().cpu())"
   ]
  },
  {
   "cell_type": "code",
   "execution_count": 17,
   "metadata": {},
   "outputs": [],
   "source": [
    "# loss function to DGM by auto differential\n",
    "def loss_function(x):\n",
    "#     x = generate_sample(data_size).cuda()\n",
    "#     x.requires_grad = True\n",
    "    u_hat = model(x)\n",
    "    grad_u_hat = torch.autograd.grad(outputs = u_hat, inputs = x, grad_outputs = torch.ones(u_hat.shape).cuda(), create_graph = True)\n",
    "    laplace_u = torch.zeros([len(grad_u_hat[0]), 1]).cuda()\n",
    "    for index in range(dimension):\n",
    "        p_temp = grad_u_hat[0][:, index].reshape([len(grad_u_hat[0]), 1])\n",
    "        temp = torch.autograd.grad(outputs = p_temp, inputs = x, grad_outputs = torch.ones(p_temp.shape).cuda(), create_graph = True, allow_unused = True)[0]\n",
    "        laplace_u = temp[:, index].reshape([len(grad_u_hat[0]), 1]) + laplace_u\n",
    "        part_2 = torch.sum((-laplace_u - f(x))**2)  / len(x)\n",
    "    return part_2"
   ]
  },
  {
   "cell_type": "code",
   "execution_count": 18,
   "metadata": {},
   "outputs": [],
   "source": [
    "torch.save(net.state_dict(), 'net_params_DGM_FCNet_Normal.pkl')"
   ]
  },
  {
   "cell_type": "code",
   "execution_count": null,
   "metadata": {},
   "outputs": [],
   "source": []
  },
  {
   "cell_type": "code",
   "execution_count": null,
   "metadata": {},
   "outputs": [],
   "source": []
  },
  {
   "cell_type": "code",
   "execution_count": null,
   "metadata": {},
   "outputs": [],
   "source": []
  },
  {
   "cell_type": "code",
   "execution_count": null,
   "metadata": {},
   "outputs": [],
   "source": []
  },
  {
   "cell_type": "code",
   "execution_count": null,
   "metadata": {},
   "outputs": [],
   "source": []
  },
  {
   "cell_type": "code",
   "execution_count": null,
   "metadata": {},
   "outputs": [],
   "source": []
  }
 ],
 "metadata": {
  "kernelspec": {
   "display_name": "Python 3",
   "language": "python",
   "name": "python3"
  },
  "language_info": {
   "codemirror_mode": {
    "name": "ipython",
    "version": 3
   },
   "file_extension": ".py",
   "mimetype": "text/x-python",
   "name": "python",
   "nbconvert_exporter": "python",
   "pygments_lexer": "ipython3",
   "version": "3.6.9"
  }
 },
 "nbformat": 4,
 "nbformat_minor": 4
}
