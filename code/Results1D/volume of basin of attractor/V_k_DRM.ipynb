{
 "cells": [
  {
   "cell_type": "code",
   "execution_count": 1,
   "metadata": {},
   "outputs": [],
   "source": [
    "import matplotlib.pyplot as plt\n",
    "import numpy as np"
   ]
  },
  {
   "cell_type": "code",
   "execution_count": 2,
   "metadata": {},
   "outputs": [],
   "source": [
    "eigen_vals_of_DGM_100 = np.load(\"eigen_vals_of_DRM_100.npy\")\n",
    "eigen_vals_of_DGM_200 = np.load(\"eigen_vals_of_DRM_200.npy\")\n",
    "eigen_vals_of_DGM_400 = np.load(\"eigen_vals_of_DRM_400.npy\")\n",
    "eigen_vals_of_DGM_800 = np.load(\"eigen_vals_of_DRM_800.npy\")\n",
    "eigen_vals_of_DGM_1600 = np.load(\"eigen_vals_of_DRM_1600.npy\")"
   ]
  },
  {
   "cell_type": "code",
   "execution_count": 3,
   "metadata": {},
   "outputs": [
    {
     "name": "stdout",
     "output_type": "stream",
     "text": [
      "[ 1.24797517e+01  2.54614471e+00  8.98147013e-01  2.41244811e-01\n",
      "  5.97317319e-02  1.34290006e-02  9.49744775e-04  4.02028873e-04\n",
      "  3.39023772e-04  3.00149614e-04  1.20579377e-04  1.01412560e-04\n",
      "  9.79690904e-05  8.07844736e-05  7.03797677e-05  5.76367888e-05\n",
      "  3.66376620e-05  2.85564724e-05  2.53400901e-05  1.53050245e-05\n",
      "  1.29563450e-05  1.07350443e-05  8.10535858e-06  4.37907184e-06\n",
      "  2.19422387e-06  1.01822182e-07  1.22013060e-16  8.54300784e-17\n",
      " -5.90004102e-17 -6.91462651e-17 -6.91462651e-17 -5.95753787e-16\n",
      " -1.45733866e-07 -3.63394969e-07 -2.16746291e-06 -3.46683365e-06\n",
      " -5.87229224e-06 -7.53867835e-06 -9.84905427e-06 -1.19988602e-05\n",
      " -1.60404356e-05 -1.79659779e-05 -4.51955019e-05 -4.68550257e-05\n",
      " -6.48709847e-05 -7.35403328e-05 -8.52436928e-05 -9.98758029e-05\n",
      " -1.12609334e-04 -1.25630293e-04 -2.00183596e-04 -2.95431215e-04\n",
      " -6.58110155e-04]\n",
      "[-6.58110155e-04 -2.95431215e-04 -2.00183596e-04 -1.25630293e-04\n",
      " -1.12609334e-04 -9.98758029e-05 -8.52436928e-05 -7.35403328e-05\n",
      " -6.48709847e-05 -4.68550257e-05 -4.51955019e-05 -1.79659779e-05\n",
      " -1.60404356e-05 -1.19988602e-05 -9.84905427e-06 -7.53867835e-06\n",
      " -5.87229224e-06 -3.46683365e-06 -2.16746291e-06 -3.63394969e-07\n",
      " -1.45733866e-07 -5.95753787e-16 -6.91462651e-17 -6.91462651e-17\n",
      " -5.90004102e-17  8.54300784e-17  1.22013060e-16  1.01822182e-07\n",
      "  2.19422387e-06  4.37907184e-06  8.10535858e-06  1.07350443e-05\n",
      "  1.29563450e-05  1.53050245e-05  2.53400901e-05  2.85564724e-05\n",
      "  3.66376620e-05  5.76367888e-05  7.03797677e-05  8.07844736e-05\n",
      "  9.79690904e-05  1.01412560e-04  1.20579377e-04  3.00149614e-04\n",
      "  3.39023772e-04  4.02028873e-04  9.49744775e-04  1.34290006e-02\n",
      "  5.97317319e-02  2.41244811e-01  8.98147013e-01  2.54614471e+00\n",
      "  1.24797517e+01]\n"
     ]
    }
   ],
   "source": [
    "Finish_eigen_vals_of_DGM_100 = eigen_vals_of_DGM_100[:,200]\n",
    "data = Finish_eigen_vals_of_DGM_100\n",
    "print(data)\n",
    "sort_data = np.sort(data)\n",
    "print(sort_data)"
   ]
  },
  {
   "cell_type": "code",
   "execution_count": 6,
   "metadata": {},
   "outputs": [
    {
     "name": "stderr",
     "output_type": "stream",
     "text": [
      "The PostScript backend does not support transparency; partially transparent artists will be rendered opaque.\n",
      "The PostScript backend does not support transparency; partially transparent artists will be rendered opaque.\n",
      "The PostScript backend does not support transparency; partially transparent artists will be rendered opaque.\n",
      "The PostScript backend does not support transparency; partially transparent artists will be rendered opaque.\n",
      "The PostScript backend does not support transparency; partially transparent artists will be rendered opaque.\n",
      "The PostScript backend does not support transparency; partially transparent artists will be rendered opaque.\n",
      "The PostScript backend does not support transparency; partially transparent artists will be rendered opaque.\n"
     ]
    },
    {
     "data": {
      "image/png": "[encoded data removed]",
      "text/plain": [
       "<Figure size 432x288 with 2 Axes>"
      ]
     },
     "metadata": {
      "needs_background": "light"
     },
     "output_type": "display_data"
    }
   ],
   "source": [
    "y_1 = np.size(sort_data[:50:1])\n",
    "y_2 = np.size(sort_data[50])\n",
    "y_3 = np.size(sort_data[51])\n",
    "y_4 = np.size(sort_data[52])\n",
    "\n",
    "y_13 = np.size(sort_data[48:50:1]) # 0.1 - 1\n",
    "y_12 = np.size(sort_data[46:48:1]) # 0.001 - 0.1\n",
    "y_11 = np.size(sort_data[:46:1]) # - 0.00001 - 0.001\n",
    "\n",
    "x_1 = '[-1e-5, 1)'\n",
    "x_2 = '[1, 2)'\n",
    "x_3 = '[2, 10)'\n",
    "x_4 = '[10, 15)'\n",
    "\n",
    "x_11 = '[-1e-5, 1e-3)'\n",
    "x_12 = '[1e-3, 1e-1)'\n",
    "x_13 = '[1e-1, 1.0)'\n",
    "\n",
    "x = [x_1, x_2, x_3, x_4]\n",
    "y = [y_1, y_2, y_3, y_4]\n",
    "\n",
    "xx = [x_11, x_12, x_13]\n",
    "yy = [y_11, y_12, y_13]\n",
    "\n",
    "\n",
    "fig = plt.figure()\n",
    "plt.bar(x, y, \n",
    "        align = 'center',  \n",
    "        color = 'b',      \n",
    "        alpha = 0.8,     \n",
    "        width = 0.5,    \n",
    "        hatch = '') \n",
    "\n",
    "for xi,yi in zip(x, y):\n",
    "    plt.text(xi, yi + 0.05, '%d' %yi, ha='center',va='bottom', size = 11)\n",
    "    \n",
    "plt.title('Distribution of eigenvalues of DRM (batch size = 100)', size = 11)\n",
    "plt.xlabel('Eigenvalue', size = 12)\n",
    "plt.ylabel('Counter', size = 12)\n",
    "\n",
    "ax2 = fig.add_axes([0.55, 0.5, 0.3, 0.3])\n",
    "ax2.bar(xx, yy, \n",
    "        align = 'center',  \n",
    "        color = 'b',      \n",
    "        alpha = 0.8,     \n",
    "        width = 0.5,    \n",
    "        hatch = '') \n",
    "for xi,yi in zip(xx, yy):\n",
    "    plt.text(xi, yi + 0.05, '%d' %yi, ha='center',va='bottom', size = 9)    \n",
    "plt.title('Eigenvalues in [-1e-5, 1.0) ', size = 8)\n",
    "# plt.xlabel('Eigenvalue', size = 8)\n",
    "# plt.ylabel('Counter', size = 8)\n",
    "plt.xticks(rotation = 90)\n",
    "\n",
    "plt.savefig(\"Eigenvalues_Distribution_of_DRM_Batchsize_100.eps\", dpi = 120)\n",
    "plt.show()"
   ]
  },
  {
   "cell_type": "code",
   "execution_count": 5,
   "metadata": {},
   "outputs": [
    {
     "name": "stdout",
     "output_type": "stream",
     "text": [
      "1.0962059454411286\n",
      "1.5020890284541455\n",
      "1.4554364581482762\n",
      "0.837894438750462\n",
      "-0.38590045431226916\n",
      "-2.257856762516206\n",
      "-5.280249849738115\n",
      "-8.675992604872423\n",
      "-12.145762453737209\n",
      "-15.668424664403691\n",
      "-19.58715162834084\n",
      "-23.581059882182302\n",
      "-27.58997080645335\n",
      "-31.68264290727316\n",
      "-35.83519507823037\n",
      "-40.074495302173254\n",
      "-44.5105675502193\n",
      "-49.05486299205746\n",
      "-53.65105483777732\n",
      "-58.46622080861892\n",
      "-63.35373830361698\n",
      "-68.32293446216407\n",
      "-73.41416222926189\n",
      "-78.77278015909292\n",
      "-84.43149922394302\n",
      "-91.4236568236109\n",
      "-107.33725050322201\n",
      "-123.40563969833873\n",
      "nan\n",
      "nan\n",
      "nan\n",
      "nan\n",
      "nan\n",
      "nan\n",
      "nan\n",
      "nan\n",
      "nan\n",
      "nan\n",
      "nan\n",
      "nan\n",
      "nan\n",
      "nan\n",
      "nan\n",
      "nan\n",
      "nan\n",
      "nan\n",
      "nan\n",
      "nan\n",
      "nan\n",
      "nan\n",
      "nan\n",
      "nan\n",
      "nan\n",
      "[1.0962059454411286, 1.5020890284541455, 1.4554364581482762, 0.837894438750462, -0.38590045431226916, -2.257856762516206, -5.280249849738115, -8.675992604872423, -12.145762453737209, -15.668424664403691, -19.58715162834084, -23.581059882182302, -27.58997080645335, -31.68264290727316, -35.83519507823037, -40.074495302173254, -44.5105675502193, -49.05486299205746, -53.65105483777732, -58.46622080861892, -63.35373830361698, -68.32293446216407, -73.41416222926189, -78.77278015909292, -84.43149922394302, -91.4236568236109, -107.33725050322201, -123.40563969833873, nan, nan, nan, nan, nan, nan, nan, nan, nan, nan, nan, nan, nan, nan, nan, nan, nan, nan, nan, nan, nan, nan, nan, nan, nan]\n"
     ]
    },
    {
     "name": "stderr",
     "output_type": "stream",
     "text": [
      "/Users/stark/opt/anaconda3/lib/python3.7/site-packages/ipykernel_launcher.py:4: RuntimeWarning: invalid value encountered in log10\n",
      "  after removing the cwd from sys.path.\n"
     ]
    }
   ],
   "source": [
    "def top_v_100(k):\n",
    "    top = 0.0\n",
    "    for i in range(k):\n",
    "        top = top + np.log10(data[i])        \n",
    "    return top\n",
    "\n",
    "top_v_100_list = []\n",
    "for k in range(1, len(data)+1):\n",
    "    print(top_v_100(k))\n",
    "    top_v_100_list.append(top_v_100(k))\n",
    "\n",
    "print(top_v_100_list)"
   ]
  },
  {
   "cell_type": "code",
   "execution_count": 6,
   "metadata": {},
   "outputs": [],
   "source": [
    "# k_index = [i + 1 for i in range(len(data))]\n",
    "# plt.plot(k_index, top_v_100_list, 'r', marker = '*')"
   ]
  },
  {
   "cell_type": "code",
   "execution_count": null,
   "metadata": {},
   "outputs": [],
   "source": []
  },
  {
   "cell_type": "code",
   "execution_count": null,
   "metadata": {},
   "outputs": [],
   "source": []
  },
  {
   "cell_type": "code",
   "execution_count": 7,
   "metadata": {},
   "outputs": [
    {
     "name": "stdout",
     "output_type": "stream",
     "text": [
      "[ 5.59048183e+00  2.56282086e+00  1.59692514e-01  1.73387242e-02\n",
      "  1.08070253e-03  1.24027675e-04  7.45939615e-05  5.49479662e-05\n",
      "  3.86188746e-05  3.40681336e-05  2.85220962e-05  2.70255390e-05\n",
      "  1.93884370e-05  1.59891644e-05  1.17753063e-05  6.98946495e-06\n",
      "  2.98008721e-06  2.91500169e-06  2.35943662e-06  1.72045811e-06\n",
      "  1.43204480e-06  1.06027196e-06  5.77926430e-07  4.20952494e-07\n",
      "  3.92060325e-08  3.56575099e-08  1.23015888e-09  1.22455923e-10\n",
      "  1.60124957e-16  1.52071570e-16  4.24477220e-17 -2.89872004e-17\n",
      " -6.57666887e-17 -1.11408039e-16 -3.57303878e-09 -2.59744542e-08\n",
      " -7.34209074e-08 -5.27706955e-07 -7.02951621e-07 -7.23376150e-07\n",
      " -1.42667055e-06 -1.96245372e-06 -2.77500101e-06 -2.89277340e-06\n",
      " -2.98118308e-06 -4.91359054e-06 -8.79934661e-06 -1.41232460e-05\n",
      " -1.77168390e-05 -2.07123304e-05 -3.24786687e-05 -6.60515149e-05\n",
      " -8.16795788e-05]\n",
      "[-8.16795788e-05 -6.60515149e-05 -3.24786687e-05 -2.07123304e-05\n",
      " -1.77168390e-05 -1.41232460e-05 -8.79934661e-06 -4.91359054e-06\n",
      " -2.98118308e-06 -2.89277340e-06 -2.77500101e-06 -1.96245372e-06\n",
      " -1.42667055e-06 -7.23376150e-07 -7.02951621e-07 -5.27706955e-07\n",
      " -7.34209074e-08 -2.59744542e-08 -3.57303878e-09 -1.11408039e-16\n",
      " -6.57666887e-17 -2.89872004e-17  4.24477220e-17  1.52071570e-16\n",
      "  1.60124957e-16  1.22455923e-10  1.23015888e-09  3.56575099e-08\n",
      "  3.92060325e-08  4.20952494e-07  5.77926430e-07  1.06027196e-06\n",
      "  1.43204480e-06  1.72045811e-06  2.35943662e-06  2.91500169e-06\n",
      "  2.98008721e-06  6.98946495e-06  1.17753063e-05  1.59891644e-05\n",
      "  1.93884370e-05  2.70255390e-05  2.85220962e-05  3.40681336e-05\n",
      "  3.86188746e-05  5.49479662e-05  7.45939615e-05  1.24027675e-04\n",
      "  1.08070253e-03  1.73387242e-02  1.59692514e-01  2.56282086e+00\n",
      "  5.59048183e+00]\n"
     ]
    }
   ],
   "source": [
    "Finish_eigen_vals_of_DGM_200 = eigen_vals_of_DGM_200[:,200]\n",
    "data = Finish_eigen_vals_of_DGM_200\n",
    "print(data)\n",
    "sort_data = np.sort(data)\n",
    "print(sort_data)"
   ]
  },
  {
   "cell_type": "code",
   "execution_count": 8,
   "metadata": {},
   "outputs": [
    {
     "name": "stderr",
     "output_type": "stream",
     "text": [
      "The PostScript backend does not support transparency; partially transparent artists will be rendered opaque.\n",
      "The PostScript backend does not support transparency; partially transparent artists will be rendered opaque.\n",
      "The PostScript backend does not support transparency; partially transparent artists will be rendered opaque.\n",
      "The PostScript backend does not support transparency; partially transparent artists will be rendered opaque.\n"
     ]
    },
    {
     "data": {
      "image/png": "[encoded data removed]",
      "text/plain": [
       "<Figure size 432x288 with 1 Axes>"
      ]
     },
     "metadata": {
      "needs_background": "light"
     },
     "output_type": "display_data"
    }
   ],
   "source": [
    "y_1 = np.size(sort_data[:50:1])\n",
    "y_2 = np.size(sort_data[50])\n",
    "y_3 = np.size(sort_data[51])\n",
    "y_4 = np.size(sort_data[52])\n",
    "\n",
    "\n",
    "x_1 = '[-1e-5, 0.1)'\n",
    "x_2 = '[0.1, 1.0)'\n",
    "x_3 = '[1, 5)'\n",
    "x_4 = '[5, 10)'\n",
    "\n",
    "\n",
    "x = [x_1, x_2, x_3, x_4]\n",
    "y = [y_1, y_2, y_3, y_4]\n",
    "\n",
    "plt.bar(x, y, \n",
    "        align = 'center',  \n",
    "        color = 'b',      \n",
    "        alpha = 0.8,     \n",
    "        width = 0.5,    \n",
    "        hatch = '') \n",
    "\n",
    "for xi,yi in zip(x, y):\n",
    "    plt.text(xi, yi + 0.05, '%d' %yi, ha='center',va='bottom', size = 11)\n",
    "    \n",
    "plt.title('Distribution of eigenvalues of DRM (batch size = 200)', size = 11)\n",
    "plt.xlabel('Eigenvalue', size = 12)\n",
    "plt.ylabel('Counter', size = 12)\n",
    "plt.savefig(\"Eigenvalues_Distribution_of_DRM_Batchsize_200.eps\", dpi = 120)\n",
    "plt.show()"
   ]
  },
  {
   "cell_type": "code",
   "execution_count": 9,
   "metadata": {},
   "outputs": [
    {
     "name": "stdout",
     "output_type": "stream",
     "text": [
      "0.747449240062192\n",
      "1.1561674904674104\n",
      "0.3594520488555938\n",
      "-1.4015308130849653\n",
      "-4.367824646691712\n",
      "-8.274306042855919\n",
      "-12.401602370513844\n",
      "-16.661650748127965\n",
      "-21.074851133907686\n",
      "-25.54250279264839\n",
      "-30.087321352340222\n",
      "-34.65554698733443\n",
      "-39.368004187770026\n",
      "-44.16417841942022\n",
      "-49.09320620523968\n",
      "-54.24876227387498\n",
      "-59.7745332998126\n",
      "-65.30989448877374\n",
      "-70.93708617296346\n",
      "-76.7014420708931\n",
      "-82.54548546647712\n",
      "-88.52006819227101\n",
      "-94.75819563618887\n",
      "-101.1339625495331\n",
      "-108.54060965410439\n",
      "-115.98845864238785\n",
      "-124.89849743802937\n",
      "-134.81051764015155\n",
      "-150.6060586150702\n",
      "-166.42401058464515\n",
      "-182.79615619676412\n",
      "nan\n",
      "nan\n",
      "nan\n",
      "nan\n",
      "nan\n",
      "nan\n",
      "nan\n",
      "nan\n",
      "nan\n",
      "nan\n",
      "nan\n",
      "nan\n",
      "nan\n",
      "nan\n",
      "nan\n",
      "nan\n",
      "nan\n",
      "nan\n",
      "nan\n",
      "nan\n",
      "nan\n",
      "nan\n",
      "[0.747449240062192, 1.1561674904674104, 0.3594520488555938, -1.4015308130849653, -4.367824646691712, -8.274306042855919, -12.401602370513844, -16.661650748127965, -21.074851133907686, -25.54250279264839, -30.087321352340222, -34.65554698733443, -39.368004187770026, -44.16417841942022, -49.09320620523968, -54.24876227387498, -59.7745332998126, -65.30989448877374, -70.93708617296346, -76.7014420708931, -82.54548546647712, -88.52006819227101, -94.75819563618887, -101.1339625495331, -108.54060965410439, -115.98845864238785, -124.89849743802937, -134.81051764015155, -150.6060586150702, -166.42401058464515, -182.79615619676412, nan, nan, nan, nan, nan, nan, nan, nan, nan, nan, nan, nan, nan, nan, nan, nan, nan, nan, nan, nan, nan, nan]\n"
     ]
    },
    {
     "name": "stderr",
     "output_type": "stream",
     "text": [
      "/Users/stark/opt/anaconda3/lib/python3.7/site-packages/ipykernel_launcher.py:4: RuntimeWarning: invalid value encountered in log10\n",
      "  after removing the cwd from sys.path.\n"
     ]
    }
   ],
   "source": [
    "def top_v_200(k):\n",
    "    top = 0.0\n",
    "    for i in range(k):\n",
    "        top = top + np.log10(data[i])        \n",
    "    return top\n",
    "\n",
    "top_v_200_list = []\n",
    "for k in range(1, len(data)+1):\n",
    "    print(top_v_200(k))\n",
    "    top_v_200_list.append(top_v_200(k))\n",
    "\n",
    "print(top_v_200_list)"
   ]
  },
  {
   "cell_type": "code",
   "execution_count": null,
   "metadata": {},
   "outputs": [],
   "source": []
  },
  {
   "cell_type": "code",
   "execution_count": null,
   "metadata": {},
   "outputs": [],
   "source": []
  },
  {
   "cell_type": "code",
   "execution_count": 10,
   "metadata": {},
   "outputs": [
    {
     "name": "stdout",
     "output_type": "stream",
     "text": [
      "[ 1.22046703e+01  3.72515220e+00  2.56150553e-01  8.54972834e-03\n",
      "  6.78601124e-04  1.26582882e-04  7.85768784e-05  2.93259460e-05\n",
      "  2.28882610e-05  1.70949142e-05  1.55791562e-05  1.50985630e-05\n",
      "  1.11477985e-05  9.50972044e-06  7.58752112e-06  6.08082362e-06\n",
      "  5.65099011e-06  4.43625367e-06  2.00950865e-06  1.89766444e-06\n",
      "  1.59685978e-06  1.08622863e-06  8.21612587e-07  1.75904287e-07\n",
      "  9.02845004e-08  3.97436189e-08  4.21663289e-10  1.58469637e-16\n",
      "  1.28856803e-16 -8.15888706e-17 -7.67237364e-16 -1.06144265e-15\n",
      " -1.40979044e-15 -7.12672971e-10 -2.94636553e-08 -1.06349269e-07\n",
      " -4.78627630e-07 -7.62347471e-07 -8.29986480e-07 -1.06759645e-06\n",
      " -1.52755223e-06 -1.80482630e-06 -2.57629435e-06 -3.02752347e-06\n",
      " -5.14685653e-06 -5.64993411e-06 -6.60385805e-06 -8.67461501e-06\n",
      " -1.29553890e-05 -1.38102601e-05 -2.11457485e-05 -2.66556743e-05\n",
      " -5.94030354e-05]\n",
      "[-5.94030354e-05 -2.66556743e-05 -2.11457485e-05 -1.38102601e-05\n",
      " -1.29553890e-05 -8.67461501e-06 -6.60385805e-06 -5.64993411e-06\n",
      " -5.14685653e-06 -3.02752347e-06 -2.57629435e-06 -1.80482630e-06\n",
      " -1.52755223e-06 -1.06759645e-06 -8.29986480e-07 -7.62347471e-07\n",
      " -4.78627630e-07 -1.06349269e-07 -2.94636553e-08 -7.12672971e-10\n",
      " -1.40979044e-15 -1.06144265e-15 -7.67237364e-16 -8.15888706e-17\n",
      "  1.28856803e-16  1.58469637e-16  4.21663289e-10  3.97436189e-08\n",
      "  9.02845004e-08  1.75904287e-07  8.21612587e-07  1.08622863e-06\n",
      "  1.59685978e-06  1.89766444e-06  2.00950865e-06  4.43625367e-06\n",
      "  5.65099011e-06  6.08082362e-06  7.58752112e-06  9.50972044e-06\n",
      "  1.11477985e-05  1.50985630e-05  1.55791562e-05  1.70949142e-05\n",
      "  2.28882610e-05  2.93259460e-05  7.85768784e-05  1.26582882e-04\n",
      "  6.78601124e-04  8.54972834e-03  2.56150553e-01  3.72515220e+00\n",
      "  1.22046703e+01]\n"
     ]
    }
   ],
   "source": [
    "Finish_eigen_vals_of_DGM_400 = eigen_vals_of_DGM_400[:,200]\n",
    "data = Finish_eigen_vals_of_DGM_400\n",
    "print(data)\n",
    "sort_data = np.sort(data)\n",
    "print(sort_data)"
   ]
  },
  {
   "cell_type": "code",
   "execution_count": 11,
   "metadata": {},
   "outputs": [
    {
     "name": "stderr",
     "output_type": "stream",
     "text": [
      "The PostScript backend does not support transparency; partially transparent artists will be rendered opaque.\n",
      "The PostScript backend does not support transparency; partially transparent artists will be rendered opaque.\n",
      "The PostScript backend does not support transparency; partially transparent artists will be rendered opaque.\n",
      "The PostScript backend does not support transparency; partially transparent artists will be rendered opaque.\n"
     ]
    },
    {
     "data": {
      "image/png": "[encoded data removed]",
      "text/plain": [
       "<Figure size 432x288 with 1 Axes>"
      ]
     },
     "metadata": {
      "needs_background": "light"
     },
     "output_type": "display_data"
    }
   ],
   "source": [
    "y_1 = np.size(sort_data[:50:1])\n",
    "y_2 = np.size(sort_data[50])\n",
    "y_3 = np.size(sort_data[51])\n",
    "y_4 = np.size(sort_data[52])\n",
    "\n",
    "\n",
    "x_1 = '[-1e-5, 0.1)'\n",
    "x_2 = '[0.1, 1.0)'\n",
    "x_3 = '[1, 10)'\n",
    "x_4 = '[10, 15)'\n",
    "\n",
    "\n",
    "x = [x_1, x_2, x_3, x_4]\n",
    "y = [y_1, y_2, y_3, y_4]\n",
    "\n",
    "plt.bar(x, y, \n",
    "        align = 'center',  \n",
    "        color = 'b',      \n",
    "        alpha = 0.8,     \n",
    "        width = 0.5,    \n",
    "        hatch = '') \n",
    "\n",
    "for xi,yi in zip(x, y):\n",
    "    plt.text(xi, yi + 0.05, '%d' %yi, ha='center',va='bottom', size = 11)\n",
    "    \n",
    "plt.title('Distribution of eigenvalues of DRM (batch size = 400)', size = 11)\n",
    "plt.xlabel('Eigenvalue', size = 12)\n",
    "plt.ylabel('Counter', size = 12)\n",
    "plt.savefig(\"Eigenvalues_Distribution_of_DRM_Batchsize_400.eps\", dpi = 120)\n",
    "plt.show()"
   ]
  },
  {
   "cell_type": "code",
   "execution_count": 12,
   "metadata": {},
   "outputs": [
    {
     "name": "stdout",
     "output_type": "stream",
     "text": [
      "1.0865260532016139\n",
      "1.6576700750427733\n",
      "1.0661653734419672\n",
      "-1.0018823107230685\n",
      "-4.1702677359589435\n",
      "-8.067892758054759\n",
      "-12.172597986091919\n",
      "-16.705345955880013\n",
      "-21.34573315860821\n",
      "-26.112866233988907\n",
      "-30.920322301597608\n",
      "-35.74138668565943\n",
      "-40.694197575072444\n",
      "-45.71602982482826\n",
      "-50.835929911690826\n",
      "-56.051967505007404\n",
      "-61.299842957892984\n",
      "-66.65282658582849\n",
      "-72.34973670678622\n",
      "-78.07151728777893\n",
      "-83.86825050567357\n",
      "-89.83232925827649\n",
      "-95.91766217439032\n",
      "-102.6723857496254\n",
      "-109.71677255060706\n",
      "-117.11750514117163\n",
      "-126.4925393491378\n",
      "-142.29259328534988\n",
      "-158.18248593462866\n",
      "nan\n",
      "nan\n",
      "nan\n",
      "nan\n",
      "nan\n",
      "nan\n",
      "nan\n",
      "nan\n",
      "nan\n",
      "nan\n",
      "nan\n",
      "nan\n",
      "nan\n",
      "nan\n",
      "nan\n",
      "nan\n",
      "nan\n",
      "nan\n",
      "nan\n",
      "nan\n",
      "nan\n",
      "nan\n",
      "nan\n",
      "nan\n",
      "[1.0865260532016139, 1.6576700750427733, 1.0661653734419672, -1.0018823107230685, -4.1702677359589435, -8.067892758054759, -12.172597986091919, -16.705345955880013, -21.34573315860821, -26.112866233988907, -30.920322301597608, -35.74138668565943, -40.694197575072444, -45.71602982482826, -50.835929911690826, -56.051967505007404, -61.299842957892984, -66.65282658582849, -72.34973670678622, -78.07151728777893, -83.86825050567357, -89.83232925827649, -95.91766217439032, -102.6723857496254, -109.71677255060706, -117.11750514117163, -126.4925393491378, -142.29259328534988, -158.18248593462866, nan, nan, nan, nan, nan, nan, nan, nan, nan, nan, nan, nan, nan, nan, nan, nan, nan, nan, nan, nan, nan, nan, nan, nan]\n"
     ]
    },
    {
     "name": "stderr",
     "output_type": "stream",
     "text": [
      "/Users/stark/opt/anaconda3/lib/python3.7/site-packages/ipykernel_launcher.py:4: RuntimeWarning: invalid value encountered in log10\n",
      "  after removing the cwd from sys.path.\n"
     ]
    }
   ],
   "source": [
    "def top_v_400(k):\n",
    "    top = 0.0\n",
    "    for i in range(k):\n",
    "        top = top + np.log10(data[i])        \n",
    "    return top\n",
    "\n",
    "top_v_400_list = []\n",
    "for k in range(1, len(data)+1):\n",
    "    print(top_v_400(k))\n",
    "    top_v_400_list.append(top_v_400(k))\n",
    "\n",
    "print(top_v_400_list)"
   ]
  },
  {
   "cell_type": "code",
   "execution_count": null,
   "metadata": {},
   "outputs": [],
   "source": []
  },
  {
   "cell_type": "code",
   "execution_count": null,
   "metadata": {},
   "outputs": [],
   "source": []
  },
  {
   "cell_type": "code",
   "execution_count": 13,
   "metadata": {},
   "outputs": [
    {
     "name": "stdout",
     "output_type": "stream",
     "text": [
      "[ 1.04896687e+01  4.69603378e+00  3.65772230e-01  1.59713035e-02\n",
      "  6.68967423e-04  3.65275583e-04  1.27769073e-04  4.24903450e-05\n",
      "  3.70344782e-05  1.89513625e-05  1.77300318e-05  1.32215395e-05\n",
      "  1.27233995e-05  1.07236672e-05  1.01118367e-05  9.10451809e-06\n",
      "  8.60068416e-06  8.34199792e-06  7.67983594e-06  6.81174790e-06\n",
      "  6.48368847e-06  6.06174234e-06  4.86760590e-06  3.84641872e-06\n",
      "  3.62018877e-06  2.27258018e-06  1.65925293e-07  1.72541119e-15\n",
      "  5.90377197e-16  2.07233333e-17 -4.63540063e-16 -1.23622409e-15\n",
      " -1.58323940e-15 -5.56203667e-11 -1.40124531e-09 -2.01573592e-08\n",
      " -5.92384058e-08 -7.24269410e-07 -8.90610177e-07 -1.83888122e-06\n",
      " -2.41693535e-06 -3.96137334e-06 -4.87101659e-06 -5.89211647e-06\n",
      " -7.61219947e-06 -8.07268448e-06 -8.29906433e-06 -9.76120502e-06\n",
      " -1.03262066e-05 -1.47338199e-05 -1.52626885e-05 -3.47476637e-05\n",
      " -6.93881203e-05]\n",
      "[-6.93881203e-05 -3.47476637e-05 -1.52626885e-05 -1.47338199e-05\n",
      " -1.03262066e-05 -9.76120502e-06 -8.29906433e-06 -8.07268448e-06\n",
      " -7.61219947e-06 -5.89211647e-06 -4.87101659e-06 -3.96137334e-06\n",
      " -2.41693535e-06 -1.83888122e-06 -8.90610177e-07 -7.24269410e-07\n",
      " -5.92384058e-08 -2.01573592e-08 -1.40124531e-09 -5.56203667e-11\n",
      " -1.58323940e-15 -1.23622409e-15 -4.63540063e-16  2.07233333e-17\n",
      "  5.90377197e-16  1.72541119e-15  1.65925293e-07  2.27258018e-06\n",
      "  3.62018877e-06  3.84641872e-06  4.86760590e-06  6.06174234e-06\n",
      "  6.48368847e-06  6.81174790e-06  7.67983594e-06  8.34199792e-06\n",
      "  8.60068416e-06  9.10451809e-06  1.01118367e-05  1.07236672e-05\n",
      "  1.27233995e-05  1.32215395e-05  1.77300318e-05  1.89513625e-05\n",
      "  3.70344782e-05  4.24903450e-05  1.27769073e-04  3.65275583e-04\n",
      "  6.68967423e-04  1.59713035e-02  3.65772230e-01  4.69603378e+00\n",
      "  1.04896687e+01]\n"
     ]
    }
   ],
   "source": [
    "Finish_eigen_vals_of_DGM_1600 = eigen_vals_of_DGM_1600[:,200]\n",
    "data = Finish_eigen_vals_of_DGM_1600\n",
    "print(data)\n",
    "sort_data = np.sort(data)\n",
    "print(sort_data)"
   ]
  },
  {
   "cell_type": "code",
   "execution_count": 14,
   "metadata": {},
   "outputs": [
    {
     "name": "stderr",
     "output_type": "stream",
     "text": [
      "The PostScript backend does not support transparency; partially transparent artists will be rendered opaque.\n",
      "The PostScript backend does not support transparency; partially transparent artists will be rendered opaque.\n",
      "The PostScript backend does not support transparency; partially transparent artists will be rendered opaque.\n",
      "The PostScript backend does not support transparency; partially transparent artists will be rendered opaque.\n"
     ]
    },
    {
     "data": {
      "image/png": "[encoded data removed]",
      "text/plain": [
       "<Figure size 432x288 with 1 Axes>"
      ]
     },
     "metadata": {
      "needs_background": "light"
     },
     "output_type": "display_data"
    }
   ],
   "source": [
    "y_1 = np.size(sort_data[:50:1])\n",
    "y_2 = np.size(sort_data[50])\n",
    "y_3 = np.size(sort_data[51])\n",
    "y_4 = np.size(sort_data[52])\n",
    "\n",
    "\n",
    "x_1 = '[-1e-5, 0.1)'\n",
    "x_2 = '[0.1, 1.0)'\n",
    "x_3 = '[1, 10)'\n",
    "x_4 = '[10, 15)'\n",
    "\n",
    "\n",
    "x = [x_1, x_2, x_3, x_4]\n",
    "y = [y_1, y_2, y_3, y_4]\n",
    "\n",
    "plt.bar(x, y, \n",
    "        align = 'center',  \n",
    "        color = 'b',      \n",
    "        alpha = 0.8,     \n",
    "        width = 0.5,    \n",
    "        hatch = '') \n",
    "\n",
    "for xi,yi in zip(x, y):\n",
    "    plt.text(xi, yi + 0.05, '%d' %yi, ha='center',va='bottom', size = 11)\n",
    "    \n",
    "plt.title('Distribution of eigenvalues of DRM (batch size = 1600)', size = 11)\n",
    "plt.xlabel('Eigenvalue', size = 12)\n",
    "plt.ylabel('Counter', size = 12)\n",
    "plt.savefig(\"Eigenvalues_Distribution_of_DRM_Batchsize_1600.eps\", dpi = 120)\n",
    "plt.show()"
   ]
  },
  {
   "cell_type": "code",
   "execution_count": 15,
   "metadata": {},
   "outputs": [
    {
     "name": "stdout",
     "output_type": "stream",
     "text": [
      "1.020761771322985\n",
      "1.692492984000224\n",
      "1.2557037142406169\n",
      "-0.5409559222240563\n",
      "-3.7155509532423823\n",
      "-7.152930310499308\n",
      "-11.046504565599768\n",
      "-15.418214308227395\n",
      "-19.849608078364835\n",
      "-24.571967639720913\n",
      "-29.3232581250023\n",
      "-34.201976097900946\n",
      "-39.09737293270816\n",
      "-44.06702960623073\n",
      "-49.062199559809685\n",
      "-54.102942596642805\n",
      "-59.16840959701693\n",
      "-64.24713951980847\n",
      "-69.3617875775198\n",
      "-74.52852901102634\n",
      "-79.71670687172018\n",
      "-84.93410939905206\n",
      "-90.24679398977209\n",
      "-95.661737430029\n",
      "-101.10300621339502\n",
      "-106.74648699843071\n",
      "-113.52657440414079\n",
      "-128.28968179412237\n",
      "-143.5185522192783\n",
      "-160.2020926082548\n",
      "nan\n",
      "nan\n",
      "nan\n",
      "nan\n",
      "nan\n",
      "nan\n",
      "nan\n",
      "nan\n",
      "nan\n",
      "nan\n",
      "nan\n",
      "nan\n",
      "nan\n",
      "nan\n",
      "nan\n",
      "nan\n",
      "nan\n",
      "nan\n",
      "nan\n",
      "nan\n",
      "nan\n",
      "nan\n",
      "nan\n",
      "[1.020761771322985, 1.692492984000224, 1.2557037142406169, -0.5409559222240563, -3.7155509532423823, -7.152930310499308, -11.046504565599768, -15.418214308227395, -19.849608078364835, -24.571967639720913, -29.3232581250023, -34.201976097900946, -39.09737293270816, -44.06702960623073, -49.062199559809685, -54.102942596642805, -59.16840959701693, -64.24713951980847, -69.3617875775198, -74.52852901102634, -79.71670687172018, -84.93410939905206, -90.24679398977209, -95.661737430029, -101.10300621339502, -106.74648699843071, -113.52657440414079, -128.28968179412237, -143.5185522192783, -160.2020926082548, nan, nan, nan, nan, nan, nan, nan, nan, nan, nan, nan, nan, nan, nan, nan, nan, nan, nan, nan, nan, nan, nan, nan]\n"
     ]
    },
    {
     "name": "stderr",
     "output_type": "stream",
     "text": [
      "/Users/stark/opt/anaconda3/lib/python3.7/site-packages/ipykernel_launcher.py:4: RuntimeWarning: invalid value encountered in log10\n",
      "  after removing the cwd from sys.path.\n"
     ]
    }
   ],
   "source": [
    "def top_v_1600(k):\n",
    "    top = 0.0\n",
    "    for i in range(k):\n",
    "        top = top + np.log10(data[i])        \n",
    "    return top\n",
    "\n",
    "top_v_1600_list = []\n",
    "for k in range(1, len(data)+1):\n",
    "    print(top_v_1600(k))\n",
    "    top_v_1600_list.append(top_v_1600(k))\n",
    "\n",
    "print(top_v_1600_list)"
   ]
  },
  {
   "cell_type": "code",
   "execution_count": null,
   "metadata": {},
   "outputs": [],
   "source": []
  },
  {
   "cell_type": "code",
   "execution_count": null,
   "metadata": {},
   "outputs": [],
   "source": []
  },
  {
   "cell_type": "code",
   "execution_count": 16,
   "metadata": {},
   "outputs": [
    {
     "data": {
      "image/png": "[encoded data removed]",
      "text/plain": [
       "<Figure size 432x288 with 1 Axes>"
      ]
     },
     "metadata": {},
     "output_type": "display_data"
    }
   ],
   "source": [
    "import matplotlib.pylab as plt \n",
    "import matplotlib.pyplot as mp\n",
    "import numpy as np\n",
    "plt.style.use(\"seaborn-dark\")\n",
    "\n",
    "k_index = [int(i + 1) for i in range(len(data))]\n",
    "\n",
    "plt.plot(k_index[:10:1], top_v_100_list[:10:1], color = 'r', marker = '*', label = 'Batch size = 100')\n",
    "plt.plot(k_index[:10:1], top_v_200_list[:10:1], color = 'g', marker = '+', label = 'Batch size = 200')\n",
    "plt.plot(k_index[:10:1], top_v_400_list[:10:1], color = 'orange', marker = 'o', label = 'Batch size = 400')\n",
    "plt.plot(k_index[:10:1], top_v_1600_list[:10:1], color = 'b', marker = 'd', label = 'Batch size = 1600')\n",
    "plt.title('', size = 11)\n",
    "plt.xlabel('k', size = 12)\n",
    "plt.ylabel('V(k) of DRM', size = 12)\n",
    "plt.grid(True)\n",
    "plt.xticks(np.arange(0, 11, step = 1)) \n",
    "plt.legend()\n",
    "plt.savefig(\"V(k)_of_DRM.eps\", dpi = 120)\n",
    "plt.show()"
   ]
  },
  {
   "cell_type": "code",
   "execution_count": null,
   "metadata": {},
   "outputs": [],
   "source": []
  },
  {
   "cell_type": "code",
   "execution_count": null,
   "metadata": {},
   "outputs": [],
   "source": []
  },
  {
   "cell_type": "code",
   "execution_count": null,
   "metadata": {},
   "outputs": [],
   "source": []
  }
 ],
 "metadata": {
  "kernelspec": {
   "display_name": "Python 3",
   "language": "python",
   "name": "python3"
  },
  "language_info": {
   "codemirror_mode": {
    "name": "ipython",
    "version": 3
   },
   "file_extension": ".py",
   "mimetype": "text/x-python",
   "name": "python",
   "nbconvert_exporter": "python",
   "pygments_lexer": "ipython3",
   "version": "3.6.8"
  }
 },
 "nbformat": 4,
 "nbformat_minor": 4
}
