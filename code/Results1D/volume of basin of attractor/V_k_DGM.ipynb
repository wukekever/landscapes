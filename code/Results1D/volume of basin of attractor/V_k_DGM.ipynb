{
 "cells": [
  {
   "cell_type": "code",
   "execution_count": 1,
   "metadata": {},
   "outputs": [],
   "source": [
    "import matplotlib.pyplot as plt\n",
    "import numpy as np"
   ]
  },
  {
   "cell_type": "code",
   "execution_count": 2,
   "metadata": {},
   "outputs": [],
   "source": [
    "eigen_vals_of_DGM_100 = np.load(\"eigen_vals_of_DGM_100.npy\")\n",
    "eigen_vals_of_DGM_200 = np.load(\"eigen_vals_of_DGM_200.npy\")\n",
    "eigen_vals_of_DGM_400 = np.load(\"eigen_vals_of_DGM_400.npy\")\n",
    "eigen_vals_of_DGM_800 = np.load(\"eigen_vals_of_DGM_800.npy\")\n",
    "eigen_vals_of_DGM_1600 = np.load(\"eigen_vals_of_DGM_1600.npy\")"
   ]
  },
  {
   "cell_type": "code",
   "execution_count": 3,
   "metadata": {},
   "outputs": [
    {
     "name": "stdout",
     "output_type": "stream",
     "text": [
      "[ 3.98809066e+02  2.16112329e+02  7.89935717e+01  3.09309278e+00\n",
      "  2.44122991e-01  2.51852550e-02  2.83849982e-03  8.11306742e-04\n",
      "  5.05600095e-04  4.67961817e-04  3.71306598e-04  3.12788140e-04\n",
      "  2.11162431e-04  1.35354375e-04  1.06427393e-04  9.73575221e-05\n",
      "  8.71503105e-05  6.81664593e-05  6.08999121e-05  5.35748880e-05\n",
      "  3.78423261e-05  1.47460351e-05  7.11304447e-06  3.24189277e-06\n",
      "  2.12922550e-06  3.00853694e-08  2.68746126e-14  1.12416365e-15\n",
      "  1.12416365e-15 -5.37382917e-16 -5.37382917e-16 -1.17631161e-14\n",
      " -1.69738676e-07 -7.64575111e-06 -9.40950966e-06 -1.58363336e-05\n",
      " -2.37141109e-05 -2.40476031e-05 -2.74423225e-05 -3.88392117e-05\n",
      " -5.66642112e-05 -6.07001008e-05 -8.50764468e-05 -9.76124098e-05\n",
      " -1.03456553e-04 -1.24123044e-04 -1.88481351e-04 -2.37514582e-04\n",
      " -3.03546976e-04 -3.11393705e-04 -3.54166756e-04 -7.01834783e-04\n",
      " -8.61078924e-04]\n",
      "[-8.61078924e-04 -7.01834783e-04 -3.54166756e-04 -3.11393705e-04\n",
      " -3.03546976e-04 -2.37514582e-04 -1.88481351e-04 -1.24123044e-04\n",
      " -1.03456553e-04 -9.76124098e-05 -8.50764468e-05 -6.07001008e-05\n",
      " -5.66642112e-05 -3.88392117e-05 -2.74423225e-05 -2.40476031e-05\n",
      " -2.37141109e-05 -1.58363336e-05 -9.40950966e-06 -7.64575111e-06\n",
      " -1.69738676e-07 -1.17631161e-14 -5.37382917e-16 -5.37382917e-16\n",
      "  1.12416365e-15  1.12416365e-15  2.68746126e-14  3.00853694e-08\n",
      "  2.12922550e-06  3.24189277e-06  7.11304447e-06  1.47460351e-05\n",
      "  3.78423261e-05  5.35748880e-05  6.08999121e-05  6.81664593e-05\n",
      "  8.71503105e-05  9.73575221e-05  1.06427393e-04  1.35354375e-04\n",
      "  2.11162431e-04  3.12788140e-04  3.71306598e-04  4.67961817e-04\n",
      "  5.05600095e-04  8.11306742e-04  2.83849982e-03  2.51852550e-02\n",
      "  2.44122991e-01  3.09309278e+00  7.89935717e+01  2.16112329e+02\n",
      "  3.98809066e+02]\n"
     ]
    }
   ],
   "source": [
    "Finish_eigen_vals_of_DGM_100 = eigen_vals_of_DGM_100[:,200]\n",
    "data = Finish_eigen_vals_of_DGM_100\n",
    "print(data)\n",
    "sort_data = np.sort(data)\n",
    "print(sort_data)"
   ]
  },
  {
   "cell_type": "code",
   "execution_count": 4,
   "metadata": {},
   "outputs": [
    {
     "name": "stderr",
     "output_type": "stream",
     "text": [
      "The PostScript backend does not support transparency; partially transparent artists will be rendered opaque.\n",
      "The PostScript backend does not support transparency; partially transparent artists will be rendered opaque.\n",
      "The PostScript backend does not support transparency; partially transparent artists will be rendered opaque.\n",
      "The PostScript backend does not support transparency; partially transparent artists will be rendered opaque.\n",
      "The PostScript backend does not support transparency; partially transparent artists will be rendered opaque.\n",
      "The PostScript backend does not support transparency; partially transparent artists will be rendered opaque.\n",
      "The PostScript backend does not support transparency; partially transparent artists will be rendered opaque.\n",
      "The PostScript backend does not support transparency; partially transparent artists will be rendered opaque.\n",
      "The PostScript backend does not support transparency; partially transparent artists will be rendered opaque.\n"
     ]
    },
    {
     "data": {
      "image/png": "[encoded data removed]",
      "text/plain": [
       "<Figure size 432x288 with 2 Axes>"
      ]
     },
     "metadata": {
      "needs_background": "light"
     },
     "output_type": "display_data"
    }
   ],
   "source": [
    "y_1 = np.size(sort_data[:49:1])\n",
    "y_2 = np.size(sort_data[49])\n",
    "y_3 = np.size(sort_data[50])\n",
    "y_4 = np.size(sort_data[51])\n",
    "y_5 = np.size(sort_data[52])\n",
    "\n",
    "y_14 = np.size(sort_data[48]) # 0.1 - 1.0\n",
    "y_13 = np.size(sort_data[47]) # 0.01 - 0.1\n",
    "y_12 = np.size(sort_data[46]) # 0.001 - 0.01\n",
    "y_11 = np.size(sort_data[:46:1]) # - 0.00001 - 0.0001\n",
    "\n",
    "x_1 = '[-1e-5, 1.0)'\n",
    "x_2 = '[1.0, 10)'\n",
    "x_3 = '[10, 100)'\n",
    "x_4 = '[100, 300)'\n",
    "x_5 = '[300, 400)'\n",
    "\n",
    "x_11 = '[-1e-5, 1e-3)'\n",
    "x_12 = '[1e-3, 1e-2)'\n",
    "x_13 = '[1e-2, 1e-1)'\n",
    "x_14 = '[1e-1, 1.0)'\n",
    "\n",
    "\n",
    "x = [x_1, x_2, x_3, x_4, x_5]\n",
    "y = [y_1, y_2, y_3, y_4, y_5]\n",
    "\n",
    "xx = [x_11, x_12, x_13, x_14]\n",
    "yy = [y_11, y_12, y_13, y_14]\n",
    "\n",
    "fig = plt.figure()\n",
    "plt.bar(x, y, \n",
    "        align = 'center',  \n",
    "        color = 'b',      \n",
    "        alpha = 0.8,     \n",
    "        width = 0.5,    \n",
    "        hatch = '') \n",
    "\n",
    "for xi,yi in zip(x, y):\n",
    "    plt.text(xi, yi + 0.05, '%d' %yi, ha='center',va='bottom', size = 11)\n",
    "plt.title('Distribution of eigenvalues of DGM (batch size = 100)', size = 11)\n",
    "plt.xlabel('Eigenvalue', size = 12)\n",
    "plt.ylabel('Counter', size = 12)\n",
    "\n",
    "ax2 = fig.add_axes([0.55, 0.5, 0.3, 0.3])\n",
    "ax2.bar(xx, yy, \n",
    "        align = 'center',  \n",
    "        color = 'b',      \n",
    "        alpha = 0.8,     \n",
    "        width = 0.5,    \n",
    "        hatch = '') \n",
    "for xi,yi in zip(xx, yy):\n",
    "    plt.text(xi, yi + 0.05, '%d' %yi, ha='center',va='bottom', size = 9)    \n",
    "plt.title('Eigenvalues in [-1e-5, 1.0) ', size = 8)\n",
    "# plt.xlabel('Eigenvalue', size = 8)\n",
    "# plt.ylabel('Counter', size = 8)\n",
    "plt.xticks(rotation = 90)\n",
    "\n",
    "plt.savefig(\"Eigenvalues_Distribution_of_DGM_Batchsize_100.eps\", dpi = 120)\n",
    "plt.show()"
   ]
  },
  {
   "cell_type": "code",
   "execution_count": null,
   "metadata": {},
   "outputs": [],
   "source": []
  },
  {
   "cell_type": "code",
   "execution_count": 5,
   "metadata": {},
   "outputs": [],
   "source": [
    "# y_1 = np.size(sort_data[:49:1])\n",
    "# y_2 = np.size(sort_data[49])\n",
    "# y_3 = np.size(sort_data[50])\n",
    "# y_4 = np.size(sort_data[51])\n",
    "# y_5 = np.size(sort_data[52])\n",
    "\n",
    "# x_1 = '[-1e-5, 1.0)'\n",
    "# x_2 = '[1.0, 10)'\n",
    "# x_3 = '[10, 100)'\n",
    "# x_4 = '[100, 300)'\n",
    "# x_5 = '[300, 400)'\n",
    "\n",
    "# x = [x_1, x_2, x_3, x_4, x_5]\n",
    "# y = [y_1, y_2, y_3, y_4, y_5]\n",
    "\n",
    "# plt.bar(x, y, \n",
    "#         align = 'center',  \n",
    "#         color = 'b',      \n",
    "#         alpha = 0.8,     \n",
    "#         width = 0.5,    \n",
    "#         hatch = '') \n",
    "\n",
    "# for xi,yi in zip(x, y):\n",
    "#     plt.text(xi, yi + 0.05, '%d' %yi, ha='center',va='bottom', size = 11)\n",
    "    \n",
    "# plt.title('Distribution of eigenvalues of DGM (batch size = 100)', size = 11)\n",
    "# plt.xlabel('Eigenvalue', size = 12)\n",
    "# plt.ylabel('Counter', size = 12)\n",
    "# plt.savefig(\"Eigenvalues_Distribution_of_DGM_Batchsize_100.eps\", dpi = 120)\n",
    "# plt.show()"
   ]
  },
  {
   "cell_type": "code",
   "execution_count": 6,
   "metadata": {},
   "outputs": [
    {
     "name": "stdout",
     "output_type": "stream",
     "text": [
      "2.6007650226644885\n",
      "4.9354445656276695\n",
      "6.833036316422689\n",
      "7.323429263822143\n",
      "6.711037945834596\n",
      "5.112184297856006\n",
      "2.565273169074225\n",
      "-0.5255417457576987\n",
      "-3.8217345991079883\n",
      "-7.151524180383726\n",
      "-10.581791513439285\n",
      "-14.08654123653444\n",
      "-17.761924584369872\n",
      "-21.630452285032376\n",
      "-25.603398862970298\n",
      "-29.61502935114583\n",
      "-33.67476041218322\n",
      "-37.84118967576739\n",
      "-42.05657300968001\n",
      "-46.32761173788457\n",
      "-50.74963391459706\n",
      "-55.580958652345736\n",
      "-60.72890312866664\n",
      "-66.21810448235324\n",
      "-71.88988282305192\n",
      "-79.41152747468567\n",
      "-92.98218526258447\n",
      "-107.93135572588929\n",
      "-122.88052618919411\n",
      "nan\n",
      "nan\n",
      "nan\n",
      "nan\n",
      "nan\n",
      "nan\n",
      "nan\n",
      "nan\n",
      "nan\n",
      "nan\n",
      "nan\n",
      "nan\n",
      "nan\n",
      "nan\n",
      "nan\n",
      "nan\n",
      "nan\n",
      "nan\n",
      "nan\n",
      "nan\n",
      "nan\n",
      "nan\n",
      "nan\n",
      "nan\n",
      "[2.6007650226644885, 4.9354445656276695, 6.833036316422689, 7.323429263822143, 6.711037945834596, 5.112184297856006, 2.565273169074225, -0.5255417457576987, -3.8217345991079883, -7.151524180383726, -10.581791513439285, -14.08654123653444, -17.761924584369872, -21.630452285032376, -25.603398862970298, -29.61502935114583, -33.67476041218322, -37.84118967576739, -42.05657300968001, -46.32761173788457, -50.74963391459706, -55.580958652345736, -60.72890312866664, -66.21810448235324, -71.88988282305192, -79.41152747468567, -92.98218526258447, -107.93135572588929, -122.88052618919411, nan, nan, nan, nan, nan, nan, nan, nan, nan, nan, nan, nan, nan, nan, nan, nan, nan, nan, nan, nan, nan, nan, nan, nan]\n"
     ]
    },
    {
     "name": "stderr",
     "output_type": "stream",
     "text": [
      "/Users/stark/opt/anaconda3/lib/python3.7/site-packages/ipykernel_launcher.py:4: RuntimeWarning: invalid value encountered in log10\n",
      "  after removing the cwd from sys.path.\n"
     ]
    }
   ],
   "source": [
    "def top_v_100(k):\n",
    "    top = 0.0\n",
    "    for i in range(k):\n",
    "        top = top + np.log10(data[i])        \n",
    "    return top\n",
    "\n",
    "top_v_100_list = []\n",
    "for k in range(1, len(data)+1):\n",
    "    print(top_v_100(k))\n",
    "    top_v_100_list.append(top_v_100(k))\n",
    "\n",
    "print(top_v_100_list)"
   ]
  },
  {
   "cell_type": "code",
   "execution_count": 7,
   "metadata": {},
   "outputs": [],
   "source": [
    "# k_index = [i + 1 for i in range(len(data))]\n",
    "# plt.plot(k_index, top_v_100_list, 'r', marker = '*')"
   ]
  },
  {
   "cell_type": "code",
   "execution_count": null,
   "metadata": {},
   "outputs": [],
   "source": []
  },
  {
   "cell_type": "code",
   "execution_count": null,
   "metadata": {},
   "outputs": [],
   "source": []
  },
  {
   "cell_type": "code",
   "execution_count": 8,
   "metadata": {},
   "outputs": [
    {
     "name": "stdout",
     "output_type": "stream",
     "text": [
      "[ 8.48243697e+02  5.71064517e+01  4.48355141e+01  5.82664438e+00\n",
      "  6.97955809e-01  5.88633133e-02  4.22962868e-03  1.08535798e-03\n",
      "  8.82725884e-04  7.03361035e-04  5.29264948e-04  4.05743584e-04\n",
      "  4.02852025e-04  3.58843635e-04  2.94469198e-04  1.81050482e-04\n",
      "  1.36662666e-04  9.12026366e-05  6.09012262e-05  4.01510181e-05\n",
      "  3.35469705e-05  2.16061683e-05  1.46753363e-05  9.01273230e-06\n",
      "  4.87015533e-06  8.62423571e-07  3.85254516e-07  3.60092678e-08\n",
      "  1.86090286e-09  1.08147232e-13  6.53507306e-15  6.53507306e-15\n",
      " -7.11183542e-15 -7.11183542e-15 -6.21650242e-14 -1.47543595e-06\n",
      " -2.79478117e-06 -7.33173732e-06 -1.26370992e-05 -1.85927862e-05\n",
      " -2.70263415e-05 -3.47960109e-05 -4.96854393e-05 -6.63192296e-05\n",
      " -1.68820612e-04 -2.34447669e-04 -2.97838139e-04 -3.67029786e-04\n",
      " -3.99985173e-04 -4.28677395e-04 -5.09405803e-04 -6.03846650e-04\n",
      " -8.02950381e-04]\n",
      "[-8.02950381e-04 -6.03846650e-04 -5.09405803e-04 -4.28677395e-04\n",
      " -3.99985173e-04 -3.67029786e-04 -2.97838139e-04 -2.34447669e-04\n",
      " -1.68820612e-04 -6.63192296e-05 -4.96854393e-05 -3.47960109e-05\n",
      " -2.70263415e-05 -1.85927862e-05 -1.26370992e-05 -7.33173732e-06\n",
      " -2.79478117e-06 -1.47543595e-06 -6.21650242e-14 -7.11183542e-15\n",
      " -7.11183542e-15  6.53507306e-15  6.53507306e-15  1.08147232e-13\n",
      "  1.86090286e-09  3.60092678e-08  3.85254516e-07  8.62423571e-07\n",
      "  4.87015533e-06  9.01273230e-06  1.46753363e-05  2.16061683e-05\n",
      "  3.35469705e-05  4.01510181e-05  6.09012262e-05  9.12026366e-05\n",
      "  1.36662666e-04  1.81050482e-04  2.94469198e-04  3.58843635e-04\n",
      "  4.02852025e-04  4.05743584e-04  5.29264948e-04  7.03361035e-04\n",
      "  8.82725884e-04  1.08535798e-03  4.22962868e-03  5.88633133e-02\n",
      "  6.97955809e-01  5.82664438e+00  4.48355141e+01  5.71064517e+01\n",
      "  8.48243697e+02]\n"
     ]
    }
   ],
   "source": [
    "Finish_eigen_vals_of_DGM_200 = eigen_vals_of_DGM_200[:,200]\n",
    "data = Finish_eigen_vals_of_DGM_200\n",
    "print(data)\n",
    "sort_data = np.sort(data)\n",
    "print(sort_data)"
   ]
  },
  {
   "cell_type": "code",
   "execution_count": 9,
   "metadata": {},
   "outputs": [
    {
     "name": "stderr",
     "output_type": "stream",
     "text": [
      "The PostScript backend does not support transparency; partially transparent artists will be rendered opaque.\n",
      "The PostScript backend does not support transparency; partially transparent artists will be rendered opaque.\n",
      "The PostScript backend does not support transparency; partially transparent artists will be rendered opaque.\n",
      "The PostScript backend does not support transparency; partially transparent artists will be rendered opaque.\n",
      "The PostScript backend does not support transparency; partially transparent artists will be rendered opaque.\n"
     ]
    },
    {
     "data": {
      "image/png": "[encoded data removed]",
      "text/plain": [
       "<Figure size 432x288 with 1 Axes>"
      ]
     },
     "metadata": {
      "needs_background": "light"
     },
     "output_type": "display_data"
    }
   ],
   "source": [
    "y_1 = np.size(sort_data[:49:1])\n",
    "y_2 = np.size(sort_data[49])\n",
    "y_3 = np.size(sort_data[50])\n",
    "y_4 = np.size(sort_data[51])\n",
    "y_5 = np.size(sort_data[52])\n",
    "\n",
    "x_1 = '[-1e-5, 1.0)'\n",
    "x_2 = '[1.0, 10)'\n",
    "x_3 = '[10, 50)'\n",
    "x_4 = '[50, 100)'\n",
    "x_5 = '[100, 1000)'\n",
    "\n",
    "x = [x_1, x_2, x_3, x_4, x_5]\n",
    "y = [y_1, y_2, y_3, y_4, y_5]\n",
    "\n",
    "plt.bar(x, y, \n",
    "        align = 'center',  \n",
    "        color = 'b',      \n",
    "        alpha = 0.8,     \n",
    "        width = 0.5,    \n",
    "        hatch = '') \n",
    "\n",
    "for xi,yi in zip(x, y):\n",
    "    plt.text(xi, yi + 0.05, '%d' %yi, ha='center',va='bottom', size = 11)\n",
    "    \n",
    "plt.title('Distribution of eigenvalues of DGM (batch size = 200)', size = 11)\n",
    "plt.xlabel('Eigenvalue', size = 12)\n",
    "plt.ylabel('Counter', size = 12)\n",
    "plt.savefig(\"Eigenvalues_Distribution_of_DGM_Batchsize_200.eps\", dpi = 120)\n",
    "plt.show()"
   ]
  },
  {
   "cell_type": "code",
   "execution_count": 10,
   "metadata": {},
   "outputs": [
    {
     "name": "stdout",
     "output_type": "stream",
     "text": [
      "2.928520641345796\n",
      "4.685205817519536\n",
      "6.336827971296305\n",
      "7.10224648344308\n",
      "6.94607440975122\n",
      "5.71591911387487\n",
      "3.3422213559905187\n",
      "0.3777943605946814\n",
      "-2.676379778087833\n",
      "-5.82920147264198\n",
      "-9.10552834035953\n",
      "-12.497276679733279\n",
      "-15.892131129072288\n",
      "-19.337225881870552\n",
      "-22.868186008699354\n",
      "-26.610386324105193\n",
      "-30.47473643653709\n",
      "-34.514729042768614\n",
      "-38.730103005876266\n",
      "-43.12640644366246\n",
      "-47.60075313668803\n",
      "-52.266175382447486\n",
      "-57.09958731883255\n",
      "-62.1447308473139\n",
      "-67.45718803443184\n",
      "-73.52146741680107\n",
      "-79.93571967902845\n",
      "-87.37930538844707\n",
      "-96.10958168591658\n",
      "-109.07556627768507\n",
      "-123.26031583014567\n",
      "-137.4450653826063\n",
      "nan\n",
      "nan\n",
      "nan\n",
      "nan\n",
      "nan\n",
      "nan\n",
      "nan\n",
      "nan\n",
      "nan\n",
      "nan\n",
      "nan\n",
      "nan\n",
      "nan\n",
      "nan\n",
      "nan\n",
      "nan\n",
      "nan\n",
      "nan\n",
      "nan\n",
      "nan\n",
      "nan\n",
      "[2.928520641345796, 4.685205817519536, 6.336827971296305, 7.10224648344308, 6.94607440975122, 5.71591911387487, 3.3422213559905187, 0.3777943605946814, -2.676379778087833, -5.82920147264198, -9.10552834035953, -12.497276679733279, -15.892131129072288, -19.337225881870552, -22.868186008699354, -26.610386324105193, -30.47473643653709, -34.514729042768614, -38.730103005876266, -43.12640644366246, -47.60075313668803, -52.266175382447486, -57.09958731883255, -62.1447308473139, -67.45718803443184, -73.52146741680107, -79.93571967902845, -87.37930538844707, -96.10958168591658, -109.07556627768507, -123.26031583014567, -137.4450653826063, nan, nan, nan, nan, nan, nan, nan, nan, nan, nan, nan, nan, nan, nan, nan, nan, nan, nan, nan, nan, nan]\n"
     ]
    },
    {
     "name": "stderr",
     "output_type": "stream",
     "text": [
      "/Users/stark/opt/anaconda3/lib/python3.7/site-packages/ipykernel_launcher.py:4: RuntimeWarning: invalid value encountered in log10\n",
      "  after removing the cwd from sys.path.\n"
     ]
    }
   ],
   "source": [
    "def top_v_200(k):\n",
    "    top = 0.0\n",
    "    for i in range(k):\n",
    "        top = top + np.log10(data[i])        \n",
    "    return top\n",
    "\n",
    "top_v_200_list = []\n",
    "for k in range(1, len(data)+1):\n",
    "    print(top_v_200(k))\n",
    "    top_v_200_list.append(top_v_200(k))\n",
    "\n",
    "print(top_v_200_list)"
   ]
  },
  {
   "cell_type": "code",
   "execution_count": 11,
   "metadata": {},
   "outputs": [],
   "source": [
    "# k_index = [i + 1 for i in range(len(data))]\n",
    "# plt.plot(k_index, top_v_200_list, 'r', marker = '*')"
   ]
  },
  {
   "cell_type": "code",
   "execution_count": null,
   "metadata": {},
   "outputs": [],
   "source": []
  },
  {
   "cell_type": "code",
   "execution_count": null,
   "metadata": {},
   "outputs": [],
   "source": []
  },
  {
   "cell_type": "code",
   "execution_count": 12,
   "metadata": {},
   "outputs": [
    {
     "name": "stdout",
     "output_type": "stream",
     "text": [
      "[ 3.82847916e+02  2.17200048e+02  5.11252315e+01  4.09422277e+00\n",
      "  3.78448761e-01  2.12572197e-02  4.21987019e-03  6.97548948e-04\n",
      "  2.00239523e-04  1.29667855e-04  1.11823881e-04  1.04474361e-04\n",
      "  8.17263557e-05  5.97967897e-05  5.25020662e-05  4.55995956e-05\n",
      "  3.97523590e-05  3.80525802e-05  2.19521903e-05  1.93922577e-05\n",
      "  1.72696726e-05  1.27767291e-05  1.01543345e-05  6.87130902e-06\n",
      "  6.30489857e-06  5.49111678e-06  1.60576798e-06  2.43341067e-07\n",
      "  7.08873760e-15  3.89389622e-15  6.53375757e-16 -2.47568212e-15\n",
      " -1.07550639e-14 -2.73497635e-14 -1.57553232e-08 -3.34962375e-08\n",
      " -5.88162805e-08 -1.09266825e-06 -2.80998344e-06 -4.04587185e-06\n",
      " -6.95913445e-06 -1.15917530e-05 -1.44918751e-05 -1.83916891e-05\n",
      " -1.93325313e-05 -2.29911016e-05 -2.73763372e-05 -4.48145599e-05\n",
      " -5.61173223e-05 -5.94108076e-05 -1.09156097e-04 -1.35362780e-04\n",
      " -2.22831071e-04]\n",
      "[-2.22831071e-04 -1.35362780e-04 -1.09156097e-04 -5.94108076e-05\n",
      " -5.61173223e-05 -4.48145599e-05 -2.73763372e-05 -2.29911016e-05\n",
      " -1.93325313e-05 -1.83916891e-05 -1.44918751e-05 -1.15917530e-05\n",
      " -6.95913445e-06 -4.04587185e-06 -2.80998344e-06 -1.09266825e-06\n",
      " -5.88162805e-08 -3.34962375e-08 -1.57553232e-08 -2.73497635e-14\n",
      " -1.07550639e-14 -2.47568212e-15  6.53375757e-16  3.89389622e-15\n",
      "  7.08873760e-15  2.43341067e-07  1.60576798e-06  5.49111678e-06\n",
      "  6.30489857e-06  6.87130902e-06  1.01543345e-05  1.27767291e-05\n",
      "  1.72696726e-05  1.93922577e-05  2.19521903e-05  3.80525802e-05\n",
      "  3.97523590e-05  4.55995956e-05  5.25020662e-05  5.97967897e-05\n",
      "  8.17263557e-05  1.04474361e-04  1.11823881e-04  1.29667855e-04\n",
      "  2.00239523e-04  6.97548948e-04  4.21987019e-03  2.12572197e-02\n",
      "  3.78448761e-01  4.09422277e+00  5.11252315e+01  2.17200048e+02\n",
      "  3.82847916e+02]\n"
     ]
    }
   ],
   "source": [
    "Finish_eigen_vals_of_DGM_400 = eigen_vals_of_DGM_400[:,200]\n",
    "data = Finish_eigen_vals_of_DGM_400\n",
    "print(data)\n",
    "sort_data = np.sort(data)\n",
    "print(sort_data)"
   ]
  },
  {
   "cell_type": "code",
   "execution_count": 13,
   "metadata": {},
   "outputs": [
    {
     "name": "stderr",
     "output_type": "stream",
     "text": [
      "The PostScript backend does not support transparency; partially transparent artists will be rendered opaque.\n",
      "The PostScript backend does not support transparency; partially transparent artists will be rendered opaque.\n",
      "The PostScript backend does not support transparency; partially transparent artists will be rendered opaque.\n",
      "The PostScript backend does not support transparency; partially transparent artists will be rendered opaque.\n",
      "The PostScript backend does not support transparency; partially transparent artists will be rendered opaque.\n"
     ]
    },
    {
     "data": {
      "image/png": "[encoded data removed]",
      "text/plain": [
       "<Figure size 432x288 with 1 Axes>"
      ]
     },
     "metadata": {
      "needs_background": "light"
     },
     "output_type": "display_data"
    }
   ],
   "source": [
    "y_1 = np.size(sort_data[:49:1])\n",
    "y_2 = np.size(sort_data[49])\n",
    "y_3 = np.size(sort_data[50])\n",
    "y_4 = np.size(sort_data[51])\n",
    "y_5 = np.size(sort_data[52])\n",
    "\n",
    "x_1 = '[-1e-5, 1.0)'\n",
    "x_2 = '[1.0, 10)'\n",
    "x_3 = '[10, 100)'\n",
    "x_4 = '[100, 300)'\n",
    "x_5 = '[300, 400)'\n",
    "\n",
    "x = [x_1, x_2, x_3, x_4, x_5]\n",
    "y = [y_1, y_2, y_3, y_4, y_5]\n",
    "\n",
    "plt.bar(x, y, \n",
    "        align = 'center',  \n",
    "        color = 'b',      \n",
    "        alpha = 0.8,     \n",
    "        width = 0.5,    \n",
    "        hatch = '') \n",
    "\n",
    "for xi,yi in zip(x, y):\n",
    "    plt.text(xi, yi + 0.05, '%d' %yi, ha='center',va='bottom', size = 11)\n",
    "    \n",
    "plt.title('Distribution of eigenvalues of DGM (batch size = 400)', size = 11)\n",
    "plt.xlabel('Eigenvalue', size = 12)\n",
    "plt.ylabel('Counter', size = 12)\n",
    "plt.savefig(\"Eigenvalues_Distribution_of_DGM_Batchsize_400.eps\", dpi = 120)\n",
    "plt.show()"
   ]
  },
  {
   "cell_type": "code",
   "execution_count": 14,
   "metadata": {},
   "outputs": [
    {
     "name": "stdout",
     "output_type": "stream",
     "text": [
      "2.5830262876927494\n",
      "4.919886204066435\n",
      "6.628521491716679\n",
      "7.240692960537247\n",
      "6.818700047867977\n",
      "5.146206509435011\n",
      "2.7715056006444305\n",
      "-0.3849197110722322\n",
      "-4.083369909295038\n",
      "-7.970537584224822\n",
      "-11.922003022143507\n",
      "-15.902993297334763\n",
      "-19.99063116363684\n",
      "-24.21395329496032\n",
      "-28.493776899650996\n",
      "-32.834815908838124\n",
      "-37.23545300275802\n",
      "-41.65506889246123\n",
      "-46.31359103380593\n",
      "-51.02596265894593\n",
      "-55.78867855391892\n",
      "-60.68225886755429\n",
      "-65.67560740214432\n",
      "-70.83856792166334\n",
      "-76.03888981769823\n",
      "-81.29922913745804\n",
      "-87.09354634464718\n",
      "-93.70733093699242\n",
      "-107.85676203665156\n",
      "-122.26637766402474\n",
      "-137.4512146480349\n",
      "nan\n",
      "nan\n",
      "nan\n",
      "nan\n",
      "nan\n",
      "nan\n",
      "nan\n",
      "nan\n",
      "nan\n",
      "nan\n",
      "nan\n",
      "nan\n",
      "nan\n",
      "nan\n",
      "nan\n",
      "nan\n",
      "nan\n",
      "nan\n",
      "nan\n",
      "nan\n",
      "nan\n",
      "nan\n",
      "[2.5830262876927494, 4.919886204066435, 6.628521491716679, 7.240692960537247, 6.818700047867977, 5.146206509435011, 2.7715056006444305, -0.3849197110722322, -4.083369909295038, -7.970537584224822, -11.922003022143507, -15.902993297334763, -19.99063116363684, -24.21395329496032, -28.493776899650996, -32.834815908838124, -37.23545300275802, -41.65506889246123, -46.31359103380593, -51.02596265894593, -55.78867855391892, -60.68225886755429, -65.67560740214432, -70.83856792166334, -76.03888981769823, -81.29922913745804, -87.09354634464718, -93.70733093699242, -107.85676203665156, -122.26637766402474, -137.4512146480349, nan, nan, nan, nan, nan, nan, nan, nan, nan, nan, nan, nan, nan, nan, nan, nan, nan, nan, nan, nan, nan, nan]\n"
     ]
    },
    {
     "name": "stderr",
     "output_type": "stream",
     "text": [
      "/Users/stark/opt/anaconda3/lib/python3.7/site-packages/ipykernel_launcher.py:4: RuntimeWarning: invalid value encountered in log10\n",
      "  after removing the cwd from sys.path.\n"
     ]
    }
   ],
   "source": [
    "def top_v_400(k):\n",
    "    top = 0.0\n",
    "    for i in range(k):\n",
    "        top = top + np.log10(data[i])        \n",
    "    return top\n",
    "\n",
    "top_v_400_list = []\n",
    "for k in range(1, len(data)+1):\n",
    "    print(top_v_400(k))\n",
    "    top_v_400_list.append(top_v_400(k))\n",
    "\n",
    "print(top_v_400_list)"
   ]
  },
  {
   "cell_type": "code",
   "execution_count": 15,
   "metadata": {},
   "outputs": [],
   "source": [
    "# k_index = [i + 1 for i in range(len(data))]\n",
    "# plt.plot(k_index, top_v_400_list, 'r', marker = '*')"
   ]
  },
  {
   "cell_type": "code",
   "execution_count": null,
   "metadata": {},
   "outputs": [],
   "source": []
  },
  {
   "cell_type": "code",
   "execution_count": null,
   "metadata": {},
   "outputs": [],
   "source": []
  },
  {
   "cell_type": "code",
   "execution_count": 16,
   "metadata": {},
   "outputs": [
    {
     "name": "stdout",
     "output_type": "stream",
     "text": [
      "[ 5.56416709e+02  1.02453484e+02  5.00343514e+01  8.01960991e+00\n",
      "  7.55986485e-01  3.10308923e-02  6.02528773e-03  2.82276318e-03\n",
      "  6.52707367e-04  3.86658085e-04  2.35917848e-04  2.09461838e-04\n",
      "  1.67034331e-04  1.65845880e-04  1.49959259e-04  1.38500029e-04\n",
      "  1.11402290e-04  9.60517529e-05  7.66641993e-05  5.22375733e-05\n",
      "  5.11076815e-05  1.29986887e-05  4.95366866e-06  2.49557552e-06\n",
      "  5.33136271e-07  6.08729340e-09  2.37582825e-09  1.46583302e-10\n",
      "  2.11371566e-14  6.99260275e-15  1.14606003e-16 -8.14427814e-16\n",
      " -8.14427814e-16 -4.83170248e-14 -1.44635153e-07 -3.61648818e-06\n",
      " -9.55106165e-06 -1.59166173e-05 -2.93389009e-05 -3.37319144e-05\n",
      " -3.90341129e-05 -4.65117312e-05 -4.91368742e-05 -5.89538108e-05\n",
      " -6.31594705e-05 -9.38534924e-05 -1.13867936e-04 -1.48099564e-04\n",
      " -1.60992699e-04 -1.81363882e-04 -3.24168882e-04 -4.33302887e-04\n",
      " -7.86888746e-04]\n",
      "[-7.86888746e-04 -4.33302887e-04 -3.24168882e-04 -1.81363882e-04\n",
      " -1.60992699e-04 -1.48099564e-04 -1.13867936e-04 -9.38534924e-05\n",
      " -6.31594705e-05 -5.89538108e-05 -4.91368742e-05 -4.65117312e-05\n",
      " -3.90341129e-05 -3.37319144e-05 -2.93389009e-05 -1.59166173e-05\n",
      " -9.55106165e-06 -3.61648818e-06 -1.44635153e-07 -4.83170248e-14\n",
      " -8.14427814e-16 -8.14427814e-16  1.14606003e-16  6.99260275e-15\n",
      "  2.11371566e-14  1.46583302e-10  2.37582825e-09  6.08729340e-09\n",
      "  5.33136271e-07  2.49557552e-06  4.95366866e-06  1.29986887e-05\n",
      "  5.11076815e-05  5.22375733e-05  7.66641993e-05  9.60517529e-05\n",
      "  1.11402290e-04  1.38500029e-04  1.49959259e-04  1.65845880e-04\n",
      "  1.67034331e-04  2.09461838e-04  2.35917848e-04  3.86658085e-04\n",
      "  6.52707367e-04  2.82276318e-03  6.02528773e-03  3.10308923e-02\n",
      "  7.55986485e-01  8.01960991e+00  5.00343514e+01  1.02453484e+02\n",
      "  5.56416709e+02]\n"
     ]
    }
   ],
   "source": [
    "Finish_eigen_vals_of_DGM_1600 = eigen_vals_of_DGM_1600[:,200]\n",
    "data = Finish_eigen_vals_of_DGM_1600\n",
    "print(data)\n",
    "sort_data = np.sort(data)\n",
    "print(sort_data)"
   ]
  },
  {
   "cell_type": "code",
   "execution_count": 17,
   "metadata": {},
   "outputs": [
    {
     "name": "stderr",
     "output_type": "stream",
     "text": [
      "The PostScript backend does not support transparency; partially transparent artists will be rendered opaque.\n",
      "The PostScript backend does not support transparency; partially transparent artists will be rendered opaque.\n",
      "The PostScript backend does not support transparency; partially transparent artists will be rendered opaque.\n",
      "The PostScript backend does not support transparency; partially transparent artists will be rendered opaque.\n",
      "The PostScript backend does not support transparency; partially transparent artists will be rendered opaque.\n"
     ]
    },
    {
     "data": {
      "image/png": "[encoded data removed]",
      "text/plain": [
       "<Figure size 432x288 with 1 Axes>"
      ]
     },
     "metadata": {
      "needs_background": "light"
     },
     "output_type": "display_data"
    }
   ],
   "source": [
    "y_1 = np.size(sort_data[:49:1])\n",
    "y_2 = np.size(sort_data[49])\n",
    "y_3 = np.size(sort_data[50])\n",
    "y_4 = np.size(sort_data[51])\n",
    "y_5 = np.size(sort_data[52])\n",
    "\n",
    "x_1 = '[-1e-5, 1.0)'\n",
    "x_2 = '[1.0, 10)'\n",
    "x_3 = '[10, 100)'\n",
    "x_4 = '[100, 200)'\n",
    "x_5 = '[200, 600)'\n",
    "\n",
    "x = [x_1, x_2, x_3, x_4, x_5]\n",
    "y = [y_1, y_2, y_3, y_4, y_5]\n",
    "\n",
    "plt.bar(x, y, \n",
    "        align = 'center',  \n",
    "        color = 'b',      \n",
    "        alpha = 0.8,     \n",
    "        width = 0.5,    \n",
    "        hatch = '') \n",
    "\n",
    "for xi,yi in zip(x, y):\n",
    "    plt.text(xi, yi + 0.05, '%d' %yi, ha='center',va='bottom', size = 11)\n",
    "    \n",
    "plt.title('Distribution of eigenvalues of DGM (batch size = 1600)', size = 11)\n",
    "plt.xlabel('Eigenvalue', size = 12)\n",
    "plt.ylabel('Counter', size = 12)\n",
    "plt.savefig(\"Eigenvalues_Distribution_of_DGM_Batchsize_1600.eps\", dpi = 120)\n",
    "plt.show()"
   ]
  },
  {
   "cell_type": "code",
   "execution_count": 18,
   "metadata": {},
   "outputs": [
    {
     "name": "stdout",
     "output_type": "stream",
     "text": [
      "2.7454001631939153\n",
      "4.755926894224894\n",
      "6.455195168338037\n",
      "7.359348411950301\n",
      "7.237862443593678\n",
      "5.729656707848144\n",
      "3.5096344987371637\n",
      "0.9603089430024703\n",
      "-2.2249725427058618\n",
      "-5.637645446758508\n",
      "-9.264884648895553\n",
      "-12.943779737932847\n",
      "-16.72097399468447\n",
      "-20.501269308478822\n",
      "-24.325296022350408\n",
      "-28.18384615713571\n",
      "-32.13695203741472\n",
      "-36.15444674250799\n",
      "-40.26985413834636\n",
      "-44.55187114469638\n",
      "-48.843384964915415\n",
      "-53.729485420260566\n",
      "-59.03455846595637\n",
      "-64.63738774840085\n",
      "-70.91054951814637\n",
      "-79.12612528366958\n",
      "-87.75031024145166\n",
      "-97.58422574227521\n",
      "-111.259179177696\n",
      "-125.41454032111182\n",
      "-141.35533295328298\n",
      "nan\n",
      "nan\n",
      "nan\n",
      "nan\n",
      "nan\n",
      "nan\n",
      "nan\n",
      "nan\n",
      "nan\n",
      "nan\n",
      "nan\n",
      "nan\n",
      "nan\n",
      "nan\n",
      "nan\n",
      "nan\n",
      "nan\n",
      "nan\n",
      "nan\n",
      "nan\n",
      "nan\n",
      "nan\n",
      "[2.7454001631939153, 4.755926894224894, 6.455195168338037, 7.359348411950301, 7.237862443593678, 5.729656707848144, 3.5096344987371637, 0.9603089430024703, -2.2249725427058618, -5.637645446758508, -9.264884648895553, -12.943779737932847, -16.72097399468447, -20.501269308478822, -24.325296022350408, -28.18384615713571, -32.13695203741472, -36.15444674250799, -40.26985413834636, -44.55187114469638, -48.843384964915415, -53.729485420260566, -59.03455846595637, -64.63738774840085, -70.91054951814637, -79.12612528366958, -87.75031024145166, -97.58422574227521, -111.259179177696, -125.41454032111182, -141.35533295328298, nan, nan, nan, nan, nan, nan, nan, nan, nan, nan, nan, nan, nan, nan, nan, nan, nan, nan, nan, nan, nan, nan]\n"
     ]
    },
    {
     "name": "stderr",
     "output_type": "stream",
     "text": [
      "/Users/stark/opt/anaconda3/lib/python3.7/site-packages/ipykernel_launcher.py:4: RuntimeWarning: invalid value encountered in log10\n",
      "  after removing the cwd from sys.path.\n"
     ]
    }
   ],
   "source": [
    "def top_v_1600(k):\n",
    "    top = 0.0\n",
    "    for i in range(k):\n",
    "        top = top + np.log10(data[i])        \n",
    "    return top\n",
    "\n",
    "top_v_1600_list = []\n",
    "for k in range(1, len(data)+1):\n",
    "    print(top_v_1600(k))\n",
    "    top_v_1600_list.append(top_v_1600(k))\n",
    "\n",
    "print(top_v_1600_list)"
   ]
  },
  {
   "cell_type": "code",
   "execution_count": 19,
   "metadata": {},
   "outputs": [],
   "source": [
    "# k_index = [i + 1 for i in range(len(data))]\n",
    "# plt.plot(k_index, top_v_1600_list, 'r', marker = '*')"
   ]
  },
  {
   "cell_type": "code",
   "execution_count": null,
   "metadata": {},
   "outputs": [],
   "source": []
  },
  {
   "cell_type": "code",
   "execution_count": null,
   "metadata": {},
   "outputs": [],
   "source": []
  },
  {
   "cell_type": "code",
   "execution_count": 20,
   "metadata": {},
   "outputs": [],
   "source": [
    "# import matplotlib.pylab as plt \n",
    "# import matplotlib.pyplot as mp\n",
    "# import numpy as np\n",
    "# plt.style.use(\"seaborn-dark\")\n",
    "\n",
    "# k_index = [int(i + 1) for i in range(len(data))]\n",
    "\n",
    "# plt.plot(k_index[:20:1], top_v_100_list[:20:1], color = 'r', marker = '*', label = 'Batch size = 100')\n",
    "# plt.plot(k_index[:20:1], top_v_200_list[:20:1], color = 'g', marker = '+', label = 'Batch size = 200')\n",
    "# plt.plot(k_index[:20:1], top_v_400_list[:20:1], color = 'orange', marker = 'o', label = 'Batch size = 400')\n",
    "# plt.plot(k_index[:20:1], top_v_1600_list[:20:1], color = 'b', marker = 'd', label = 'Batch size = 1600')\n",
    "# plt.title('', size = 11)\n",
    "# plt.xlabel('k', size = 12)\n",
    "# plt.ylabel('V(k) of DGM', size = 12)\n",
    "# plt.grid(True)\n",
    "# plt.xticks(np.arange(0, 21, step = 2)) \n",
    "# plt.legend()\n",
    "# plt.savefig(\"V(k)_of_DGM.eps\", dpi = 120)\n",
    "# plt.show()"
   ]
  },
  {
   "cell_type": "code",
   "execution_count": null,
   "metadata": {},
   "outputs": [],
   "source": []
  },
  {
   "cell_type": "code",
   "execution_count": 21,
   "metadata": {},
   "outputs": [],
   "source": [
    "eigen_vals_of_DRM_100 = np.load(\"eigen_vals_of_DRM_100.npy\")\n",
    "eigen_vals_of_DRM_200 = np.load(\"eigen_vals_of_DRM_200.npy\")\n",
    "eigen_vals_of_DRM_400 = np.load(\"eigen_vals_of_DRM_400.npy\")\n",
    "eigen_vals_of_DRM_800 = np.load(\"eigen_vals_of_DRM_800.npy\")\n",
    "eigen_vals_of_DRM_1600 = np.load(\"eigen_vals_of_DRM_1600.npy\")"
   ]
  },
  {
   "cell_type": "code",
   "execution_count": 22,
   "metadata": {},
   "outputs": [
    {
     "name": "stdout",
     "output_type": "stream",
     "text": [
      "[ 1.24797517e+01  2.54614471e+00  8.98147013e-01  2.41244811e-01\n",
      "  5.97317319e-02  1.34290006e-02  9.49744775e-04  4.02028873e-04\n",
      "  3.39023772e-04  3.00149614e-04  1.20579377e-04  1.01412560e-04\n",
      "  9.79690904e-05  8.07844736e-05  7.03797677e-05  5.76367888e-05\n",
      "  3.66376620e-05  2.85564724e-05  2.53400901e-05  1.53050245e-05\n",
      "  1.29563450e-05  1.07350443e-05  8.10535858e-06  4.37907184e-06\n",
      "  2.19422387e-06  1.01822182e-07  1.22013060e-16  8.54300784e-17\n",
      " -5.90004102e-17 -6.91462651e-17 -6.91462651e-17 -5.95753787e-16\n",
      " -1.45733866e-07 -3.63394969e-07 -2.16746291e-06 -3.46683365e-06\n",
      " -5.87229224e-06 -7.53867835e-06 -9.84905427e-06 -1.19988602e-05\n",
      " -1.60404356e-05 -1.79659779e-05 -4.51955019e-05 -4.68550257e-05\n",
      " -6.48709847e-05 -7.35403328e-05 -8.52436928e-05 -9.98758029e-05\n",
      " -1.12609334e-04 -1.25630293e-04 -2.00183596e-04 -2.95431215e-04\n",
      " -6.58110155e-04]\n",
      "[-6.58110155e-04 -2.95431215e-04 -2.00183596e-04 -1.25630293e-04\n",
      " -1.12609334e-04 -9.98758029e-05 -8.52436928e-05 -7.35403328e-05\n",
      " -6.48709847e-05 -4.68550257e-05 -4.51955019e-05 -1.79659779e-05\n",
      " -1.60404356e-05 -1.19988602e-05 -9.84905427e-06 -7.53867835e-06\n",
      " -5.87229224e-06 -3.46683365e-06 -2.16746291e-06 -3.63394969e-07\n",
      " -1.45733866e-07 -5.95753787e-16 -6.91462651e-17 -6.91462651e-17\n",
      " -5.90004102e-17  8.54300784e-17  1.22013060e-16  1.01822182e-07\n",
      "  2.19422387e-06  4.37907184e-06  8.10535858e-06  1.07350443e-05\n",
      "  1.29563450e-05  1.53050245e-05  2.53400901e-05  2.85564724e-05\n",
      "  3.66376620e-05  5.76367888e-05  7.03797677e-05  8.07844736e-05\n",
      "  9.79690904e-05  1.01412560e-04  1.20579377e-04  3.00149614e-04\n",
      "  3.39023772e-04  4.02028873e-04  9.49744775e-04  1.34290006e-02\n",
      "  5.97317319e-02  2.41244811e-01  8.98147013e-01  2.54614471e+00\n",
      "  1.24797517e+01]\n"
     ]
    }
   ],
   "source": [
    "Finish_eigen_vals_of_DRM_100 = eigen_vals_of_DRM_100[:,200]\n",
    "data_1 = Finish_eigen_vals_of_DRM_100\n",
    "print(data_1)\n",
    "sort_data = np.sort(data_1)\n",
    "print(sort_data)"
   ]
  },
  {
   "cell_type": "code",
   "execution_count": 23,
   "metadata": {},
   "outputs": [
    {
     "name": "stdout",
     "output_type": "stream",
     "text": [
      "1.0962059454411286\n",
      "1.5020890284541455\n",
      "1.4554364581482762\n",
      "0.837894438750462\n",
      "-0.38590045431226916\n",
      "-2.257856762516206\n",
      "-5.280249849738115\n",
      "-8.675992604872423\n",
      "-12.145762453737209\n",
      "-15.668424664403691\n",
      "-19.58715162834084\n",
      "-23.581059882182302\n",
      "-27.58997080645335\n",
      "-31.68264290727316\n",
      "-35.83519507823037\n",
      "-40.074495302173254\n",
      "-44.5105675502193\n",
      "-49.05486299205746\n",
      "-53.65105483777732\n",
      "-58.46622080861892\n",
      "-63.35373830361698\n",
      "-68.32293446216407\n",
      "-73.41416222926189\n",
      "-78.77278015909292\n",
      "-84.43149922394302\n",
      "-91.4236568236109\n",
      "-107.33725050322201\n",
      "-123.40563969833873\n",
      "nan\n",
      "nan\n",
      "nan\n",
      "nan\n",
      "nan\n",
      "nan\n",
      "nan\n",
      "nan\n",
      "nan\n",
      "nan\n",
      "nan\n",
      "nan\n",
      "nan\n",
      "nan\n",
      "nan\n",
      "nan\n",
      "nan\n",
      "nan\n",
      "nan\n",
      "nan\n",
      "nan\n",
      "nan\n",
      "nan\n",
      "nan\n",
      "nan\n",
      "[1.0962059454411286, 1.5020890284541455, 1.4554364581482762, 0.837894438750462, -0.38590045431226916, -2.257856762516206, -5.280249849738115, -8.675992604872423, -12.145762453737209, -15.668424664403691, -19.58715162834084, -23.581059882182302, -27.58997080645335, -31.68264290727316, -35.83519507823037, -40.074495302173254, -44.5105675502193, -49.05486299205746, -53.65105483777732, -58.46622080861892, -63.35373830361698, -68.32293446216407, -73.41416222926189, -78.77278015909292, -84.43149922394302, -91.4236568236109, -107.33725050322201, -123.40563969833873, nan, nan, nan, nan, nan, nan, nan, nan, nan, nan, nan, nan, nan, nan, nan, nan, nan, nan, nan, nan, nan, nan, nan, nan, nan]\n"
     ]
    },
    {
     "name": "stderr",
     "output_type": "stream",
     "text": [
      "/Users/stark/opt/anaconda3/lib/python3.7/site-packages/ipykernel_launcher.py:4: RuntimeWarning: invalid value encountered in log10\n",
      "  after removing the cwd from sys.path.\n"
     ]
    }
   ],
   "source": [
    "def top_v_100_1(k):\n",
    "    top = 0.0\n",
    "    for i in range(k):\n",
    "        top = top + np.log10(data_1[i])        \n",
    "    return top\n",
    "\n",
    "top_v_100_list_1 = []\n",
    "for k in range(1, len(data_1)+1):\n",
    "    print(top_v_100_1(k))\n",
    "    top_v_100_list_1.append(top_v_100_1(k))\n",
    "\n",
    "print(top_v_100_list_1)"
   ]
  },
  {
   "cell_type": "code",
   "execution_count": 24,
   "metadata": {},
   "outputs": [
    {
     "name": "stdout",
     "output_type": "stream",
     "text": [
      "[ 5.59048183e+00  2.56282086e+00  1.59692514e-01  1.73387242e-02\n",
      "  1.08070253e-03  1.24027675e-04  7.45939615e-05  5.49479662e-05\n",
      "  3.86188746e-05  3.40681336e-05  2.85220962e-05  2.70255390e-05\n",
      "  1.93884370e-05  1.59891644e-05  1.17753063e-05  6.98946495e-06\n",
      "  2.98008721e-06  2.91500169e-06  2.35943662e-06  1.72045811e-06\n",
      "  1.43204480e-06  1.06027196e-06  5.77926430e-07  4.20952494e-07\n",
      "  3.92060325e-08  3.56575099e-08  1.23015888e-09  1.22455923e-10\n",
      "  1.60124957e-16  1.52071570e-16  4.24477220e-17 -2.89872004e-17\n",
      " -6.57666887e-17 -1.11408039e-16 -3.57303878e-09 -2.59744542e-08\n",
      " -7.34209074e-08 -5.27706955e-07 -7.02951621e-07 -7.23376150e-07\n",
      " -1.42667055e-06 -1.96245372e-06 -2.77500101e-06 -2.89277340e-06\n",
      " -2.98118308e-06 -4.91359054e-06 -8.79934661e-06 -1.41232460e-05\n",
      " -1.77168390e-05 -2.07123304e-05 -3.24786687e-05 -6.60515149e-05\n",
      " -8.16795788e-05]\n",
      "[-8.16795788e-05 -6.60515149e-05 -3.24786687e-05 -2.07123304e-05\n",
      " -1.77168390e-05 -1.41232460e-05 -8.79934661e-06 -4.91359054e-06\n",
      " -2.98118308e-06 -2.89277340e-06 -2.77500101e-06 -1.96245372e-06\n",
      " -1.42667055e-06 -7.23376150e-07 -7.02951621e-07 -5.27706955e-07\n",
      " -7.34209074e-08 -2.59744542e-08 -3.57303878e-09 -1.11408039e-16\n",
      " -6.57666887e-17 -2.89872004e-17  4.24477220e-17  1.52071570e-16\n",
      "  1.60124957e-16  1.22455923e-10  1.23015888e-09  3.56575099e-08\n",
      "  3.92060325e-08  4.20952494e-07  5.77926430e-07  1.06027196e-06\n",
      "  1.43204480e-06  1.72045811e-06  2.35943662e-06  2.91500169e-06\n",
      "  2.98008721e-06  6.98946495e-06  1.17753063e-05  1.59891644e-05\n",
      "  1.93884370e-05  2.70255390e-05  2.85220962e-05  3.40681336e-05\n",
      "  3.86188746e-05  5.49479662e-05  7.45939615e-05  1.24027675e-04\n",
      "  1.08070253e-03  1.73387242e-02  1.59692514e-01  2.56282086e+00\n",
      "  5.59048183e+00]\n"
     ]
    }
   ],
   "source": [
    "Finish_eigen_vals_of_DRM_200 = eigen_vals_of_DRM_200[:,200]\n",
    "data_1 = Finish_eigen_vals_of_DRM_200\n",
    "print(data_1)\n",
    "sort_data = np.sort(data_1)\n",
    "print(sort_data)"
   ]
  },
  {
   "cell_type": "code",
   "execution_count": 25,
   "metadata": {},
   "outputs": [
    {
     "name": "stdout",
     "output_type": "stream",
     "text": [
      "0.747449240062192\n",
      "1.1561674904674104\n",
      "0.3594520488555938\n",
      "-1.4015308130849653\n",
      "-4.367824646691712\n",
      "-8.274306042855919\n",
      "-12.401602370513844\n",
      "-16.661650748127965\n",
      "-21.074851133907686\n",
      "-25.54250279264839\n",
      "-30.087321352340222\n",
      "-34.65554698733443\n",
      "-39.368004187770026\n",
      "-44.16417841942022\n",
      "-49.09320620523968\n",
      "-54.24876227387498\n",
      "-59.7745332998126\n",
      "-65.30989448877374\n",
      "-70.93708617296346\n",
      "-76.7014420708931\n",
      "-82.54548546647712\n",
      "-88.52006819227101\n",
      "-94.75819563618887\n",
      "-101.1339625495331\n",
      "-108.54060965410439\n",
      "-115.98845864238785\n",
      "-124.89849743802937\n",
      "-134.81051764015155\n",
      "-150.6060586150702\n",
      "-166.42401058464515\n",
      "-182.79615619676412\n",
      "nan\n",
      "nan\n",
      "nan\n",
      "nan\n",
      "nan\n",
      "nan\n",
      "nan\n",
      "nan\n",
      "nan\n",
      "nan\n",
      "nan\n",
      "nan\n",
      "nan\n",
      "nan\n",
      "nan\n",
      "nan\n",
      "nan\n",
      "nan\n",
      "nan\n",
      "nan\n",
      "nan\n",
      "nan\n",
      "[0.747449240062192, 1.1561674904674104, 0.3594520488555938, -1.4015308130849653, -4.367824646691712, -8.274306042855919, -12.401602370513844, -16.661650748127965, -21.074851133907686, -25.54250279264839, -30.087321352340222, -34.65554698733443, -39.368004187770026, -44.16417841942022, -49.09320620523968, -54.24876227387498, -59.7745332998126, -65.30989448877374, -70.93708617296346, -76.7014420708931, -82.54548546647712, -88.52006819227101, -94.75819563618887, -101.1339625495331, -108.54060965410439, -115.98845864238785, -124.89849743802937, -134.81051764015155, -150.6060586150702, -166.42401058464515, -182.79615619676412, nan, nan, nan, nan, nan, nan, nan, nan, nan, nan, nan, nan, nan, nan, nan, nan, nan, nan, nan, nan, nan, nan]\n"
     ]
    },
    {
     "name": "stderr",
     "output_type": "stream",
     "text": [
      "/Users/stark/opt/anaconda3/lib/python3.7/site-packages/ipykernel_launcher.py:4: RuntimeWarning: invalid value encountered in log10\n",
      "  after removing the cwd from sys.path.\n"
     ]
    }
   ],
   "source": [
    "def top_v_200_1(k):\n",
    "    top = 0.0\n",
    "    for i in range(k):\n",
    "        top = top + np.log10(data_1[i])        \n",
    "    return top\n",
    "\n",
    "top_v_200_list_1 = []\n",
    "for k in range(1, len(data_1)+1):\n",
    "    print(top_v_200_1(k))\n",
    "    top_v_200_list_1.append(top_v_200_1(k))\n",
    "\n",
    "print(top_v_200_list_1)"
   ]
  },
  {
   "cell_type": "code",
   "execution_count": 26,
   "metadata": {},
   "outputs": [
    {
     "name": "stdout",
     "output_type": "stream",
     "text": [
      "[ 1.22046703e+01  3.72515220e+00  2.56150553e-01  8.54972834e-03\n",
      "  6.78601124e-04  1.26582882e-04  7.85768784e-05  2.93259460e-05\n",
      "  2.28882610e-05  1.70949142e-05  1.55791562e-05  1.50985630e-05\n",
      "  1.11477985e-05  9.50972044e-06  7.58752112e-06  6.08082362e-06\n",
      "  5.65099011e-06  4.43625367e-06  2.00950865e-06  1.89766444e-06\n",
      "  1.59685978e-06  1.08622863e-06  8.21612587e-07  1.75904287e-07\n",
      "  9.02845004e-08  3.97436189e-08  4.21663289e-10  1.58469637e-16\n",
      "  1.28856803e-16 -8.15888706e-17 -7.67237364e-16 -1.06144265e-15\n",
      " -1.40979044e-15 -7.12672971e-10 -2.94636553e-08 -1.06349269e-07\n",
      " -4.78627630e-07 -7.62347471e-07 -8.29986480e-07 -1.06759645e-06\n",
      " -1.52755223e-06 -1.80482630e-06 -2.57629435e-06 -3.02752347e-06\n",
      " -5.14685653e-06 -5.64993411e-06 -6.60385805e-06 -8.67461501e-06\n",
      " -1.29553890e-05 -1.38102601e-05 -2.11457485e-05 -2.66556743e-05\n",
      " -5.94030354e-05]\n",
      "[-5.94030354e-05 -2.66556743e-05 -2.11457485e-05 -1.38102601e-05\n",
      " -1.29553890e-05 -8.67461501e-06 -6.60385805e-06 -5.64993411e-06\n",
      " -5.14685653e-06 -3.02752347e-06 -2.57629435e-06 -1.80482630e-06\n",
      " -1.52755223e-06 -1.06759645e-06 -8.29986480e-07 -7.62347471e-07\n",
      " -4.78627630e-07 -1.06349269e-07 -2.94636553e-08 -7.12672971e-10\n",
      " -1.40979044e-15 -1.06144265e-15 -7.67237364e-16 -8.15888706e-17\n",
      "  1.28856803e-16  1.58469637e-16  4.21663289e-10  3.97436189e-08\n",
      "  9.02845004e-08  1.75904287e-07  8.21612587e-07  1.08622863e-06\n",
      "  1.59685978e-06  1.89766444e-06  2.00950865e-06  4.43625367e-06\n",
      "  5.65099011e-06  6.08082362e-06  7.58752112e-06  9.50972044e-06\n",
      "  1.11477985e-05  1.50985630e-05  1.55791562e-05  1.70949142e-05\n",
      "  2.28882610e-05  2.93259460e-05  7.85768784e-05  1.26582882e-04\n",
      "  6.78601124e-04  8.54972834e-03  2.56150553e-01  3.72515220e+00\n",
      "  1.22046703e+01]\n"
     ]
    }
   ],
   "source": [
    "Finish_eigen_vals_of_DRM_400 = eigen_vals_of_DRM_400[:,200]\n",
    "data_1 = Finish_eigen_vals_of_DRM_400\n",
    "print(data_1)\n",
    "sort_data = np.sort(data_1)\n",
    "print(sort_data)"
   ]
  },
  {
   "cell_type": "code",
   "execution_count": 27,
   "metadata": {},
   "outputs": [
    {
     "name": "stdout",
     "output_type": "stream",
     "text": [
      "1.0865260532016139\n",
      "1.6576700750427733\n",
      "1.0661653734419672\n",
      "-1.0018823107230685\n",
      "-4.1702677359589435\n",
      "-8.067892758054759\n",
      "-12.172597986091919\n",
      "-16.705345955880013\n",
      "-21.34573315860821\n",
      "-26.112866233988907\n",
      "-30.920322301597608\n",
      "-35.74138668565943\n",
      "-40.694197575072444\n",
      "-45.71602982482826\n",
      "-50.835929911690826\n",
      "-56.051967505007404\n",
      "-61.299842957892984\n",
      "-66.65282658582849\n",
      "-72.34973670678622\n",
      "-78.07151728777893\n",
      "-83.86825050567357\n",
      "-89.83232925827649\n",
      "-95.91766217439032\n",
      "-102.6723857496254\n",
      "-109.71677255060706\n",
      "-117.11750514117163\n",
      "-126.4925393491378\n",
      "-142.29259328534988\n",
      "-158.18248593462866\n",
      "nan\n",
      "nan\n",
      "nan\n",
      "nan\n",
      "nan\n",
      "nan\n",
      "nan\n",
      "nan\n",
      "nan\n",
      "nan\n",
      "nan\n",
      "nan\n",
      "nan\n",
      "nan\n",
      "nan\n",
      "nan\n",
      "nan\n",
      "nan\n",
      "nan\n",
      "nan\n",
      "nan\n",
      "nan\n",
      "nan\n",
      "nan\n",
      "[1.0865260532016139, 1.6576700750427733, 1.0661653734419672, -1.0018823107230685, -4.1702677359589435, -8.067892758054759, -12.172597986091919, -16.705345955880013, -21.34573315860821, -26.112866233988907, -30.920322301597608, -35.74138668565943, -40.694197575072444, -45.71602982482826, -50.835929911690826, -56.051967505007404, -61.299842957892984, -66.65282658582849, -72.34973670678622, -78.07151728777893, -83.86825050567357, -89.83232925827649, -95.91766217439032, -102.6723857496254, -109.71677255060706, -117.11750514117163, -126.4925393491378, -142.29259328534988, -158.18248593462866, nan, nan, nan, nan, nan, nan, nan, nan, nan, nan, nan, nan, nan, nan, nan, nan, nan, nan, nan, nan, nan, nan, nan, nan]\n"
     ]
    },
    {
     "name": "stderr",
     "output_type": "stream",
     "text": [
      "/Users/stark/opt/anaconda3/lib/python3.7/site-packages/ipykernel_launcher.py:4: RuntimeWarning: invalid value encountered in log10\n",
      "  after removing the cwd from sys.path.\n"
     ]
    }
   ],
   "source": [
    "def top_v_400_1(k):\n",
    "    top = 0.0\n",
    "    for i in range(k):\n",
    "        top = top + np.log10(data_1[i])        \n",
    "    return top\n",
    "\n",
    "top_v_400_list_1 = []\n",
    "for k in range(1, len(data_1)+1):\n",
    "    print(top_v_400_1(k))\n",
    "    top_v_400_list_1.append(top_v_400_1(k))\n",
    "\n",
    "print(top_v_400_list_1)"
   ]
  },
  {
   "cell_type": "code",
   "execution_count": 28,
   "metadata": {},
   "outputs": [
    {
     "name": "stdout",
     "output_type": "stream",
     "text": [
      "[ 1.04896687e+01  4.69603378e+00  3.65772230e-01  1.59713035e-02\n",
      "  6.68967423e-04  3.65275583e-04  1.27769073e-04  4.24903450e-05\n",
      "  3.70344782e-05  1.89513625e-05  1.77300318e-05  1.32215395e-05\n",
      "  1.27233995e-05  1.07236672e-05  1.01118367e-05  9.10451809e-06\n",
      "  8.60068416e-06  8.34199792e-06  7.67983594e-06  6.81174790e-06\n",
      "  6.48368847e-06  6.06174234e-06  4.86760590e-06  3.84641872e-06\n",
      "  3.62018877e-06  2.27258018e-06  1.65925293e-07  1.72541119e-15\n",
      "  5.90377197e-16  2.07233333e-17 -4.63540063e-16 -1.23622409e-15\n",
      " -1.58323940e-15 -5.56203667e-11 -1.40124531e-09 -2.01573592e-08\n",
      " -5.92384058e-08 -7.24269410e-07 -8.90610177e-07 -1.83888122e-06\n",
      " -2.41693535e-06 -3.96137334e-06 -4.87101659e-06 -5.89211647e-06\n",
      " -7.61219947e-06 -8.07268448e-06 -8.29906433e-06 -9.76120502e-06\n",
      " -1.03262066e-05 -1.47338199e-05 -1.52626885e-05 -3.47476637e-05\n",
      " -6.93881203e-05]\n",
      "[-6.93881203e-05 -3.47476637e-05 -1.52626885e-05 -1.47338199e-05\n",
      " -1.03262066e-05 -9.76120502e-06 -8.29906433e-06 -8.07268448e-06\n",
      " -7.61219947e-06 -5.89211647e-06 -4.87101659e-06 -3.96137334e-06\n",
      " -2.41693535e-06 -1.83888122e-06 -8.90610177e-07 -7.24269410e-07\n",
      " -5.92384058e-08 -2.01573592e-08 -1.40124531e-09 -5.56203667e-11\n",
      " -1.58323940e-15 -1.23622409e-15 -4.63540063e-16  2.07233333e-17\n",
      "  5.90377197e-16  1.72541119e-15  1.65925293e-07  2.27258018e-06\n",
      "  3.62018877e-06  3.84641872e-06  4.86760590e-06  6.06174234e-06\n",
      "  6.48368847e-06  6.81174790e-06  7.67983594e-06  8.34199792e-06\n",
      "  8.60068416e-06  9.10451809e-06  1.01118367e-05  1.07236672e-05\n",
      "  1.27233995e-05  1.32215395e-05  1.77300318e-05  1.89513625e-05\n",
      "  3.70344782e-05  4.24903450e-05  1.27769073e-04  3.65275583e-04\n",
      "  6.68967423e-04  1.59713035e-02  3.65772230e-01  4.69603378e+00\n",
      "  1.04896687e+01]\n"
     ]
    }
   ],
   "source": [
    "Finish_eigen_vals_of_DRM_1600 = eigen_vals_of_DRM_1600[:,200]\n",
    "data_1 = Finish_eigen_vals_of_DRM_1600\n",
    "print(data_1)\n",
    "sort_data = np.sort(data_1)\n",
    "print(sort_data)"
   ]
  },
  {
   "cell_type": "code",
   "execution_count": 29,
   "metadata": {},
   "outputs": [
    {
     "name": "stdout",
     "output_type": "stream",
     "text": [
      "1.020761771322985\n",
      "1.692492984000224\n",
      "1.2557037142406169\n",
      "-0.5409559222240563\n",
      "-3.7155509532423823\n",
      "-7.152930310499308\n",
      "-11.046504565599768\n",
      "-15.418214308227395\n",
      "-19.849608078364835\n",
      "-24.571967639720913\n",
      "-29.3232581250023\n",
      "-34.201976097900946\n",
      "-39.09737293270816\n",
      "-44.06702960623073\n",
      "-49.062199559809685\n",
      "-54.102942596642805\n",
      "-59.16840959701693\n",
      "-64.24713951980847\n",
      "-69.3617875775198\n",
      "-74.52852901102634\n",
      "-79.71670687172018\n",
      "-84.93410939905206\n",
      "-90.24679398977209\n",
      "-95.661737430029\n",
      "-101.10300621339502\n",
      "-106.74648699843071\n",
      "-113.52657440414079\n",
      "-128.28968179412237\n",
      "-143.5185522192783\n",
      "-160.2020926082548\n",
      "nan\n",
      "nan\n",
      "nan\n",
      "nan\n",
      "nan\n",
      "nan\n",
      "nan\n",
      "nan\n",
      "nan\n",
      "nan\n",
      "nan\n",
      "nan\n",
      "nan\n",
      "nan\n",
      "nan\n",
      "nan\n",
      "nan\n",
      "nan\n",
      "nan\n",
      "nan\n",
      "nan\n",
      "nan\n",
      "nan\n",
      "[1.020761771322985, 1.692492984000224, 1.2557037142406169, -0.5409559222240563, -3.7155509532423823, -7.152930310499308, -11.046504565599768, -15.418214308227395, -19.849608078364835, -24.571967639720913, -29.3232581250023, -34.201976097900946, -39.09737293270816, -44.06702960623073, -49.062199559809685, -54.102942596642805, -59.16840959701693, -64.24713951980847, -69.3617875775198, -74.52852901102634, -79.71670687172018, -84.93410939905206, -90.24679398977209, -95.661737430029, -101.10300621339502, -106.74648699843071, -113.52657440414079, -128.28968179412237, -143.5185522192783, -160.2020926082548, nan, nan, nan, nan, nan, nan, nan, nan, nan, nan, nan, nan, nan, nan, nan, nan, nan, nan, nan, nan, nan, nan, nan]\n"
     ]
    },
    {
     "name": "stderr",
     "output_type": "stream",
     "text": [
      "/Users/stark/opt/anaconda3/lib/python3.7/site-packages/ipykernel_launcher.py:4: RuntimeWarning: invalid value encountered in log10\n",
      "  after removing the cwd from sys.path.\n"
     ]
    }
   ],
   "source": [
    "def top_v_1600_1(k):\n",
    "    top = 0.0\n",
    "    for i in range(k):\n",
    "        top = top + np.log10(data_1[i])        \n",
    "    return top\n",
    "\n",
    "top_v_1600_list_1 = []\n",
    "for k in range(1, len(data_1)+1):\n",
    "    print(top_v_1600_1(k))\n",
    "    top_v_1600_list_1.append(top_v_1600_1(k))\n",
    "\n",
    "print(top_v_1600_list_1)"
   ]
  },
  {
   "cell_type": "code",
   "execution_count": null,
   "metadata": {},
   "outputs": [],
   "source": []
  },
  {
   "cell_type": "code",
   "execution_count": 36,
   "metadata": {},
   "outputs": [
    {
     "data": {
      "image/png": "[encoded data removed]",
      "text/plain": [
       "<Figure size 432x288 with 1 Axes>"
      ]
     },
     "metadata": {},
     "output_type": "display_data"
    }
   ],
   "source": [
    "import matplotlib.pylab as plt \n",
    "import matplotlib.pyplot as mp\n",
    "import numpy as np\n",
    "plt.style.use(\"seaborn-dark\")\n",
    "\n",
    "k_index = [int(i + 1) for i in range(len(data))]\n",
    "\n",
    "plt.plot(k_index[:10:1], top_v_100_list[:10:1], color = 'r', marker = '*', label = 'Batch size = 100 (DGM)')\n",
    "plt.plot(k_index[:10:1], top_v_200_list[:10:1], color = 'g', marker = '+', label = 'Batch size = 200 (DGM)')\n",
    "plt.plot(k_index[:10:1], top_v_400_list[:10:1], color = 'orange', marker = 'o', label = 'Batch size = 400 (DGM)')\n",
    "plt.plot(k_index[:10:1], top_v_1600_list[:10:1], color = 'b', marker = 'd', label = 'Batch size = 1600 (DGM)')\n",
    "\n",
    "plt.plot(k_index[:10:1], top_v_100_list_1[:10:1], color = 'r', marker = '*', linestyle='dashed', label = 'Batch size = 100 (DRM)')\n",
    "plt.plot(k_index[:10:1], top_v_200_list_1[:10:1], color = 'g', marker = '+', linestyle='dashed', label = 'Batch size = 200 (DRM)')\n",
    "plt.plot(k_index[:10:1], top_v_400_list_1[:10:1], color = 'orange', marker = 'o', linestyle='dashed', label = 'Batch size = 400 (DRM)')\n",
    "plt.plot(k_index[:10:1], top_v_1600_list_1[:10:1], color = 'b', marker = 'd', linestyle='dashed',label = 'Batch size = 1600 (DRM)')\n",
    "plt.title('', size = 11)\n",
    "plt.xlabel('k', size = 12)\n",
    "plt.ylabel('V(k)', size = 12)\n",
    "plt.grid(True)\n",
    "plt.xticks(np.arange(0, 11, step = 1)) \n",
    "plt.legend()\n",
    "plt.savefig(\"V(k)_of_DGM_and_DRM.eps\", dpi = 120)\n",
    "plt.show()"
   ]
  },
  {
   "cell_type": "code",
   "execution_count": null,
   "metadata": {},
   "outputs": [],
   "source": []
  },
  {
   "cell_type": "code",
   "execution_count": null,
   "metadata": {},
   "outputs": [],
   "source": []
  },
  {
   "cell_type": "code",
   "execution_count": null,
   "metadata": {},
   "outputs": [],
   "source": []
  },
  {
   "cell_type": "code",
   "execution_count": null,
   "metadata": {},
   "outputs": [],
   "source": []
  },
  {
   "cell_type": "code",
   "execution_count": null,
   "metadata": {},
   "outputs": [],
   "source": []
  }
 ],
 "metadata": {
  "kernelspec": {
   "display_name": "Python 3",
   "language": "python",
   "name": "python3"
  },
  "language_info": {
   "codemirror_mode": {
    "name": "ipython",
    "version": 3
   },
   "file_extension": ".py",
   "mimetype": "text/x-python",
   "name": "python",
   "nbconvert_exporter": "python",
   "pygments_lexer": "ipython3",
   "version": "3.6.8"
  }
 },
 "nbformat": 4,
 "nbformat_minor": 4
}
