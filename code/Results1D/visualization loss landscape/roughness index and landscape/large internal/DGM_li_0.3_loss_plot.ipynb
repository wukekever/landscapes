{
 "cells": [
  {
   "cell_type": "code",
   "execution_count": null,
   "metadata": {},
   "outputs": [],
   "source": [
    "from matplotlib import cm\n",
    "import matplotlib.pylab as plt \n",
    "import matplotlib.pyplot as mp\n",
    "import numpy as np\n",
    "plt.style.use(\"seaborn-dark\") # print(plt.style.available)\n",
    "from mpl_toolkits.mplot3d import Axes3D\n",
    "import seaborn as sns\n",
    "sns.set()\n",
    "# import matplotlib.pyplot as plt"
   ]
  },
  {
   "cell_type": "code",
   "execution_count": null,
   "metadata": {},
   "outputs": [],
   "source": [
    "loss_matrix = np.load(\"loss_matrix_DGM_li_0.3.npy\")"
   ]
  },
  {
   "cell_type": "code",
   "execution_count": null,
   "metadata": {},
   "outputs": [],
   "source": [
    "step_size = 0.03\n",
    "grid = np.arange(-0.3, 0.3 + step_size, step_size)"
   ]
  },
  {
   "cell_type": "code",
   "execution_count": null,
   "metadata": {},
   "outputs": [],
   "source": [
    "fig = plt.figure(figsize = (12, 10))\n",
    " \n",
    "ax = fig.add_subplot(projection='3d') \n",
    "\n",
    "mp.gcf().set_facecolor(np.ones(3) * 240/255)\n",
    "\n",
    "# make data\n",
    "xx = np.arange(-0.3, 0.3 + step_size, step_size)\n",
    "yy = np.arange(-0.3, 0.3 + step_size, step_size) \n",
    "x, y = np.meshgrid(xx, yy)\n",
    "z = np.zeros((len(grid), len(grid)))\n",
    "\n",
    "for dx in grid:\n",
    "    for dy in grid:\n",
    "        itemindex_1 = np.argwhere(grid == dx)\n",
    "        itemindex_2 = np.argwhere(grid == dy)\n",
    "        z[itemindex_1[0][0], itemindex_2[0][0]] = loss_matrix[itemindex_1[0][0], itemindex_2[0][0]]\n",
    "\n",
    "# plot the surface\n",
    "ax.plot_surface(x, y, z, cmap = 'rainbow', label = 'loss lanscape', linewidth = 0.5)\n",
    "\n",
    "plt.title('Loss landscape of DGM')\n",
    "ax.set_xlabel('Direction 1', size = 12) \n",
    "ax.set_ylabel('Direction 2', size = 12)\n",
    "ax.set_zlabel('Loss', size = 12)\n",
    "plt.savefig(\"Loss_landscape3D_of_DGM_ResNet_li0.3.eps\", dpi = 120)\n",
    "plt.show()"
   ]
  },
  {
   "cell_type": "code",
   "execution_count": null,
   "metadata": {},
   "outputs": [],
   "source": [
    "# set figure: length = 10 width = 6\n",
    "mp.figure(figsize = (10, 6))\n",
    "\n",
    "# fill color\n",
    "# mp.contourf(x, y, z, 100, cmap = mp.cm.hot)\n",
    "cset = mp.contourf(x, y, z, 100, cmap = mp.cm.rainbow)\n",
    "# or plt.contourf(X,Y,Z, cmap = 'rainbow')\n",
    "\n",
    "contour = mp.contour(x, y, z, 8, colors = 'k')\n",
    "\n",
    "# label\n",
    "mp.clabel(contour, fontsize = 12, colors = 'k')\n",
    "mp.xlabel('direction 1')\n",
    "mp.ylabel('direction 2')\n",
    " \n",
    "# show bar\n",
    "mp.colorbar(cset)\n",
    "plt.savefig(\"Loss_landscape2D_of_DGM_ResNet_li0.3.eps\", dpi = 120)\n",
    "mp.show()"
   ]
  },
  {
   "cell_type": "code",
   "execution_count": null,
   "metadata": {},
   "outputs": [],
   "source": []
  }
 ],
 "metadata": {
  "kernelspec": {
   "display_name": "Python 3",
   "language": "python",
   "name": "python3"
  },
  "language_info": {
   "codemirror_mode": {
    "name": "ipython",
    "version": 3
   },
   "file_extension": ".py",
   "mimetype": "text/x-python",
   "name": "python",
   "nbconvert_exporter": "python",
   "pygments_lexer": "ipython3",
   "version": "3.7.6"
  }
 },
 "nbformat": 4,
 "nbformat_minor": 4
}
