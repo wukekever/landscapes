{
 "cells": [
  {
   "cell_type": "code",
   "execution_count": 1,
   "metadata": {},
   "outputs": [],
   "source": [
    "import numpy as np\n",
    "import matplotlib.pyplot as plt"
   ]
  },
  {
   "cell_type": "code",
   "execution_count": 2,
   "metadata": {},
   "outputs": [],
   "source": [
    "loss_of_DGM = np.load(\"loss_of_DGM_200.npy\")\n",
    "loss_else_of_DGM = np.load(\"loss_else_of_DGM_200.npy\")\n",
    "error_of_DGM = np.load(\"error_of_DGM_200.npy\")\n",
    "\n",
    "loss_of_DRM = np.load(\"loss_of_DRM_200.npy\")\n",
    "loss_else_of_DRM = np.load(\"loss_else_of_DRM_200.npy\")\n",
    "error_of_DRM = np.load(\"error_of_DRM_200.npy\")"
   ]
  },
  {
   "cell_type": "code",
   "execution_count": 3,
   "metadata": {},
   "outputs": [],
   "source": [
    "epoch = [i for i in range(10000)][750::40]\n",
    "\n",
    "Loss_of_DGM = list(loss_of_DGM)[750::40]\n",
    "Loss_else_of_DGM = list(loss_else_of_DGM)[750::40]\n",
    "Error_of_DGM = list(error_of_DGM)[750::40]\n",
    "\n",
    "Loss_of_DRM = list(loss_of_DRM)[750::40]\n",
    "Loss_else_of_DRM = list(loss_else_of_DRM)[750::40]\n",
    "Error_of_DRM = list(error_of_DRM)[750::40]"
   ]
  },
  {
   "cell_type": "code",
   "execution_count": 4,
   "metadata": {},
   "outputs": [],
   "source": [
    "# Loss_of_DGM[-1]"
   ]
  },
  {
   "cell_type": "code",
   "execution_count": 5,
   "metadata": {},
   "outputs": [],
   "source": [
    "# Loss_else_of_DGM[-1]"
   ]
  },
  {
   "cell_type": "code",
   "execution_count": 6,
   "metadata": {},
   "outputs": [],
   "source": [
    "# Loss_of_DRM[-1]"
   ]
  },
  {
   "cell_type": "code",
   "execution_count": 7,
   "metadata": {},
   "outputs": [],
   "source": [
    "# Loss_else_of_DRM[-1]"
   ]
  },
  {
   "cell_type": "code",
   "execution_count": 8,
   "metadata": {},
   "outputs": [],
   "source": [
    "# Error_of_DGM[-1]"
   ]
  },
  {
   "cell_type": "code",
   "execution_count": 9,
   "metadata": {},
   "outputs": [],
   "source": [
    "# Error_of_DRM[-1]"
   ]
  },
  {
   "cell_type": "code",
   "execution_count": 10,
   "metadata": {},
   "outputs": [],
   "source": [
    "# import matplotlib.pylab as plt\n",
    "# # import matplotlib.pyplot as mp\n",
    "# import numpy as np\n",
    "\n",
    "# plt.style.use(\"seaborn-dark\") # print(plt.style.available)\n",
    "# plt.gcf().set_facecolor(np.ones(3) * 240/255) \n",
    "\n",
    "# fig, ax1 = plt.subplots(figsize = (12, 10))\n",
    "# ax1.plot(epoch, Error_of_DGM, color = \"orangered\", linestyle= \"-\", marker = \".\", linewidth = 1.0 , label = \"Error of DGM\")\n",
    "# plt.legend(loc = 'upper left', bbox_to_anchor = (0.75, 0.95))\n",
    "# plt.grid(True, linestyle = '-')\n",
    "\n",
    "# plt.savefig(\"error_of_DGM_DRM.eps\", dpi = 120)"
   ]
  },
  {
   "cell_type": "code",
   "execution_count": 11,
   "metadata": {},
   "outputs": [],
   "source": [
    "# plt.figure(figsize=(12,10))\n",
    "# plt.plot(epoch, Loss_of_DGM, color = \"r\", linestyle= \"-.\", marker = \".\", linewidth = 0.5, label = \"Loss of DGM\")\n",
    "# plt.plot(epoch, Loss_else_of_DGM, color = \"b\", linestyle= \"-.\", marker = \".\", linewidth = 0.5, label = \"Loss else of DGM\")\n",
    "# plt.xlabel(\"epoch\")\n",
    "# plt.ylabel(\"loss\")\n",
    "# plt.legend(loc = 'upper left', bbox_to_anchor = (0.7, 0.95))\n",
    "# # plt.savefig(\"loss_of_DGM.eps\", dpi = 120)\n",
    "# plt.show() "
   ]
  },
  {
   "cell_type": "code",
   "execution_count": 12,
   "metadata": {},
   "outputs": [],
   "source": [
    "# plt.figure(figsize=(12,10))\n",
    "# plt.plot(epoch, Loss_of_DRM, color = \"r\", linestyle= \"-.\", marker = \".\", linewidth = 0.5, label = \"Loss of DRM\")\n",
    "# plt.plot(epoch, Loss_else_of_DRM, color = \"b\", linestyle= \"-.\", marker = \".\", linewidth = 0.5, label = \"Loss else of DRM\")\n",
    "# plt.xlabel(\"epoch\")\n",
    "# plt.ylabel(\"loss\")\n",
    "# plt.legend(loc = 'upper left', bbox_to_anchor = (0.7, 0.95))\n",
    "# # plt.savefig(\"loss_of_DRM.eps\", dpi = 120)\n",
    "# plt.show()"
   ]
  },
  {
   "cell_type": "code",
   "execution_count": 13,
   "metadata": {},
   "outputs": [],
   "source": [
    "# plt.figure(figsize = (12,10))\n",
    "# fig,ax1 = plt.subplots()\n",
    "\n",
    "# ax2 = ax1.twinx()\n",
    "# ax1.plot(epoch, Loss_of_DGM, color = \"r\", linestyle= \"-\", marker = \".\", linewidth = 0.15, label = \"Loss of DGM\")\n",
    "# ax2.plot(epoch, Loss_else_of_DGM, color = \"b\", linestyle= \"-\", marker = \"+\", linewidth = 0.15, label = \"Loss else of DGM\")\n",
    "\n",
    "# ax1.set_xlabel('epoch')\n",
    "# ax1.set_ylabel('loss of DGM', color = 'r')\n",
    "# ax2.set_ylabel('loss else of DGM', color = 'b')\n",
    "\n",
    "# # plt.savefig(\"loss_of_DGM.eps\", dpi = 120)\n",
    "# plt.show()"
   ]
  },
  {
   "cell_type": "code",
   "execution_count": 14,
   "metadata": {},
   "outputs": [],
   "source": [
    "# plt.figure(figsize = (12,10))\n",
    "# fig,ax1 = plt.subplots()\n",
    "\n",
    "# ax2 = ax1.twinx()\n",
    "# ax1.plot(epoch, Loss_of_DRM, color = \"r\", linestyle= \"-\", marker = \".\", linewidth = 0.15, label = \"Loss of DRM\")\n",
    "# ax2.plot(epoch, Loss_else_of_DRM, color = \"b\", linestyle= \"-\", marker = \"+\", linewidth = 0.15, label = \"Loss else of DRM\")\n",
    "\n",
    "# ax1.set_xlabel('epoch')\n",
    "# ax1.set_ylabel('loss of DRM', color = 'r')\n",
    "# ax2.set_ylabel('loss else of DRM', color = 'b')\n",
    "\n",
    "# # plt.savefig(\"loss_of_DRM.eps\", dpi = 120)\n",
    "# plt.show()"
   ]
  },
  {
   "cell_type": "code",
   "execution_count": 28,
   "metadata": {},
   "outputs": [
    {
     "data": {
      "text/plain": [
       "<Figure size 432x288 with 0 Axes>"
      ]
     },
     "metadata": {},
     "output_type": "display_data"
    },
    {
     "data": {
      "image/png": "[encoded data removed]",
      "text/plain": [
       "<Figure size 864x720 with 2 Axes>"
      ]
     },
     "metadata": {},
     "output_type": "display_data"
    }
   ],
   "source": [
    "import matplotlib.pylab as plt\n",
    "# import matplotlib.pyplot as mp\n",
    "import numpy as np\n",
    "\n",
    "plt.style.use(\"seaborn-dark\") # print(plt.style.available)\n",
    "plt.gcf().set_facecolor(np.ones(3) * 240/255) \n",
    "\n",
    "\n",
    "fig, ax1 = plt.subplots(figsize = (12, 10))\n",
    "ax1.plot(epoch, Loss_of_DGM, color = \"g\", linestyle= \"-.\", linewidth = 2.5 , label = \"DGM\")\n",
    "plt.legend(loc = 'upper left', bbox_to_anchor = (0.85, 0.95))\n",
    "plt.grid(True, linestyle = '-')\n",
    "\n",
    "ax1.set(xlim=(0, 10000), ylim=(1e-10, 1e-2))\n",
    "\n",
    "\n",
    "ax2 = ax1.twinx()\n",
    "ax2.plot(epoch, Loss_else_of_DGM, color = \"r\", linestyle= \"-\", linewidth = 2.5, label = \"DRM\")\n",
    "plt.legend(loc = 'upper left', bbox_to_anchor = (0.85, 0.90))\n",
    "# plt.grid(True, linestyle = '-.')\n",
    "\n",
    "\n",
    "ax1.set_xlabel('Epoch', size = 20)\n",
    "ax1.set_ylabel('Loss of DGM', color = 'k', size = 20)\n",
    "ax2.set_ylabel('Loss of DRM', color = 'k', size = 20)\n",
    "# plt.gcf().autofmt_xdate() \n",
    "\n",
    "# plt.title('Training trajectories for loss of DGM and DRM', size = 16)\n",
    "\n",
    "plt.savefig(\"LosscompareDGM.eps\", dpi = 120)\n",
    "plt.show()"
   ]
  },
  {
   "cell_type": "code",
   "execution_count": 27,
   "metadata": {},
   "outputs": [
    {
     "data": {
      "text/plain": [
       "<Figure size 432x288 with 0 Axes>"
      ]
     },
     "metadata": {},
     "output_type": "display_data"
    },
    {
     "data": {
      "image/png": "[encoded data removed]",
      "text/plain": [
       "<Figure size 864x720 with 2 Axes>"
      ]
     },
     "metadata": {},
     "output_type": "display_data"
    }
   ],
   "source": [
    "import matplotlib.pylab as plt\n",
    "# import matplotlib.pyplot as mp\n",
    "import numpy as np\n",
    "\n",
    "plt.style.use(\"seaborn-dark\") # print(plt.style.available)\n",
    "plt.gcf().set_facecolor(np.ones(3) * 240/255) \n",
    "\n",
    "\n",
    "fig, ax1 = plt.subplots(figsize = (12, 10))\n",
    "ax1.plot(epoch, Loss_of_DRM, color = \"r\", linestyle= \"-.\", linewidth = 2.5 , label = \"DRM\")\n",
    "plt.legend(loc = 'upper left', bbox_to_anchor = (0.85, 0.95))\n",
    "plt.grid(True, linestyle = '-')\n",
    "# ax1.set(xlim=(0, 10000), ylim=(-2.5, 0.0))\n",
    "\n",
    "ax2 = ax1.twinx()\n",
    "ax2.plot(epoch, Loss_else_of_DRM, color = \"g\", linestyle= \"-\", linewidth = 2.5, label = \"DGM\")\n",
    "plt.legend(loc = 'upper left', bbox_to_anchor = (0.85, 0.90))\n",
    "# plt.grid(True, linestyle = '-.')\n",
    "\n",
    "\n",
    "ax1.set_xlabel('Epoch', size = 20)\n",
    "ax1.set_ylabel('Loss of DRM', color = 'k', size = 20)\n",
    "ax2.set_ylabel('Loss of DGM', color = 'k', size = 20)\n",
    "# plt.gcf().autofmt_xdate() \n",
    "\n",
    "\n",
    "# plt.title('Training trajectories for loss of DGM and DRM', size = 16)\n",
    "\n",
    "plt.savefig(\"LosscompareDRM.eps\", dpi = 120)\n",
    "plt.show()"
   ]
  },
  {
   "cell_type": "code",
   "execution_count": null,
   "metadata": {},
   "outputs": [],
   "source": [
    "# import matplotlib.pylab as plt\n",
    "# # import matplotlib.pyplot as mp\n",
    "# import numpy as np\n",
    "\n",
    "# plt.style.use(\"seaborn-dark\") # print(plt.style.available)\n",
    "# plt.gcf().set_facecolor(np.ones(3) * 240/255) \n",
    "\n",
    "# fig, ax1 = plt.subplots(figsize = (12, 10))\n",
    "# ax1.plot(epoch, Loss_of_DRM, color = \"orangered\", linestyle= \"-\", marker = \".\", linewidth = 1.0 , label = \"Loss of DRM\")\n",
    "# plt.legend(loc = 'upper left', bbox_to_anchor = (0.75, 0.95))\n",
    "# plt.grid(True, linestyle = '-')\n",
    "\n",
    "# ax2 = ax1.twinx()\n",
    "# ax2.plot(epoch, Loss_else_of_DRM, color = \"blue\", linestyle= \"-.\", marker = \"*\", linewidth = 0.25, label = \"Loss else of DRM\")\n",
    "# plt.legend(loc = 'upper left', bbox_to_anchor = (0.75, 0.90))\n",
    "# # plt.grid(True, linestyle = '-.')\n",
    "\n",
    "# ax1.set_xlabel('epoch', size = 12)\n",
    "# ax1.set_ylabel('Loss value of DRM', color = 'k', size = 12)\n",
    "# ax2.set_ylabel('Loss value of DGM', color = 'k', size = 12)\n",
    "# # plt.gcf().autofmt_xdate() \n",
    "\n",
    "# plt.title('Training trajectories of DGM and DRM when using DRM', size = 16)\n",
    "\n",
    "# plt.savefig(\"loss_of_DRM_DGM.eps\", dpi = 120)\n",
    "# plt.show()\n"
   ]
  },
  {
   "cell_type": "code",
   "execution_count": null,
   "metadata": {},
   "outputs": [],
   "source": []
  },
  {
   "cell_type": "code",
   "execution_count": null,
   "metadata": {},
   "outputs": [],
   "source": [
    "import matplotlib.pylab as plt\n",
    "# import matplotlib.pyplot as mp\n",
    "import numpy as np\n",
    "\n",
    "plt.style.use(\"seaborn-dark\") # print(plt.style.available)\n",
    "plt.gcf().set_facecolor(np.ones(3) * 240/255) \n",
    "\n",
    "fig, ax1 = plt.subplots(figsize = (12, 10))\n",
    "ax1.plot(epoch, Error_of_DRM, color = \"blue\", linestyle= \"-\", marker = \"*\", linewidth = 1.0 , label = \"Error of DRM\")\n",
    "plt.legend(loc = 'upper left', bbox_to_anchor = (0.75, 0.95))\n",
    "plt.grid(True, linestyle = '-')\n",
    "\n",
    "plt.savefig(\"error_of_DRM_DGM.eps\", dpi = 120)"
   ]
  },
  {
   "cell_type": "code",
   "execution_count": null,
   "metadata": {},
   "outputs": [],
   "source": [
    "eigen_vals_of_DGM_200 = np.load(\"eigen_vals_of_DGM_200.npy\")"
   ]
  },
  {
   "cell_type": "code",
   "execution_count": null,
   "metadata": {},
   "outputs": [],
   "source": [
    "top_1_eigen_vals_of_DGM_200 = eigen_vals_of_DGM_200[0,0:200]\n",
    "top_2_eigen_vals_of_DGM_200 = eigen_vals_of_DGM_200[1,0:200]\n",
    "top_3_eigen_vals_of_DGM_200 = eigen_vals_of_DGM_200[2,0:200]\n",
    "top_4_eigen_vals_of_DGM_200 = eigen_vals_of_DGM_200[3,0:200]\n",
    "top_5_eigen_vals_of_DGM_200 = eigen_vals_of_DGM_200[4,0:200]"
   ]
  },
  {
   "cell_type": "code",
   "execution_count": null,
   "metadata": {},
   "outputs": [],
   "source": [
    "print(top_1_eigen_vals_of_DGM_200[-1])\n",
    "print(top_2_eigen_vals_of_DGM_200[-1])\n",
    "print(top_3_eigen_vals_of_DGM_200[-1])\n",
    "print(top_4_eigen_vals_of_DGM_200[-1])\n",
    "print(top_5_eigen_vals_of_DGM_200[-1])\n",
    "print(np.log10(top_1_eigen_vals_of_DGM_200[-1]*top_2_eigen_vals_of_DGM_200[-1]*top_3_eigen_vals_of_DGM_200[-1]*top_4_eigen_vals_of_DGM_200[-1]))"
   ]
  },
  {
   "cell_type": "code",
   "execution_count": null,
   "metadata": {},
   "outputs": [],
   "source": [
    "bottom_1_eigen_vals_of_DGM_200 = eigen_vals_of_DGM_200[-1,0:200]\n",
    "bottom_2_eigen_vals_of_DGM_200 = eigen_vals_of_DGM_200[-2,0:200]\n",
    "bottom_3_eigen_vals_of_DGM_200 = eigen_vals_of_DGM_200[-3,0:200]\n",
    "bottom_4_eigen_vals_of_DGM_200 = eigen_vals_of_DGM_200[-4,0:200]\n",
    "bottom_5_eigen_vals_of_DGM_200 = eigen_vals_of_DGM_200[-5,0:200]"
   ]
  },
  {
   "cell_type": "code",
   "execution_count": null,
   "metadata": {},
   "outputs": [],
   "source": [
    "Epoch = [i for i in range(len(top_1_eigen_vals_of_DGM_200))]\n",
    "Top_1_eigen_vals_of_DGM_200 = list(top_1_eigen_vals_of_DGM_200)\n",
    "Top_2_eigen_vals_of_DGM_200 = list(top_2_eigen_vals_of_DGM_200)\n",
    "Top_3_eigen_vals_of_DGM_200 = list(top_3_eigen_vals_of_DGM_200)\n",
    "Top_4_eigen_vals_of_DGM_200 = list(top_4_eigen_vals_of_DGM_200)\n",
    "Top_5_eigen_vals_of_DGM_200 = list(top_5_eigen_vals_of_DGM_200)"
   ]
  },
  {
   "cell_type": "code",
   "execution_count": null,
   "metadata": {},
   "outputs": [],
   "source": [
    "Bottom_1_eigen_vals_of_DGM_200 = list(bottom_1_eigen_vals_of_DGM_200)\n",
    "Bottom_2_eigen_vals_of_DGM_200 = list(bottom_2_eigen_vals_of_DGM_200)\n",
    "Bottom_3_eigen_vals_of_DGM_200 = list(bottom_3_eigen_vals_of_DGM_200)\n",
    "Bottom_4_eigen_vals_of_DGM_200 = list(bottom_4_eigen_vals_of_DGM_200)\n",
    "Bottom_5_eigen_vals_of_DGM_200 = list(bottom_5_eigen_vals_of_DGM_200)"
   ]
  },
  {
   "cell_type": "code",
   "execution_count": null,
   "metadata": {},
   "outputs": [],
   "source": [
    "plt.figure(figsize=(12,10))\n",
    "plt.plot(Epoch, Top_1_eigen_vals_of_DGM_200, color = \"r\", linestyle= \"-.\", marker = \".\", linewidth = 0.5, label = \"Top_1_eigen_vals\")\n",
    "plt.plot(Epoch, Top_2_eigen_vals_of_DGM_200, color = \"k\", linestyle= \"-.\", marker = \".\", linewidth = 0.5, label = \"Top_2_eigen_vals\")\n",
    "plt.plot(Epoch, Top_3_eigen_vals_of_DGM_200, color = \"b\", linestyle= \"-.\", marker = \".\", linewidth = 0.5, label = \"Top_3_eigen_vals\")\n",
    "plt.plot(Epoch, Top_4_eigen_vals_of_DGM_200, color = \"g\", linestyle= \"-.\", marker = \".\", linewidth = 0.5, label = \"Top_4_eigen_vals\")\n",
    "plt.plot(Epoch, Top_5_eigen_vals_of_DGM_200, color = \"y\", linestyle= \"-.\", marker = \".\", linewidth = 0.5, label = \"Top_5_eigen_vals\")\n",
    "plt.plot(Epoch, Bottom_1_eigen_vals_of_DGM_200, color = \"r\", linestyle= \"-.\", marker = \"+\", linewidth = 0.5, label = \"Bottom_1_eigen_vals\")\n",
    "plt.plot(Epoch, Bottom_2_eigen_vals_of_DGM_200, color = \"k\", linestyle= \"-.\", marker = \"+\", linewidth = 0.5, label = \"Bottom_2_eigen_vals\")\n",
    "plt.plot(Epoch, Bottom_3_eigen_vals_of_DGM_200, color = \"b\", linestyle= \"-.\", marker = \"+\", linewidth = 0.5, label = \"Bottom_3_eigen_vals\")\n",
    "plt.plot(Epoch, Bottom_4_eigen_vals_of_DGM_200, color = \"g\", linestyle= \"-.\", marker = \"+\", linewidth = 0.5, label = \"Bottom_4_eigen_vals\")\n",
    "plt.plot(Epoch, Bottom_5_eigen_vals_of_DGM_200, color = \"y\", linestyle= \"-.\", marker = \"+\", linewidth = 0.5, label = \"Bottom_5_eigen_vals\")\n",
    "plt.xlabel(\"epoch ( * 50)\")\n",
    "plt.ylabel(\"top and bottom five eigen values of DGM (grid size = 200)\")\n",
    "plt.legend(loc = 'upper left', bbox_to_anchor = (0.7, 0.95))\n",
    "# plt.savefig(\"eigen_vals_of_DGM_200.eps\", dpi = 120)\n",
    "plt.show() "
   ]
  },
  {
   "cell_type": "code",
   "execution_count": null,
   "metadata": {},
   "outputs": [],
   "source": []
  },
  {
   "cell_type": "code",
   "execution_count": null,
   "metadata": {},
   "outputs": [],
   "source": [
    "eigen_vals_of_DGM_200 = np.load(\"eigen_vals_of_DRM_200.npy\")"
   ]
  },
  {
   "cell_type": "code",
   "execution_count": null,
   "metadata": {},
   "outputs": [],
   "source": [
    "top_1_eigen_vals_of_DGM_200 = eigen_vals_of_DGM_200[0,0:200]\n",
    "top_2_eigen_vals_of_DGM_200 = eigen_vals_of_DGM_200[1,0:200]\n",
    "top_3_eigen_vals_of_DGM_200 = eigen_vals_of_DGM_200[2,0:200]\n",
    "top_4_eigen_vals_of_DGM_200 = eigen_vals_of_DGM_200[3,0:200]\n",
    "top_5_eigen_vals_of_DGM_200 = eigen_vals_of_DGM_200[4,0:200]"
   ]
  },
  {
   "cell_type": "code",
   "execution_count": null,
   "metadata": {},
   "outputs": [],
   "source": [
    "print(top_1_eigen_vals_of_DGM_200[-1])\n",
    "print(top_2_eigen_vals_of_DGM_200[-1])\n",
    "print(top_3_eigen_vals_of_DGM_200[-1])\n",
    "print(top_4_eigen_vals_of_DGM_200[-1])\n",
    "print(top_5_eigen_vals_of_DGM_200[-1])\n",
    "print(np.log10(top_1_eigen_vals_of_DGM_200[-1]*top_2_eigen_vals_of_DGM_200[-1]*top_3_eigen_vals_of_DGM_200[-1]))"
   ]
  },
  {
   "cell_type": "code",
   "execution_count": null,
   "metadata": {},
   "outputs": [],
   "source": [
    "bottom_1_eigen_vals_of_DGM_200 = eigen_vals_of_DGM_200[-1,0:200]\n",
    "bottom_2_eigen_vals_of_DGM_200 = eigen_vals_of_DGM_200[-2,0:200]\n",
    "bottom_3_eigen_vals_of_DGM_200 = eigen_vals_of_DGM_200[-3,0:200]\n",
    "bottom_4_eigen_vals_of_DGM_200 = eigen_vals_of_DGM_200[-4,0:200]\n",
    "bottom_5_eigen_vals_of_DGM_200 = eigen_vals_of_DGM_200[-5,0:200]"
   ]
  },
  {
   "cell_type": "code",
   "execution_count": null,
   "metadata": {},
   "outputs": [],
   "source": [
    "Epoch = [i for i in range(len(top_1_eigen_vals_of_DGM_200))]\n",
    "Top_1_eigen_vals_of_DGM_200 = list(top_1_eigen_vals_of_DGM_200)\n",
    "Top_2_eigen_vals_of_DGM_200 = list(top_2_eigen_vals_of_DGM_200)\n",
    "Top_3_eigen_vals_of_DGM_200 = list(top_3_eigen_vals_of_DGM_200)\n",
    "Top_4_eigen_vals_of_DGM_200 = list(top_4_eigen_vals_of_DGM_200)\n",
    "Top_5_eigen_vals_of_DGM_200 = list(top_5_eigen_vals_of_DGM_200)"
   ]
  },
  {
   "cell_type": "code",
   "execution_count": null,
   "metadata": {},
   "outputs": [],
   "source": [
    "Bottom_1_eigen_vals_of_DGM_200 = list(bottom_1_eigen_vals_of_DGM_200)\n",
    "Bottom_2_eigen_vals_of_DGM_200 = list(bottom_2_eigen_vals_of_DGM_200)\n",
    "Bottom_3_eigen_vals_of_DGM_200 = list(bottom_3_eigen_vals_of_DGM_200)\n",
    "Bottom_4_eigen_vals_of_DGM_200 = list(bottom_4_eigen_vals_of_DGM_200)\n",
    "Bottom_5_eigen_vals_of_DGM_200 = list(bottom_5_eigen_vals_of_DGM_200)"
   ]
  },
  {
   "cell_type": "code",
   "execution_count": null,
   "metadata": {},
   "outputs": [],
   "source": [
    "plt.figure(figsize=(12,10))\n",
    "plt.plot(Epoch, Top_1_eigen_vals_of_DGM_200, color = \"r\", linestyle= \"-.\", marker = \".\", linewidth = 0.5, label = \"Top_1_eigen_vals\")\n",
    "plt.plot(Epoch, Top_2_eigen_vals_of_DGM_200, color = \"k\", linestyle= \"-.\", marker = \".\", linewidth = 0.5, label = \"Top_2_eigen_vals\")\n",
    "plt.plot(Epoch, Top_3_eigen_vals_of_DGM_200, color = \"b\", linestyle= \"-.\", marker = \".\", linewidth = 0.5, label = \"Top_3_eigen_vals\")\n",
    "plt.plot(Epoch, Top_4_eigen_vals_of_DGM_200, color = \"g\", linestyle= \"-.\", marker = \".\", linewidth = 0.5, label = \"Top_4_eigen_vals\")\n",
    "plt.plot(Epoch, Top_5_eigen_vals_of_DGM_200, color = \"y\", linestyle= \"-.\", marker = \".\", linewidth = 0.5, label = \"Top_5_eigen_vals\")\n",
    "plt.plot(Epoch, Bottom_1_eigen_vals_of_DGM_200, color = \"r\", linestyle= \"-.\", marker = \"+\", linewidth = 0.5, label = \"Bottom_1_eigen_vals\")\n",
    "plt.plot(Epoch, Bottom_2_eigen_vals_of_DGM_200, color = \"k\", linestyle= \"-.\", marker = \"+\", linewidth = 0.5, label = \"Bottom_2_eigen_vals\")\n",
    "plt.plot(Epoch, Bottom_3_eigen_vals_of_DGM_200, color = \"b\", linestyle= \"-.\", marker = \"+\", linewidth = 0.5, label = \"Bottom_3_eigen_vals\")\n",
    "plt.plot(Epoch, Bottom_4_eigen_vals_of_DGM_200, color = \"g\", linestyle= \"-.\", marker = \"+\", linewidth = 0.5, label = \"Bottom_4_eigen_vals\")\n",
    "plt.plot(Epoch, Bottom_5_eigen_vals_of_DGM_200, color = \"y\", linestyle= \"-.\", marker = \"+\", linewidth = 0.5, label = \"Bottom_5_eigen_vals\")\n",
    "plt.xlabel(\"epoch ( * 50)\")\n",
    "plt.ylabel(\"top and bottom five eigen values of DRM (grid size = 200)\")\n",
    "plt.legend(loc = 'upper left', bbox_to_anchor = (0.7, 0.95))\n",
    "# plt.savefig(\"eigen_vals_of_DRM_200.eps\", dpi = 120)\n",
    "plt.show() "
   ]
  },
  {
   "cell_type": "code",
   "execution_count": null,
   "metadata": {},
   "outputs": [],
   "source": []
  }
 ],
 "metadata": {
  "kernelspec": {
   "display_name": "Python 3",
   "language": "python",
   "name": "python3"
  },
  "language_info": {
   "codemirror_mode": {
    "name": "ipython",
    "version": 3
   },
   "file_extension": ".py",
   "mimetype": "text/x-python",
   "name": "python",
   "nbconvert_exporter": "python",
   "pygments_lexer": "ipython3",
   "version": "3.7.6"
  }
 },
 "nbformat": 4,
 "nbformat_minor": 4
}
