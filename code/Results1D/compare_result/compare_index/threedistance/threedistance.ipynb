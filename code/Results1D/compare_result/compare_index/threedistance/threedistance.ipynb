{
 "cells": [
  {
   "cell_type": "code",
   "execution_count": 1,
   "metadata": {},
   "outputs": [],
   "source": [
    "import torch\n",
    "import torch.nn as nn\n",
    "import numpy as np\n",
    "from math import *"
   ]
  },
  {
   "cell_type": "code",
   "execution_count": 2,
   "metadata": {},
   "outputs": [],
   "source": [
    "# activation function\n",
    "def activation(x):\n",
    "    return x * torch.sigmoid(x)"
   ]
  },
  {
   "cell_type": "code",
   "execution_count": 3,
   "metadata": {},
   "outputs": [],
   "source": [
    "# build ResNet with one blocks\n",
    "class Net(torch.nn.Module):\n",
    "    def __init__(self,input_width,layer_width):\n",
    "        super(Net,self).__init__()\n",
    "        self.layer_in = torch.nn.Linear(input_width, layer_width)\n",
    "        self.layer1 = torch.nn.Linear(layer_width, layer_width)\n",
    "        self.layer2 = torch.nn.Linear(layer_width, layer_width)\n",
    "        self.layer_out = torch.nn.Linear(layer_width, 1)\n",
    "    def forward(self,x):\n",
    "        y = self.layer_in(x)\n",
    "        y = y + activation(self.layer2(activation(self.layer1(y)))) # residual block 1\n",
    "        output = self.layer_out(y)\n",
    "        return output"
   ]
  },
  {
   "cell_type": "code",
   "execution_count": 4,
   "metadata": {},
   "outputs": [],
   "source": [
    "dimension = 1"
   ]
  },
  {
   "cell_type": "code",
   "execution_count": 5,
   "metadata": {},
   "outputs": [],
   "source": [
    "input_width,layer_width = dimension, 4"
   ]
  },
  {
   "cell_type": "code",
   "execution_count": 6,
   "metadata": {},
   "outputs": [],
   "source": [
    "net = Net(input_width,layer_width)"
   ]
  },
  {
   "cell_type": "code",
   "execution_count": 7,
   "metadata": {},
   "outputs": [
    {
     "data": {
      "text/plain": [
       "<All keys matched successfully>"
      ]
     },
     "execution_count": 7,
     "metadata": {},
     "output_type": "execute_result"
    }
   ],
   "source": [
    "# load model parameters\n",
    "pretrained_dict = torch.load('net_params_DGM.pkl', map_location = 'cpu')\n",
    "\n",
    "# get state_dict\n",
    "net_state_dict = net.state_dict()\n",
    "\n",
    "# remove keys that does not belong to net_state_dict\n",
    "pretrained_dict_1 = {k: v for k, v in pretrained_dict.items() if k in net_state_dict}\n",
    "\n",
    "# update dict\n",
    "net_state_dict.update(pretrained_dict_1)\n",
    "\n",
    "# set new dict back to net\n",
    "net.load_state_dict(net_state_dict)"
   ]
  },
  {
   "cell_type": "code",
   "execution_count": 8,
   "metadata": {},
   "outputs": [
    {
     "name": "stdout",
     "output_type": "stream",
     "text": [
      "tensor([-0.2179, -0.7552,  0.4469,  1.1701])\n",
      "tensor([-0.3287,  0.4343, -0.5646,  0.1575])\n",
      "tensor([-0.2099,  0.3082, -0.4854, -0.2760,  0.1566, -0.1074, -0.4325,  0.1162,\n",
      "        -0.4324, -0.2633,  0.0114, -0.0235,  0.4624, -0.1638,  0.4224, -0.3636])\n",
      "tensor([-0.3637,  0.2681, -0.4810,  0.1562])\n",
      "tensor([ 0.1101, -0.0567,  0.2634, -0.4340, -0.4977, -0.3339, -0.2240, -0.2326,\n",
      "         0.3019, -0.3750,  0.3615,  0.0318, -0.4894, -0.2256, -0.4991, -0.4308])\n",
      "tensor([ 0.0697,  0.1143,  0.3273, -0.0598])\n",
      "tensor([ 1.1556, -1.7318,  0.8062, -0.2845])\n",
      "tensor([-0.2985])\n"
     ]
    }
   ],
   "source": [
    "param_DGM = torch.Tensor([0.])\n",
    "for name,param in net.named_parameters(): \n",
    "    size = param.size()\n",
    "    if len(size) == 2:\n",
    "        print(param.detach().cpu().view(1, size[0]*size[1])[0])\n",
    "        param_DGM = torch.cat((param_DGM, param.detach().cpu().view(1, size[0]*size[1])[0]), dim = 0)\n",
    "    else:\n",
    "        print(param.detach().cpu().view(1, size[0])[0])\n",
    "        param_DGM = torch.cat((param_DGM, param.detach().cpu().view(1, size[0])[0]), dim = 0)"
   ]
  },
  {
   "cell_type": "code",
   "execution_count": 9,
   "metadata": {},
   "outputs": [
    {
     "data": {
      "text/plain": [
       "<All keys matched successfully>"
      ]
     },
     "execution_count": 9,
     "metadata": {},
     "output_type": "execute_result"
    }
   ],
   "source": [
    "# load model parameters\n",
    "pretrained_dict = torch.load('net_params_DRM.pkl', map_location = 'cpu')\n",
    "\n",
    "# get state_dict\n",
    "net_state_dict = net.state_dict()\n",
    "\n",
    "# remove keys that does not belong to net_state_dict\n",
    "pretrained_dict_1 = {k: v for k, v in pretrained_dict.items() if k in net_state_dict}\n",
    "\n",
    "# update dict\n",
    "net_state_dict.update(pretrained_dict_1)\n",
    "\n",
    "# set new dict back to net\n",
    "net.load_state_dict(net_state_dict)"
   ]
  },
  {
   "cell_type": "code",
   "execution_count": 10,
   "metadata": {},
   "outputs": [
    {
     "name": "stdout",
     "output_type": "stream",
     "text": [
      "tensor([-1.5141,  0.6419,  1.7847, -0.0447])\n",
      "tensor([-0.2507,  0.4893, -0.7086,  0.4046])\n",
      "tensor([-0.2099,  0.3082, -0.4854, -0.2760,  0.1566, -0.1074, -0.4325,  0.1162,\n",
      "        -0.4324, -0.2633,  0.0114, -0.0235,  0.4624, -0.1638,  0.4224, -0.3636])\n",
      "tensor([-0.3637,  0.2681, -0.4810,  0.1562])\n",
      "tensor([ 0.1101, -0.0567,  0.2634, -0.4340, -0.4977, -0.3339, -0.2240, -0.2326,\n",
      "         0.3019, -0.3750,  0.3615,  0.0318, -0.4894, -0.2256, -0.4991, -0.4308])\n",
      "tensor([ 0.0697,  0.1143,  0.3273, -0.0598])\n",
      "tensor([ 0.4888,  0.5074, -0.1846, -0.9395])\n",
      "tensor([-0.1878])\n"
     ]
    }
   ],
   "source": [
    "param_DRM = torch.Tensor([0.])\n",
    "for name,param in net.named_parameters(): \n",
    "    size = param.size()\n",
    "    if len(size) == 2:\n",
    "        print(param.detach().cpu().view(1, size[0]*size[1])[0])\n",
    "        param_DRM = torch.cat((param_DRM, param.detach().cpu().view(1, size[0]*size[1])[0]), dim = 0)\n",
    "    else:\n",
    "        print(param.detach().cpu().view(1, size[0])[0])\n",
    "        param_DRM = torch.cat((param_DRM, param.detach().cpu().view(1, size[0])[0]), dim = 0)"
   ]
  },
  {
   "cell_type": "code",
   "execution_count": 11,
   "metadata": {},
   "outputs": [
    {
     "data": {
      "text/plain": [
       "<All keys matched successfully>"
      ]
     },
     "execution_count": 11,
     "metadata": {},
     "output_type": "execute_result"
    }
   ],
   "source": [
    "# load model parameters\n",
    "pretrained_dict = torch.load('net_params_DRM_to_DGM.pkl', map_location = 'cpu')\n",
    "\n",
    "# get state_dict\n",
    "net_state_dict = net.state_dict()\n",
    "\n",
    "# remove keys that does not belong to net_state_dict\n",
    "pretrained_dict_1 = {k: v for k, v in pretrained_dict.items() if k in net_state_dict}\n",
    "\n",
    "# update dict\n",
    "net_state_dict.update(pretrained_dict_1)\n",
    "\n",
    "# set new dict back to net\n",
    "net.load_state_dict(net_state_dict)"
   ]
  },
  {
   "cell_type": "code",
   "execution_count": 12,
   "metadata": {},
   "outputs": [
    {
     "name": "stdout",
     "output_type": "stream",
     "text": [
      "tensor([-1.4766,  0.7718,  1.7552, -0.0758])\n",
      "tensor([-0.2490,  0.7030, -0.7673,  0.3942])\n",
      "tensor([-0.2099,  0.3082, -0.4854, -0.2760,  0.1566, -0.1074, -0.4325,  0.1162,\n",
      "        -0.4324, -0.2633,  0.0114, -0.0235,  0.4624, -0.1638,  0.4224, -0.3636])\n",
      "tensor([-0.3637,  0.2681, -0.4810,  0.1562])\n",
      "tensor([ 0.1101, -0.0567,  0.2634, -0.4340, -0.4977, -0.3339, -0.2240, -0.2326,\n",
      "         0.3019, -0.3750,  0.3615,  0.0318, -0.4894, -0.2256, -0.4991, -0.4308])\n",
      "tensor([ 0.0697,  0.1143,  0.3273, -0.0598])\n",
      "tensor([ 0.3549,  0.5734, -0.1157, -0.9831])\n",
      "tensor([-0.0702])\n"
     ]
    }
   ],
   "source": [
    "param_DRM_tilde = torch.Tensor([0.])\n",
    "for name,param in net.named_parameters(): \n",
    "    size = param.size()\n",
    "    if len(size) == 2:\n",
    "        print(param.detach().cpu().view(1, size[0]*size[1])[0])\n",
    "        param_DRM_tilde = torch.cat((param_DRM_tilde, param.detach().cpu().view(1, size[0]*size[1])[0]), dim = 0)\n",
    "    else:\n",
    "        print(param.detach().cpu().view(1, size[0])[0])\n",
    "        param_DRM_tilde = torch.cat((param_DRM_tilde, param.detach().cpu().view(1, size[0])[0]), dim = 0)"
   ]
  },
  {
   "cell_type": "code",
   "execution_count": 13,
   "metadata": {},
   "outputs": [
    {
     "name": "stdout",
     "output_type": "stream",
     "text": [
      "L2 Distance of two DGM and DRM min is:  tensor(3.7243)\n",
      "Linf Distance of two DGM and DRM min is:  tensor(2.2392)\n"
     ]
    }
   ],
   "source": [
    "error = torch.sum((param_DGM - param_DRM)**2)**0.5\n",
    "print('L2 Distance of two DGM and DRM min is: ', error)\n",
    "error_max = torch.max((param_DGM - param_DRM)**2)\n",
    "print('Linf Distance of two DGM and DRM min is: ', error_max**0.5)"
   ]
  },
  {
   "cell_type": "code",
   "execution_count": 14,
   "metadata": {},
   "outputs": [
    {
     "name": "stdout",
     "output_type": "stream",
     "text": [
      "L2 Distance of two DGM and DRM_tilde min is:  tensor(3.8342)\n",
      "Linf Distance of two DGM and DRM_tilde min is:  tensor(2.3052)\n"
     ]
    }
   ],
   "source": [
    "error = torch.sum((param_DGM - param_DRM_tilde)**2)**0.5\n",
    "print('L2 Distance of two DGM and DRM_tilde min is: ', error)\n",
    "error_max = torch.max((param_DGM - param_DRM_tilde)**2)\n",
    "print('Linf Distance of two DGM and DRM_tilde min is: ', error_max**0.5)"
   ]
  },
  {
   "cell_type": "code",
   "execution_count": 15,
   "metadata": {},
   "outputs": [
    {
     "name": "stdout",
     "output_type": "stream",
     "text": [
      "L2 Distance of two DRM and DRM_tilde min is:  tensor(0.3349)\n",
      "Linf Distance of two DRM and DRM_tilde min is:  tensor(0.2138)\n"
     ]
    }
   ],
   "source": [
    "error = torch.sum((param_DRM - param_DRM_tilde)**2)**0.5\n",
    "print('L2 Distance of two DRM and DRM_tilde min is: ', error)\n",
    "error_max = torch.max((param_DRM - param_DRM_tilde)**2)\n",
    "print('Linf Distance of two DRM and DRM_tilde min is: ', error_max**0.5)"
   ]
  },
  {
   "cell_type": "code",
   "execution_count": null,
   "metadata": {},
   "outputs": [],
   "source": []
  },
  {
   "cell_type": "code",
   "execution_count": null,
   "metadata": {},
   "outputs": [],
   "source": []
  }
 ],
 "metadata": {
  "kernelspec": {
   "display_name": "Python 3",
   "language": "python",
   "name": "python3"
  },
  "language_info": {
   "codemirror_mode": {
    "name": "ipython",
    "version": 3
   },
   "file_extension": ".py",
   "mimetype": "text/x-python",
   "name": "python",
   "nbconvert_exporter": "python",
   "pygments_lexer": "ipython3",
   "version": "3.6.8"
  }
 },
 "nbformat": 4,
 "nbformat_minor": 4
}
