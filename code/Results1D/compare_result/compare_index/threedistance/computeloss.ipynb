{
 "cells": [
  {
   "cell_type": "code",
   "execution_count": 1,
   "metadata": {},
   "outputs": [],
   "source": [
    "import numpy as np\n",
    "import random\n",
    "from math import *\n",
    "import time\n",
    "\n",
    "import copy\n",
    "\n",
    "import torch\n",
    "from torch.autograd import Variable\n",
    "import torch.nn as nn\n",
    "import torch.nn.functional as F\n",
    "torch.set_default_tensor_type('torch.DoubleTensor')"
   ]
  },
  {
   "cell_type": "code",
   "execution_count": 2,
   "metadata": {},
   "outputs": [],
   "source": [
    "# defination of activation function\n",
    "def activation(x):\n",
    "    return x * torch.sigmoid(x) "
   ]
  },
  {
   "cell_type": "code",
   "execution_count": 3,
   "metadata": {},
   "outputs": [],
   "source": [
    "# build ResNet with one blocks\n",
    "class Net(nn.Module):\n",
    "    def __init__(self,input_size,width):\n",
    "        super(Net,self).__init__()\n",
    "        self.layer_in = nn.Linear(input_size,width)\n",
    "        self.layer_1 = nn.Linear(width,width)\n",
    "        self.layer_2 = nn.Linear(width,width)\n",
    "        self.layer_out = nn.Linear(width,1)\n",
    "    def forward(self,x):\n",
    "        output = self.layer_in(x)\n",
    "        output = output + activation(self.layer_2(activation(self.layer_1(output)))) # residual block 1\n",
    "        output = self.layer_out(output)\n",
    "        return output"
   ]
  },
  {
   "cell_type": "code",
   "execution_count": 4,
   "metadata": {},
   "outputs": [],
   "source": [
    "input_size = 1\n",
    "width = 4"
   ]
  },
  {
   "cell_type": "code",
   "execution_count": 5,
   "metadata": {},
   "outputs": [],
   "source": [
    "# exact solution\n",
    "def u_ex(x):  \n",
    "    return torch.sin(pi*x)"
   ]
  },
  {
   "cell_type": "code",
   "execution_count": 6,
   "metadata": {},
   "outputs": [],
   "source": [
    "# f(x)\n",
    "def f(x):\n",
    "    return pi**2 * torch.sin(pi*x)"
   ]
  },
  {
   "cell_type": "code",
   "execution_count": 7,
   "metadata": {},
   "outputs": [],
   "source": [
    "grid_num = 200\n",
    "x = torch.zeros(grid_num + 1, input_size)\n",
    "for index in range(grid_num + 1):\n",
    "    x[index] = index * 1 / grid_num"
   ]
  },
  {
   "cell_type": "code",
   "execution_count": 8,
   "metadata": {},
   "outputs": [],
   "source": [
    "net = Net(input_size,width)"
   ]
  },
  {
   "cell_type": "code",
   "execution_count": 9,
   "metadata": {},
   "outputs": [],
   "source": [
    "def model(x):\n",
    "    return x * (x - 1.0) * net(x)"
   ]
  },
  {
   "cell_type": "code",
   "execution_count": 10,
   "metadata": {},
   "outputs": [],
   "source": [
    "# loss function to DGM by auto differential\n",
    "def loss_function_G(x):\n",
    "    h = 1 / grid_num\n",
    "    sum_0 = 0.0\n",
    "    sum_1 = 0.0\n",
    "    sum_2 = 0.0\n",
    "    sum_a = 0.0\n",
    "    sum_b = 0.0\n",
    "    for index in range(grid_num):\n",
    "        x_temp = x[index] + h / 2 \n",
    "        x_temp.requires_grad = True\n",
    "        \n",
    "        grad_x_temp = torch.autograd.grad(outputs = model(x_temp), inputs = x_temp, grad_outputs = torch.ones(model(x_temp).shape), create_graph = True)\n",
    "        grad_grad_x_temp = torch.autograd.grad(outputs = grad_x_temp[0], inputs = x_temp, grad_outputs = torch.ones(model(x_temp).shape), create_graph = True)\n",
    "            \n",
    "        sum_1 += ((grad_grad_x_temp[0])[0] + f(x_temp)[0])**2\n",
    "    \n",
    "    for index in range(1, grid_num):\n",
    "        x_temp = x[index]\n",
    "        x_temp.requires_grad = True\n",
    "        \n",
    "        grad_x_temp = torch.autograd.grad(outputs = model(x_temp), inputs = x_temp, grad_outputs = torch.ones(model(x_temp).shape), create_graph = True)\n",
    "        grad_grad_x_temp = torch.autograd.grad(outputs = grad_x_temp[0], inputs = x_temp, grad_outputs = torch.ones(model(x_temp).shape), create_graph = True)\n",
    "        \n",
    "        sum_2 += ((grad_grad_x_temp[0])[0] + f(x_temp)[0])**2\n",
    "    \n",
    "    x_temp = x[0]\n",
    "    x_temp.requires_grad = True\n",
    "\n",
    "    grad_x_temp = torch.autograd.grad(outputs = model(x_temp), inputs = x_temp, grad_outputs = torch.ones(model(x_temp).shape), create_graph = True)\n",
    "    grad_grad_x_temp = torch.autograd.grad(outputs = grad_x_temp[0], inputs = x_temp, grad_outputs = torch.ones(model(x_temp).shape), create_graph = True)\n",
    "        \n",
    "    sum_a = ((grad_grad_x_temp[0])[0] + f(x_temp)[0])**2\n",
    "    \n",
    "    x_temp = x[grid_num]\n",
    "    x_temp.requires_grad = True\n",
    "    \n",
    "    grad_x_temp = torch.autograd.grad(outputs = model(x_temp), inputs = x_temp, grad_outputs = torch.ones(model(x_temp).shape), create_graph = True)\n",
    "    grad_grad_x_temp = torch.autograd.grad(outputs = grad_x_temp[0], inputs = x_temp, grad_outputs = torch.ones(model(x_temp).shape), create_graph = True)\n",
    "    \n",
    "    sum_b = ((grad_grad_x_temp[0])[0] + f(x_temp)[0])**2\n",
    "    \n",
    "    sum_0 = h / 6 * (sum_a + 4 * sum_1 + 2 * sum_2 + sum_b)\n",
    "    return sum_0"
   ]
  },
  {
   "cell_type": "code",
   "execution_count": 11,
   "metadata": {},
   "outputs": [],
   "source": [
    "# loss function to DRM by auto differential\n",
    "def loss_function_R(x):\n",
    "    h = 1 / grid_num\n",
    "    sum_0 = 0.0\n",
    "    sum_1 = 0.0\n",
    "    sum_2 = 0.0\n",
    "    sum_a = 0.0\n",
    "    sum_b = 0.0\n",
    "    for index in range(grid_num):\n",
    "        x_temp = x[index] + h / 2 \n",
    "        x_temp.requires_grad = True\n",
    "        grad_x_temp = torch.autograd.grad(outputs = model(x_temp), inputs = x_temp, grad_outputs = torch.ones(model(x_temp).shape), create_graph = True)\n",
    "        sum_1 += (0.5*grad_x_temp[0]**2 - f(x_temp)[0]*model(x_temp)[0])\n",
    "        \n",
    "    for index in range(1, grid_num):\n",
    "        x_temp = x[index]\n",
    "        x_temp.requires_grad = True\n",
    "        grad_x_temp = torch.autograd.grad(outputs = model(x_temp), inputs = x_temp, grad_outputs = torch.ones(model(x_temp).shape), create_graph = True)\n",
    "        sum_2 += (0.5*grad_x_temp[0]**2 - f(x_temp)[0]*model(x_temp)[0])\n",
    "    \n",
    "    x_temp = x[0]\n",
    "    x_temp.requires_grad = True\n",
    "    grad_x_temp = torch.autograd.grad(outputs = model(x_temp), inputs = x_temp, grad_outputs = torch.ones(model(x_temp).shape), create_graph = True)\n",
    "    sum_a = 0.5*grad_x_temp[0]**2 - f(x_temp)[0]*model(x_temp)[0]\n",
    "    \n",
    "    x_temp = x[grid_num]\n",
    "    x_temp.requires_grad = True\n",
    "    grad_x_temp = torch.autograd.grad(outputs = model(x_temp), inputs = x_temp, grad_outputs = torch.ones(model(x_temp).shape), create_graph = True)\n",
    "    sum_a = 0.5*grad_x_temp[0]**2 - f(x_temp)[0]*model(x_temp)[0]\n",
    "    \n",
    "    sum_0 = h / 6 * (sum_a + 4 * sum_1 + 2 * sum_2 + sum_b)\n",
    "    return sum_0"
   ]
  },
  {
   "cell_type": "code",
   "execution_count": 12,
   "metadata": {},
   "outputs": [
    {
     "data": {
      "text/plain": [
       "<All keys matched successfully>"
      ]
     },
     "execution_count": 12,
     "metadata": {},
     "output_type": "execute_result"
    }
   ],
   "source": [
    "# load model parameters on cpu\n",
    "pretrained_dict = torch.load('net_params_DGM.pkl', map_location = 'cpu')\n",
    "    \n",
    "# get state_dict\n",
    "net_state_dict = net.state_dict()\n",
    "\n",
    "# remove keys that does not belong to net_state_dict\n",
    "pretrained_dict_1 = {k: v for k, v in pretrained_dict.items() if k in net_state_dict}\n",
    "\n",
    "# update dict\n",
    "net_state_dict.update(pretrained_dict_1)\n",
    "\n",
    "# set new dict back to net\n",
    "net.load_state_dict(net_state_dict)"
   ]
  },
  {
   "cell_type": "code",
   "execution_count": 13,
   "metadata": {},
   "outputs": [
    {
     "name": "stdout",
     "output_type": "stream",
     "text": [
      "DGM:  tensor(5.9933e-05, grad_fn=<MulBackward0>)\n",
      "DRM:  tensor([-2.4715], grad_fn=<MulBackward0>)\n"
     ]
    }
   ],
   "source": [
    "print('DGM: ', loss_function_G(x))\n",
    "print('DRM: ', loss_function_R(x))     "
   ]
  },
  {
   "cell_type": "code",
   "execution_count": 14,
   "metadata": {},
   "outputs": [
    {
     "data": {
      "text/plain": [
       "<All keys matched successfully>"
      ]
     },
     "execution_count": 14,
     "metadata": {},
     "output_type": "execute_result"
    }
   ],
   "source": [
    "# load model parameters on cpu\n",
    "pretrained_dict = torch.load('net_params_DRM.pkl', map_location = 'cpu')\n",
    "    \n",
    "# get state_dict\n",
    "net_state_dict = net.state_dict()\n",
    "\n",
    "# remove keys that does not belong to net_state_dict\n",
    "pretrained_dict_1 = {k: v for k, v in pretrained_dict.items() if k in net_state_dict}\n",
    "\n",
    "# update dict\n",
    "net_state_dict.update(pretrained_dict_1)\n",
    "\n",
    "# set new dict back to net\n",
    "net.load_state_dict(net_state_dict)"
   ]
  },
  {
   "cell_type": "code",
   "execution_count": 15,
   "metadata": {},
   "outputs": [
    {
     "name": "stdout",
     "output_type": "stream",
     "text": [
      "DGM:  tensor(0.1044, grad_fn=<MulBackward0>)\n",
      "DRM:  tensor([-2.4716], grad_fn=<MulBackward0>)\n"
     ]
    }
   ],
   "source": [
    "print('DGM: ', loss_function_G(x))\n",
    "print('DRM: ', loss_function_R(x)) "
   ]
  },
  {
   "cell_type": "code",
   "execution_count": 16,
   "metadata": {},
   "outputs": [
    {
     "data": {
      "text/plain": [
       "<All keys matched successfully>"
      ]
     },
     "execution_count": 16,
     "metadata": {},
     "output_type": "execute_result"
    }
   ],
   "source": [
    "# load model parameters on cpu\n",
    "pretrained_dict = torch.load('net_params_DRM_to_DGM.pkl', map_location = 'cpu')\n",
    "    \n",
    "# get state_dict\n",
    "net_state_dict = net.state_dict()\n",
    "\n",
    "# remove keys that does not belong to net_state_dict\n",
    "pretrained_dict_1 = {k: v for k, v in pretrained_dict.items() if k in net_state_dict}\n",
    "\n",
    "# update dict\n",
    "net_state_dict.update(pretrained_dict_1)\n",
    "\n",
    "# set new dict back to net\n",
    "net.load_state_dict(net_state_dict)"
   ]
  },
  {
   "cell_type": "code",
   "execution_count": 17,
   "metadata": {},
   "outputs": [
    {
     "name": "stdout",
     "output_type": "stream",
     "text": [
      "DGM:  tensor(5.7418e-05, grad_fn=<MulBackward0>)\n",
      "DRM:  tensor([-2.4715], grad_fn=<MulBackward0>)\n"
     ]
    }
   ],
   "source": [
    "print('DGM: ', loss_function_G(x))\n",
    "print('DRM: ', loss_function_R(x))"
   ]
  },
  {
   "cell_type": "code",
   "execution_count": null,
   "metadata": {},
   "outputs": [],
   "source": []
  },
  {
   "cell_type": "code",
   "execution_count": null,
   "metadata": {},
   "outputs": [],
   "source": []
  }
 ],
 "metadata": {
  "kernelspec": {
   "display_name": "Python 3",
   "language": "python",
   "name": "python3"
  },
  "language_info": {
   "codemirror_mode": {
    "name": "ipython",
    "version": 3
   },
   "file_extension": ".py",
   "mimetype": "text/x-python",
   "name": "python",
   "nbconvert_exporter": "python",
   "pygments_lexer": "ipython3",
   "version": "3.6.8"
  }
 },
 "nbformat": 4,
 "nbformat_minor": 4
}
