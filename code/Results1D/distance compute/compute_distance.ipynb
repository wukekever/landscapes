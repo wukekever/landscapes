{
 "cells": [
  {
   "cell_type": "code",
   "execution_count": 1,
   "metadata": {},
   "outputs": [],
   "source": [
    "import torch\n",
    "import torch.nn as nn\n",
    "import numpy as np\n",
    "from math import *"
   ]
  },
  {
   "cell_type": "code",
   "execution_count": 2,
   "metadata": {},
   "outputs": [],
   "source": [
    "# activation function\n",
    "def activation(x):\n",
    "    return x * torch.sigmoid(x)"
   ]
  },
  {
   "cell_type": "code",
   "execution_count": 3,
   "metadata": {},
   "outputs": [],
   "source": [
    "# build ResNet with one blocks\n",
    "class Net(torch.nn.Module):\n",
    "    def __init__(self,input_width,layer_width):\n",
    "        super(Net,self).__init__()\n",
    "        self.layer_in = torch.nn.Linear(input_width, layer_width)\n",
    "        self.layer1 = torch.nn.Linear(layer_width, layer_width)\n",
    "        self.layer2 = torch.nn.Linear(layer_width, layer_width)\n",
    "        self.layer_out = torch.nn.Linear(layer_width, 1)\n",
    "    def forward(self,x):\n",
    "        y = self.layer_in(x)\n",
    "        y = y + activation(self.layer2(activation(self.layer1(y)))) # residual block 1\n",
    "        output = self.layer_out(y)\n",
    "        return output"
   ]
  },
  {
   "cell_type": "code",
   "execution_count": 4,
   "metadata": {},
   "outputs": [],
   "source": [
    "dimension = 1"
   ]
  },
  {
   "cell_type": "code",
   "execution_count": 5,
   "metadata": {},
   "outputs": [],
   "source": [
    "input_width,layer_width = dimension, 4"
   ]
  },
  {
   "cell_type": "code",
   "execution_count": 6,
   "metadata": {},
   "outputs": [],
   "source": [
    "net = Net(input_width,layer_width)"
   ]
  },
  {
   "cell_type": "code",
   "execution_count": 7,
   "metadata": {},
   "outputs": [
    {
     "data": {
      "text/plain": [
       "<All keys matched successfully>"
      ]
     },
     "execution_count": 7,
     "metadata": {},
     "output_type": "execute_result"
    }
   ],
   "source": [
    "# load model parameters\n",
    "pretrained_dict = torch.load('net_params_DGM.pkl')\n",
    "\n",
    "# get state_dict\n",
    "net_state_dict = net.state_dict()\n",
    "\n",
    "# remove keys that does not belong to net_state_dict\n",
    "pretrained_dict_1 = {k: v for k, v in pretrained_dict.items() if k in net_state_dict}\n",
    "\n",
    "# update dict\n",
    "net_state_dict.update(pretrained_dict_1)\n",
    "\n",
    "# set new dict back to net\n",
    "net.load_state_dict(net_state_dict)"
   ]
  },
  {
   "cell_type": "code",
   "execution_count": 8,
   "metadata": {},
   "outputs": [
    {
     "name": "stdout",
     "output_type": "stream",
     "text": [
      "tensor([-0.2179, -0.7552,  0.4469,  1.1701])\n",
      "tensor([-0.3287,  0.4343, -0.5646,  0.1575])\n",
      "tensor([ 0.3002, -0.1030,  0.4684, -0.1617, -0.4345,  0.2642, -0.3147, -0.0879,\n",
      "        -0.0642, -0.3641,  0.2832,  0.4977,  0.1660,  0.2771, -0.3677,  0.2634])\n",
      "tensor([ 0.2304, -0.3868, -0.1135,  0.2150])\n",
      "tensor([ 0.0746,  0.1486,  0.4689,  0.1757, -0.0850, -0.4909, -0.3872,  0.4143,\n",
      "         0.0033, -0.2703, -0.2780, -0.1521, -0.2515,  0.4531,  0.0637, -0.1949])\n",
      "tensor([-0.0615, -0.4916, -0.2522, -0.4868])\n",
      "tensor([ 1.1556, -1.7318,  0.8062, -0.2845])\n",
      "tensor([-0.2985])\n"
     ]
    }
   ],
   "source": [
    "param_DGM = torch.Tensor([0.])\n",
    "for name,param in net.named_parameters(): \n",
    "    size = param.size()\n",
    "    if len(size) == 2:\n",
    "        print(param.detach().cpu().view(1, size[0]*size[1])[0])\n",
    "        param_DGM = torch.cat((param_DGM, param.detach().cpu().view(1, size[0]*size[1])[0]), dim = 0)\n",
    "    else:\n",
    "        print(param.detach().cpu().view(1, size[0])[0])\n",
    "        param_DGM = torch.cat((param_DGM, param.detach().cpu().view(1, size[0])[0]), dim = 0)"
   ]
  },
  {
   "cell_type": "code",
   "execution_count": 9,
   "metadata": {},
   "outputs": [
    {
     "data": {
      "text/plain": [
       "<All keys matched successfully>"
      ]
     },
     "execution_count": 9,
     "metadata": {},
     "output_type": "execute_result"
    }
   ],
   "source": [
    "# load model parameters\n",
    "pretrained_dict = torch.load('net_params_DRM.pkl')\n",
    "\n",
    "# get state_dict\n",
    "net_state_dict = net.state_dict()\n",
    "\n",
    "# remove keys that does not belong to net_state_dict\n",
    "pretrained_dict_1 = {k: v for k, v in pretrained_dict.items() if k in net_state_dict}\n",
    "\n",
    "# update dict\n",
    "net_state_dict.update(pretrained_dict_1)\n",
    "\n",
    "# set new dict back to net\n",
    "net.load_state_dict(net_state_dict)"
   ]
  },
  {
   "cell_type": "code",
   "execution_count": 10,
   "metadata": {},
   "outputs": [
    {
     "name": "stdout",
     "output_type": "stream",
     "text": [
      "tensor([-1.5141,  0.6419,  1.7847, -0.0447])\n",
      "tensor([-0.2507,  0.4893, -0.7086,  0.4046])\n",
      "tensor([ 0.3002, -0.1030,  0.4684, -0.1617, -0.4345,  0.2642, -0.3147, -0.0879,\n",
      "        -0.0642, -0.3641,  0.2832,  0.4977,  0.1660,  0.2771, -0.3677,  0.2634])\n",
      "tensor([ 0.2304, -0.3868, -0.1135,  0.2150])\n",
      "tensor([ 0.0746,  0.1486,  0.4689,  0.1757, -0.0850, -0.4909, -0.3872,  0.4143,\n",
      "         0.0033, -0.2703, -0.2780, -0.1521, -0.2515,  0.4531,  0.0637, -0.1949])\n",
      "tensor([-0.0615, -0.4916, -0.2522, -0.4868])\n",
      "tensor([ 0.4888,  0.5074, -0.1846, -0.9395])\n",
      "tensor([-0.1878])\n"
     ]
    }
   ],
   "source": [
    "param_DRM = torch.Tensor([0.])\n",
    "for name,param in net.named_parameters(): \n",
    "    size = param.size()\n",
    "    if len(size) == 2:\n",
    "        print(param.detach().cpu().view(1, size[0]*size[1])[0])\n",
    "        param_DRM = torch.cat((param_DRM, param.detach().cpu().view(1, size[0]*size[1])[0]), dim = 0)\n",
    "    else:\n",
    "        print(param.detach().cpu().view(1, size[0])[0])\n",
    "        param_DRM = torch.cat((param_DRM, param.detach().cpu().view(1, size[0])[0]), dim = 0)"
   ]
  },
  {
   "cell_type": "code",
   "execution_count": 11,
   "metadata": {},
   "outputs": [
    {
     "name": "stdout",
     "output_type": "stream",
     "text": [
      "Distance of two min is:  tensor(3.7243)\n"
     ]
    }
   ],
   "source": [
    "error = torch.sum((param_DGM - param_DRM)**2)**0.5\n",
    "print('Distance of two min is: ', error)"
   ]
  },
  {
   "cell_type": "code",
   "execution_count": 12,
   "metadata": {},
   "outputs": [
    {
     "name": "stdout",
     "output_type": "stream",
     "text": [
      "Distance of two min is:  tensor(2.2392)\n"
     ]
    }
   ],
   "source": [
    "error_max = torch.max((param_DGM - param_DRM)**2)\n",
    "print('Distance of two min is: ', error_max**0.5)"
   ]
  },
  {
   "cell_type": "code",
   "execution_count": null,
   "metadata": {},
   "outputs": [],
   "source": []
  }
 ],
 "metadata": {
  "kernelspec": {
   "display_name": "Python 3",
   "language": "python",
   "name": "python3"
  },
  "language_info": {
   "codemirror_mode": {
    "name": "ipython",
    "version": 3
   },
   "file_extension": ".py",
   "mimetype": "text/x-python",
   "name": "python",
   "nbconvert_exporter": "python",
   "pygments_lexer": "ipython3",
   "version": "3.6.8"
  }
 },
 "nbformat": 4,
 "nbformat_minor": 4
}
