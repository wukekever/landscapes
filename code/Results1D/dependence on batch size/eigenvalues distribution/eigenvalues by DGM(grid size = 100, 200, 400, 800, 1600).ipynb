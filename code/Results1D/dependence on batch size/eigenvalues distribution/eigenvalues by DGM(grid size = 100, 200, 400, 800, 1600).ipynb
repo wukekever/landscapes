{
 "cells": [
  {
   "cell_type": "code",
   "execution_count": 1,
   "metadata": {},
   "outputs": [],
   "source": [
    "import numpy as np\n",
    "import matplotlib.pyplot as plt"
   ]
  },
  {
   "cell_type": "code",
   "execution_count": 2,
   "metadata": {},
   "outputs": [],
   "source": [
    "eigen_vals_of_DGM_100 = np.load(\"eigen_vals_of_DGM_100.npy\")\n",
    "eigen_vals_of_DGM_200 = np.load(\"eigen_vals_of_DGM_200.npy\")\n",
    "eigen_vals_of_DGM_400 = np.load(\"eigen_vals_of_DGM_400.npy\")\n",
    "eigen_vals_of_DGM_800 = np.load(\"eigen_vals_of_DGM_800.npy\")\n",
    "eigen_vals_of_DGM_1600 = np.load(\"eigen_vals_of_DGM_1600.npy\")"
   ]
  },
  {
   "cell_type": "code",
   "execution_count": null,
   "metadata": {},
   "outputs": [],
   "source": [
    "import matplotlib.pyplot as plt\n",
    "import seaborn as sns\n",
    "import numpy as np"
   ]
  },
  {
   "cell_type": "code",
   "execution_count": null,
   "metadata": {},
   "outputs": [],
   "source": [
    "help(plt.hist)"
   ]
  },
  {
   "cell_type": "code",
   "execution_count": null,
   "metadata": {},
   "outputs": [],
   "source": [
    "np.sort(data)"
   ]
  },
  {
   "cell_type": "code",
   "execution_count": null,
   "metadata": {},
   "outputs": [],
   "source": [
    "Finish_eigen_vals_of_DGM_100 = eigen_vals_of_DGM_100[:,200]\n",
    "data = Finish_eigen_vals_of_DGM_100\n",
    "print(len(data))\n",
    "print(data)\n",
    "# plt.hist(data, alpha = 0.5, color = '#ffffff')\n",
    "plt.hist(data, alpha = 0.5, color = 'b', bins = [0, 0.0001, 0.01, 0.1, 1])\n",
    "ax = sns.rugplot(data,\n",
    "                 color = 'r',\n",
    "                 height = 0.2)\n",
    "plt.title('Distribution of eigenvalues (batch size = 100)', size = 12)\n",
    "ax.set_xlabel('Eigenvalue', size = 12)\n",
    "ax.set_ylabel('Counter', size = 12)\n",
    "plt.savefig(\"Eigenvalues_Distribution_of_DGM_Batchsize_100.eps\", dpi = 120)"
   ]
  },
  {
   "cell_type": "code",
   "execution_count": null,
   "metadata": {},
   "outputs": [],
   "source": []
  },
  {
   "cell_type": "code",
   "execution_count": null,
   "metadata": {},
   "outputs": [],
   "source": [
    "Finish_eigen_vals_of_DGM_100 = eigen_vals_of_DGM_100[:,200]\n",
    "data = Finish_eigen_vals_of_DGM_100\n",
    "print(len(data))\n",
    "# plt.hist(data, alpha = 0.5, color = '#ffffff')\n",
    "plt.hist(data, alpha = 0.5, color = 'b')\n",
    "ax = sns.rugplot(data,\n",
    "                 color = 'r',\n",
    "                 height = 0.2)\n",
    "plt.title('Distribution of eigenvalues (batch size = 100)', size = 12)\n",
    "ax.set_xlabel('Eigenvalue', size = 12)\n",
    "ax.set_ylabel('Counter', size = 12)\n",
    "plt.savefig(\"Eigenvalues_Distribution_of_DGM_Batchsize_100.eps\", dpi = 120)"
   ]
  },
  {
   "cell_type": "code",
   "execution_count": null,
   "metadata": {},
   "outputs": [],
   "source": [
    "Finish_eigen_vals_of_DGM_200 = eigen_vals_of_DGM_200[:,200]\n",
    "data = Finish_eigen_vals_of_DGM_200\n",
    "print(len(data))\n",
    "# plt.hist(data, alpha = 0.5, color = '#ffffff')\n",
    "plt.hist(data, alpha = 0.5, color = 'b')\n",
    "ax = sns.rugplot(data,\n",
    "                 color = 'r',\n",
    "                 height = 0.2)\n",
    "plt.title('Distribution of eigenvalues (batch size = 200)', size = 12)\n",
    "ax.set_xlabel('Eigenvalue', size = 12)\n",
    "ax.set_ylabel('Counter', size = 12)\n",
    "plt.savefig(\"Eigenvalues_Distribution_of_DGM_Batchsize_200.eps\", dpi = 120)"
   ]
  },
  {
   "cell_type": "code",
   "execution_count": null,
   "metadata": {},
   "outputs": [],
   "source": [
    "Finish_eigen_vals_of_DGM_400 = eigen_vals_of_DGM_400[:,200]\n",
    "data = Finish_eigen_vals_of_DGM_400\n",
    "print(len(data))\n",
    "print(data)\n",
    "# plt.hist(data, alpha = 0.5, color = '#ffffff')\n",
    "plt.hist(data, alpha = 0.5, color = 'b')\n",
    "ax = sns.rugplot(data,\n",
    "                 color = 'r',\n",
    "                 height = 0.2)\n",
    "plt.title('Distribution of eigenvalues (batch size = 400)', size = 12)\n",
    "ax.set_xlabel('Eigenvalue', size = 12)\n",
    "ax.set_ylabel('Counter', size = 12)\n",
    "plt.savefig(\"Eigenvalues_Distribution_of_DGM_Batchsize_400.eps\", dpi = 120)"
   ]
  },
  {
   "cell_type": "code",
   "execution_count": null,
   "metadata": {},
   "outputs": [],
   "source": [
    "Finish_eigen_vals_of_DGM_1600 = eigen_vals_of_DGM_1600[:,200]\n",
    "data = Finish_eigen_vals_of_DGM_1600\n",
    "print(len(data))\n",
    "print(data)\n",
    "# plt.hist(data, alpha = 0.5, color = '#ffffff')\n",
    "plt.hist(data, alpha = 0.5, color = 'b')\n",
    "ax = sns.rugplot(data,\n",
    "                 color = 'r',\n",
    "                 height = 0.2)\n",
    "plt.title('Distribution of eigenvalues (batch size = 1600)', size = 12)\n",
    "ax.set_xlabel('Eigenvalue', size = 12)\n",
    "ax.set_ylabel('Counter', size = 12)\n",
    "plt.savefig(\"Eigenvalues_Distribution_of_DGM_Batchsize_1600.eps\", dpi = 120)"
   ]
  },
  {
   "cell_type": "code",
   "execution_count": null,
   "metadata": {},
   "outputs": [],
   "source": [
    "top_1_eigen_vals_of_DGM_100 = eigen_vals_of_DGM_100[0,0:200]\n",
    "top_2_eigen_vals_of_DGM_100 = eigen_vals_of_DGM_100[1,0:200]\n",
    "top_3_eigen_vals_of_DGM_100 = eigen_vals_of_DGM_100[2,0:200]\n",
    "top_4_eigen_vals_of_DGM_100 = eigen_vals_of_DGM_100[3,0:200]\n",
    "top_5_eigen_vals_of_DGM_100 = eigen_vals_of_DGM_100[4,0:200]"
   ]
  },
  {
   "cell_type": "code",
   "execution_count": null,
   "metadata": {},
   "outputs": [],
   "source": [
    "# top 4\n",
    "print(top_1_eigen_vals_of_DGM_100[-1])\n",
    "print(top_2_eigen_vals_of_DGM_100[-1])\n",
    "print(top_3_eigen_vals_of_DGM_100[-1])\n",
    "print(top_4_eigen_vals_of_DGM_100[-1])\n",
    "print(top_5_eigen_vals_of_DGM_100[-1])\n",
    "print(np.log10(top_1_eigen_vals_of_DGM_100[-1]*top_2_eigen_vals_of_DGM_100[-1]*top_3_eigen_vals_of_DGM_100[-1]*top_4_eigen_vals_of_DGM_100[-1]))"
   ]
  },
  {
   "cell_type": "code",
   "execution_count": null,
   "metadata": {},
   "outputs": [],
   "source": [
    "bottom_1_eigen_vals_of_DGM_100 = eigen_vals_of_DGM_100[-1,0:200]\n",
    "bottom_2_eigen_vals_of_DGM_100 = eigen_vals_of_DGM_100[-2,0:200]\n",
    "bottom_3_eigen_vals_of_DGM_100 = eigen_vals_of_DGM_100[-3,0:200]\n",
    "bottom_4_eigen_vals_of_DGM_100 = eigen_vals_of_DGM_100[-4,0:200]\n",
    "bottom_5_eigen_vals_of_DGM_100 = eigen_vals_of_DGM_100[-5,0:200]"
   ]
  },
  {
   "cell_type": "code",
   "execution_count": null,
   "metadata": {},
   "outputs": [],
   "source": [
    "Epoch = [i for i in range(len(top_1_eigen_vals_of_DGM_100))]\n",
    "Top_1_eigen_vals_of_DGM_100 = list(top_1_eigen_vals_of_DGM_100)\n",
    "Top_2_eigen_vals_of_DGM_100 = list(top_2_eigen_vals_of_DGM_100)\n",
    "Top_3_eigen_vals_of_DGM_100 = list(top_3_eigen_vals_of_DGM_100)\n",
    "Top_4_eigen_vals_of_DGM_100 = list(top_4_eigen_vals_of_DGM_100)\n",
    "Top_5_eigen_vals_of_DGM_100 = list(top_5_eigen_vals_of_DGM_100)"
   ]
  },
  {
   "cell_type": "code",
   "execution_count": null,
   "metadata": {},
   "outputs": [],
   "source": [
    "Bottom_1_eigen_vals_of_DGM_100 = list(bottom_1_eigen_vals_of_DGM_100)\n",
    "Bottom_2_eigen_vals_of_DGM_100 = list(bottom_2_eigen_vals_of_DGM_100)\n",
    "Bottom_3_eigen_vals_of_DGM_100 = list(bottom_3_eigen_vals_of_DGM_100)\n",
    "Bottom_4_eigen_vals_of_DGM_100 = list(bottom_4_eigen_vals_of_DGM_100)\n",
    "Bottom_5_eigen_vals_of_DGM_100 = list(bottom_5_eigen_vals_of_DGM_100)"
   ]
  },
  {
   "cell_type": "code",
   "execution_count": null,
   "metadata": {},
   "outputs": [],
   "source": [
    "plt.figure(figsize=(12,10))\n",
    "plt.plot(Epoch, Top_1_eigen_vals_of_DGM_100, color = \"r\", linestyle= \"-\", linewidth = 1.5, label = \"Top 1 eigenvalue\")\n",
    "plt.plot(Epoch, Top_2_eigen_vals_of_DGM_100, color = \"k\", linestyle= \"-\", linewidth = 1.5, label = \"Top 2 eigenvalue\")\n",
    "plt.plot(Epoch, Top_3_eigen_vals_of_DGM_100, color = \"b\", linestyle= \"-\", linewidth = 1.5, label = \"Top 3 eigenvalue\")\n",
    "plt.plot(Epoch, Top_4_eigen_vals_of_DGM_100, color = \"g\", linestyle= \"-\", linewidth = 1.5, label = \"Top 4 eigenvalue\")\n",
    "plt.plot(Epoch, Top_5_eigen_vals_of_DGM_100, color = \"y\", linestyle= \"-\", linewidth = 1.5, label = \"Top 5 eigenvalue\")\n",
    "plt.plot(Epoch, Bottom_1_eigen_vals_of_DGM_100, color = \"r\", linestyle= \"-.\", marker = \"+\", linewidth = 0.5, label = \"Bottom 1 eigenvalue\")\n",
    "plt.plot(Epoch, Bottom_2_eigen_vals_of_DGM_100, color = \"k\", linestyle= \"-.\", marker = \"+\", linewidth = 0.5, label = \"Bottom 2 eigenvalue\")\n",
    "plt.plot(Epoch, Bottom_3_eigen_vals_of_DGM_100, color = \"b\", linestyle= \"-.\", marker = \"+\", linewidth = 0.5, label = \"Bottom 3 eigenvalue\")\n",
    "plt.plot(Epoch, Bottom_4_eigen_vals_of_DGM_100, color = \"g\", linestyle= \"-.\", marker = \"+\", linewidth = 0.5, label = \"Bottom 4 eigenvalue\")\n",
    "plt.plot(Epoch, Bottom_5_eigen_vals_of_DGM_100, color = \"y\", linestyle= \"-.\", marker = \"+\", linewidth = 0.5, label = \"Bottom 5 eigenvalue\")\n",
    "plt.xlabel(\"epoch ( * 50)\")\n",
    "plt.ylabel(\"Top and bottom five eigenvalues of DGM (batch size = 100)\")\n",
    "plt.legend(loc = 'upper left', bbox_to_anchor = (0.7, 0.95))\n",
    "plt.savefig(\"Eigenvalues_of_DGM_Batchsize_100.eps\", dpi = 120)\n",
    "plt.show() "
   ]
  },
  {
   "cell_type": "code",
   "execution_count": null,
   "metadata": {},
   "outputs": [],
   "source": [
    "top_1_eigen_vals_of_DGM_200 = eigen_vals_of_DGM_200[0,0:200]\n",
    "top_2_eigen_vals_of_DGM_200 = eigen_vals_of_DGM_200[1,0:200]\n",
    "top_3_eigen_vals_of_DGM_200 = eigen_vals_of_DGM_200[2,0:200]\n",
    "top_4_eigen_vals_of_DGM_200 = eigen_vals_of_DGM_200[3,0:200]\n",
    "top_5_eigen_vals_of_DGM_200 = eigen_vals_of_DGM_200[4,0:200]"
   ]
  },
  {
   "cell_type": "code",
   "execution_count": null,
   "metadata": {},
   "outputs": [],
   "source": [
    "print(top_1_eigen_vals_of_DGM_200[-1])\n",
    "print(top_2_eigen_vals_of_DGM_200[-1])\n",
    "print(top_3_eigen_vals_of_DGM_200[-1])\n",
    "print(top_4_eigen_vals_of_DGM_200[-1])\n",
    "print(top_5_eigen_vals_of_DGM_200[-1])\n",
    "print(np.log10(top_1_eigen_vals_of_DGM_200[-1]*top_2_eigen_vals_of_DGM_200[-1]*top_3_eigen_vals_of_DGM_200[-1]*top_4_eigen_vals_of_DGM_200[-1]))"
   ]
  },
  {
   "cell_type": "code",
   "execution_count": null,
   "metadata": {},
   "outputs": [],
   "source": [
    "bottom_1_eigen_vals_of_DGM_200 = eigen_vals_of_DGM_200[-1,0:200]\n",
    "bottom_2_eigen_vals_of_DGM_200 = eigen_vals_of_DGM_200[-2,0:200]\n",
    "bottom_3_eigen_vals_of_DGM_200 = eigen_vals_of_DGM_200[-3,0:200]\n",
    "bottom_4_eigen_vals_of_DGM_200 = eigen_vals_of_DGM_200[-4,0:200]\n",
    "bottom_5_eigen_vals_of_DGM_200 = eigen_vals_of_DGM_200[-5,0:200]"
   ]
  },
  {
   "cell_type": "code",
   "execution_count": null,
   "metadata": {},
   "outputs": [],
   "source": [
    "Epoch = [i for i in range(len(top_1_eigen_vals_of_DGM_200))]\n",
    "Top_1_eigen_vals_of_DGM_200 = list(top_1_eigen_vals_of_DGM_200)\n",
    "Top_2_eigen_vals_of_DGM_200 = list(top_2_eigen_vals_of_DGM_200)\n",
    "Top_3_eigen_vals_of_DGM_200 = list(top_3_eigen_vals_of_DGM_200)\n",
    "Top_4_eigen_vals_of_DGM_200 = list(top_4_eigen_vals_of_DGM_200)\n",
    "Top_5_eigen_vals_of_DGM_200 = list(top_5_eigen_vals_of_DGM_200)"
   ]
  },
  {
   "cell_type": "code",
   "execution_count": null,
   "metadata": {},
   "outputs": [],
   "source": [
    "Bottom_1_eigen_vals_of_DGM_200 = list(bottom_1_eigen_vals_of_DGM_200)\n",
    "Bottom_2_eigen_vals_of_DGM_200 = list(bottom_2_eigen_vals_of_DGM_200)\n",
    "Bottom_3_eigen_vals_of_DGM_200 = list(bottom_3_eigen_vals_of_DGM_200)\n",
    "Bottom_4_eigen_vals_of_DGM_200 = list(bottom_4_eigen_vals_of_DGM_200)\n",
    "Bottom_5_eigen_vals_of_DGM_200 = list(bottom_5_eigen_vals_of_DGM_200)"
   ]
  },
  {
   "cell_type": "code",
   "execution_count": null,
   "metadata": {},
   "outputs": [],
   "source": [
    "plt.figure(figsize=(12,10))\n",
    "plt.plot(Epoch, Top_1_eigen_vals_of_DGM_200, color = \"r\", linestyle= \"-\", linewidth = 1.5, label = \"Top 1 eigenvalue\")\n",
    "plt.plot(Epoch, Top_2_eigen_vals_of_DGM_200, color = \"k\", linestyle= \"-\", linewidth = 1.5, label = \"Top 2 eigenvalue\")\n",
    "plt.plot(Epoch, Top_3_eigen_vals_of_DGM_200, color = \"b\", linestyle= \"-\", linewidth = 1.5, label = \"Top 3 eigenvalue\")\n",
    "plt.plot(Epoch, Top_4_eigen_vals_of_DGM_200, color = \"g\", linestyle= \"-\", linewidth = 1.5, label = \"Top 4 eigenvalue\")\n",
    "plt.plot(Epoch, Top_5_eigen_vals_of_DGM_200, color = \"y\", linestyle= \"-\", linewidth = 1.5, label = \"Top 5 eigenvalue\")\n",
    "plt.plot(Epoch, Bottom_1_eigen_vals_of_DGM_200, color = \"r\", linestyle= \"-.\", marker = \"+\", linewidth = 0.5, label = \"Bottom 1 eigenvalue\")\n",
    "plt.plot(Epoch, Bottom_2_eigen_vals_of_DGM_200, color = \"k\", linestyle= \"-.\", marker = \"+\", linewidth = 0.5, label = \"Bottom 2 eigenvalue\")\n",
    "plt.plot(Epoch, Bottom_3_eigen_vals_of_DGM_200, color = \"b\", linestyle= \"-.\", marker = \"+\", linewidth = 0.5, label = \"Bottom 3 eigenvalue\")\n",
    "plt.plot(Epoch, Bottom_4_eigen_vals_of_DGM_200, color = \"g\", linestyle= \"-.\", marker = \"+\", linewidth = 0.5, label = \"Bottom 4 eigenvalue\")\n",
    "plt.plot(Epoch, Bottom_5_eigen_vals_of_DGM_200, color = \"y\", linestyle= \"-.\", marker = \"+\", linewidth = 0.5, label = \"Bottom 5 eigenvalue\")\n",
    "plt.xlabel(\"epoch ( * 50)\")\n",
    "plt.ylabel(\"Top and bottom five eigenvalues of DGM (batch size = 200)\")\n",
    "plt.legend(loc = 'upper left', bbox_to_anchor = (0.7, 0.85))\n",
    "plt.savefig(\"Eigenvalues_of_DGM_Batchsize_200.eps\", dpi = 120)\n",
    "plt.show()"
   ]
  },
  {
   "cell_type": "code",
   "execution_count": null,
   "metadata": {},
   "outputs": [],
   "source": [
    "# plt.figure(figsize=(12,10))\n",
    "# plt.plot(Epoch, Top_1_eigen_vals_of_DGM_200, color = \"r\", linestyle= \"-.\", marker = \".\", linewidth = 0.5, label = \"Top_1_eigen_vals\")\n",
    "# plt.plot(Epoch, Top_2_eigen_vals_of_DGM_200, color = \"k\", linestyle= \"-.\", marker = \".\", linewidth = 0.5, label = \"Top_2_eigen_vals\")\n",
    "# plt.plot(Epoch, Top_3_eigen_vals_of_DGM_200, color = \"b\", linestyle= \"-.\", marker = \".\", linewidth = 0.5, label = \"Top_3_eigen_vals\")\n",
    "# plt.plot(Epoch, Top_4_eigen_vals_of_DGM_200, color = \"g\", linestyle= \"-.\", marker = \".\", linewidth = 0.5, label = \"Top_4_eigen_vals\")\n",
    "# plt.plot(Epoch, Top_5_eigen_vals_of_DGM_200, color = \"y\", linestyle= \"-.\", marker = \".\", linewidth = 0.5, label = \"Top_5_eigen_vals\")\n",
    "# plt.plot(Epoch, Bottom_1_eigen_vals_of_DGM_200, color = \"r\", linestyle= \"-.\", marker = \"+\", linewidth = 0.5, label = \"Bottom_1_eigen_vals\")\n",
    "# plt.plot(Epoch, Bottom_2_eigen_vals_of_DGM_200, color = \"k\", linestyle= \"-.\", marker = \"+\", linewidth = 0.5, label = \"Bottom_2_eigen_vals\")\n",
    "# plt.plot(Epoch, Bottom_3_eigen_vals_of_DGM_200, color = \"b\", linestyle= \"-.\", marker = \"+\", linewidth = 0.5, label = \"Bottom_3_eigen_vals\")\n",
    "# plt.plot(Epoch, Bottom_4_eigen_vals_of_DGM_200, color = \"g\", linestyle= \"-.\", marker = \"+\", linewidth = 0.5, label = \"Bottom_4_eigen_vals\")\n",
    "# plt.plot(Epoch, Bottom_5_eigen_vals_of_DGM_200, color = \"y\", linestyle= \"-.\", marker = \"+\", linewidth = 0.5, label = \"Bottom_5_eigen_vals\")\n",
    "# plt.xlabel(\"epoch ( * 50)\")\n",
    "# plt.ylabel(\"top and bottom five eigen values of DGM (grid size = 200)\")\n",
    "# plt.legend(loc = 'upper left', bbox_to_anchor = (0.7, 0.95))\n",
    "# # plt.savefig(\"eigen_vals_of_DGM_200.eps\", dpi = 120)\n",
    "# plt.show() "
   ]
  },
  {
   "cell_type": "code",
   "execution_count": null,
   "metadata": {},
   "outputs": [],
   "source": [
    "top_1_eigen_vals_of_DGM_400 = eigen_vals_of_DGM_400[0,0:200]\n",
    "top_2_eigen_vals_of_DGM_400 = eigen_vals_of_DGM_400[1,0:200]\n",
    "top_3_eigen_vals_of_DGM_400 = eigen_vals_of_DGM_400[2,0:200]\n",
    "top_4_eigen_vals_of_DGM_400 = eigen_vals_of_DGM_400[3,0:200]\n",
    "top_5_eigen_vals_of_DGM_400 = eigen_vals_of_DGM_400[4,0:200]"
   ]
  },
  {
   "cell_type": "code",
   "execution_count": null,
   "metadata": {},
   "outputs": [],
   "source": [
    "print(top_1_eigen_vals_of_DGM_400[-1])\n",
    "print(top_2_eigen_vals_of_DGM_400[-1])\n",
    "print(top_3_eigen_vals_of_DGM_400[-1])\n",
    "print(top_4_eigen_vals_of_DGM_400[-1])\n",
    "print(top_5_eigen_vals_of_DGM_400[-1])\n",
    "print(np.log10(top_1_eigen_vals_of_DGM_400[-1]*top_2_eigen_vals_of_DGM_400[-1]*top_3_eigen_vals_of_DGM_400[-1]*top_4_eigen_vals_of_DGM_400[-1]))"
   ]
  },
  {
   "cell_type": "code",
   "execution_count": null,
   "metadata": {},
   "outputs": [],
   "source": [
    "bottom_1_eigen_vals_of_DGM_400 = eigen_vals_of_DGM_400[-1,0:200]\n",
    "bottom_2_eigen_vals_of_DGM_400 = eigen_vals_of_DGM_400[-2,0:200]\n",
    "bottom_3_eigen_vals_of_DGM_400 = eigen_vals_of_DGM_400[-3,0:200]\n",
    "bottom_4_eigen_vals_of_DGM_400 = eigen_vals_of_DGM_400[-4,0:200]\n",
    "bottom_5_eigen_vals_of_DGM_400 = eigen_vals_of_DGM_400[-5,0:200]"
   ]
  },
  {
   "cell_type": "code",
   "execution_count": null,
   "metadata": {},
   "outputs": [],
   "source": [
    "Epoch = [i for i in range(len(top_1_eigen_vals_of_DGM_400))]\n",
    "Top_1_eigen_vals_of_DGM_400 = list(top_1_eigen_vals_of_DGM_400)\n",
    "Top_2_eigen_vals_of_DGM_400 = list(top_2_eigen_vals_of_DGM_400)\n",
    "Top_3_eigen_vals_of_DGM_400 = list(top_3_eigen_vals_of_DGM_400)\n",
    "Top_4_eigen_vals_of_DGM_400 = list(top_4_eigen_vals_of_DGM_400)\n",
    "Top_5_eigen_vals_of_DGM_400 = list(top_5_eigen_vals_of_DGM_400)"
   ]
  },
  {
   "cell_type": "code",
   "execution_count": null,
   "metadata": {},
   "outputs": [],
   "source": [
    "Bottom_1_eigen_vals_of_DGM_400 = list(bottom_1_eigen_vals_of_DGM_400)\n",
    "Bottom_2_eigen_vals_of_DGM_400 = list(bottom_2_eigen_vals_of_DGM_400)\n",
    "Bottom_3_eigen_vals_of_DGM_400 = list(bottom_3_eigen_vals_of_DGM_400)\n",
    "Bottom_4_eigen_vals_of_DGM_400 = list(bottom_4_eigen_vals_of_DGM_400)\n",
    "Bottom_5_eigen_vals_of_DGM_400 = list(bottom_5_eigen_vals_of_DGM_400)"
   ]
  },
  {
   "cell_type": "code",
   "execution_count": null,
   "metadata": {},
   "outputs": [],
   "source": [
    "plt.figure(figsize=(12,10))\n",
    "plt.plot(Epoch, Top_1_eigen_vals_of_DGM_400, color = \"r\", linestyle= \"-\", linewidth = 1.5, label = \"Top 1 eigenvalue\")\n",
    "plt.plot(Epoch, Top_2_eigen_vals_of_DGM_400, color = \"k\", linestyle= \"-\", linewidth = 1.5, label = \"Top 2 eigenvalue\")\n",
    "plt.plot(Epoch, Top_3_eigen_vals_of_DGM_400, color = \"b\", linestyle= \"-\", linewidth = 1.5, label = \"Top 3 eigenvalue\")\n",
    "plt.plot(Epoch, Top_4_eigen_vals_of_DGM_400, color = \"g\", linestyle= \"-\", linewidth = 1.5, label = \"Top 4 eigenvalue\")\n",
    "plt.plot(Epoch, Top_5_eigen_vals_of_DGM_400, color = \"y\", linestyle= \"-\", linewidth = 1.5, label = \"Top 5 eigenvalue\")\n",
    "plt.plot(Epoch, Bottom_1_eigen_vals_of_DGM_400, color = \"r\", linestyle= \"-.\", marker = \"+\", linewidth = 0.5, label = \"Bottom 1 eigenvalue\")\n",
    "plt.plot(Epoch, Bottom_2_eigen_vals_of_DGM_400, color = \"k\", linestyle= \"-.\", marker = \"+\", linewidth = 0.5, label = \"Bottom 2 eigenvalue\")\n",
    "plt.plot(Epoch, Bottom_3_eigen_vals_of_DGM_400, color = \"b\", linestyle= \"-.\", marker = \"+\", linewidth = 0.5, label = \"Bottom 3 eigenvalue\")\n",
    "plt.plot(Epoch, Bottom_4_eigen_vals_of_DGM_400, color = \"g\", linestyle= \"-.\", marker = \"+\", linewidth = 0.5, label = \"Bottom 4 eigenvalue\")\n",
    "plt.plot(Epoch, Bottom_5_eigen_vals_of_DGM_400, color = \"y\", linestyle= \"-.\", marker = \"+\", linewidth = 0.5, label = \"Bottom 5 eigenvalue\")\n",
    "plt.xlabel(\"epoch ( * 50)\")\n",
    "plt.ylabel(\"Top and bottom five eigenvalues of DGM (batch size = 400)\")\n",
    "plt.legend(loc = 'upper left', bbox_to_anchor = (0.7, 0.95))\n",
    "plt.savefig(\"Eigenvalues_of_DGM_Batchsize_400.eps\", dpi = 120)\n",
    "plt.show()"
   ]
  },
  {
   "cell_type": "code",
   "execution_count": null,
   "metadata": {},
   "outputs": [],
   "source": [
    "# plt.figure(figsize=(12,10))\n",
    "# plt.plot(Epoch, Top_1_eigen_vals_of_DGM_400, color = \"r\", linestyle= \"-.\", marker = \".\", linewidth = 0.5, label = \"Top_1_eigen_vals\")\n",
    "# plt.plot(Epoch, Top_2_eigen_vals_of_DGM_400, color = \"k\", linestyle= \"-.\", marker = \".\", linewidth = 0.5, label = \"Top_2_eigen_vals\")\n",
    "# plt.plot(Epoch, Top_3_eigen_vals_of_DGM_400, color = \"b\", linestyle= \"-.\", marker = \".\", linewidth = 0.5, label = \"Top_3_eigen_vals\")\n",
    "# plt.plot(Epoch, Top_4_eigen_vals_of_DGM_400, color = \"g\", linestyle= \"-.\", marker = \".\", linewidth = 0.5, label = \"Top_4_eigen_vals\")\n",
    "# plt.plot(Epoch, Top_5_eigen_vals_of_DGM_400, color = \"y\", linestyle= \"-.\", marker = \".\", linewidth = 0.5, label = \"Top_5_eigen_vals\")\n",
    "# plt.plot(Epoch, Bottom_1_eigen_vals_of_DGM_400, color = \"r\", linestyle= \"-.\", marker = \"+\", linewidth = 0.5, label = \"Bottom_1_eigen_vals\")\n",
    "# plt.plot(Epoch, Bottom_2_eigen_vals_of_DGM_400, color = \"k\", linestyle= \"-.\", marker = \"+\", linewidth = 0.5, label = \"Bottom_2_eigen_vals\")\n",
    "# plt.plot(Epoch, Bottom_3_eigen_vals_of_DGM_400, color = \"b\", linestyle= \"-.\", marker = \"+\", linewidth = 0.5, label = \"Bottom_3_eigen_vals\")\n",
    "# plt.plot(Epoch, Bottom_4_eigen_vals_of_DGM_400, color = \"g\", linestyle= \"-.\", marker = \"+\", linewidth = 0.5, label = \"Bottom_4_eigen_vals\")\n",
    "# plt.plot(Epoch, Bottom_5_eigen_vals_of_DGM_400, color = \"y\", linestyle= \"-.\", marker = \"+\", linewidth = 0.5, label = \"Bottom_5_eigen_vals\")\n",
    "# plt.xlabel(\"epoch ( * 50)\")\n",
    "# plt.ylabel(\"top and bottom five eigen values of DGM (grid size = 400)\")\n",
    "# plt.legend(loc = 'upper left', bbox_to_anchor = (0.7, 0.95))\n",
    "# # plt.savefig(\"eigen_vals_of_DGM_400.eps\", dpi = 120)\n",
    "# plt.show() "
   ]
  },
  {
   "cell_type": "code",
   "execution_count": null,
   "metadata": {},
   "outputs": [],
   "source": [
    "top_1_eigen_vals_of_DGM_800 = eigen_vals_of_DGM_800[0,0:200]\n",
    "top_2_eigen_vals_of_DGM_800 = eigen_vals_of_DGM_800[1,0:200]\n",
    "top_3_eigen_vals_of_DGM_800 = eigen_vals_of_DGM_800[2,0:200]\n",
    "top_4_eigen_vals_of_DGM_800 = eigen_vals_of_DGM_800[3,0:200]\n",
    "top_5_eigen_vals_of_DGM_800 = eigen_vals_of_DGM_800[4,0:200]"
   ]
  },
  {
   "cell_type": "code",
   "execution_count": null,
   "metadata": {},
   "outputs": [],
   "source": [
    "print(top_1_eigen_vals_of_DGM_800[-1])\n",
    "print(top_2_eigen_vals_of_DGM_800[-1])\n",
    "print(top_3_eigen_vals_of_DGM_800[-1])\n",
    "print(top_4_eigen_vals_of_DGM_800[-1])\n",
    "print(top_5_eigen_vals_of_DGM_800[-1])\n",
    "print(np.log10(top_1_eigen_vals_of_DGM_800[-1]*top_2_eigen_vals_of_DGM_800[-1]*top_3_eigen_vals_of_DGM_800[-1]*top_4_eigen_vals_of_DGM_800[-1]))"
   ]
  },
  {
   "cell_type": "code",
   "execution_count": null,
   "metadata": {},
   "outputs": [],
   "source": [
    "bottom_1_eigen_vals_of_DGM_800 = eigen_vals_of_DGM_800[-1,0:200]\n",
    "bottom_2_eigen_vals_of_DGM_800 = eigen_vals_of_DGM_800[-2,0:200]\n",
    "bottom_3_eigen_vals_of_DGM_800 = eigen_vals_of_DGM_800[-3,0:200]\n",
    "bottom_4_eigen_vals_of_DGM_800 = eigen_vals_of_DGM_800[-4,0:200]\n",
    "bottom_5_eigen_vals_of_DGM_800 = eigen_vals_of_DGM_800[-5,0:200]"
   ]
  },
  {
   "cell_type": "code",
   "execution_count": null,
   "metadata": {},
   "outputs": [],
   "source": [
    "Epoch = [i for i in range(len(top_1_eigen_vals_of_DGM_800))]\n",
    "Top_1_eigen_vals_of_DGM_800 = list(top_1_eigen_vals_of_DGM_800)\n",
    "Top_2_eigen_vals_of_DGM_800 = list(top_2_eigen_vals_of_DGM_800)\n",
    "Top_3_eigen_vals_of_DGM_800 = list(top_3_eigen_vals_of_DGM_800)\n",
    "Top_4_eigen_vals_of_DGM_800 = list(top_4_eigen_vals_of_DGM_800)\n",
    "Top_5_eigen_vals_of_DGM_800 = list(top_5_eigen_vals_of_DGM_800)"
   ]
  },
  {
   "cell_type": "code",
   "execution_count": null,
   "metadata": {},
   "outputs": [],
   "source": [
    "Bottom_1_eigen_vals_of_DGM_800 = list(bottom_1_eigen_vals_of_DGM_800)\n",
    "Bottom_2_eigen_vals_of_DGM_800 = list(bottom_2_eigen_vals_of_DGM_800)\n",
    "Bottom_3_eigen_vals_of_DGM_800 = list(bottom_3_eigen_vals_of_DGM_800)\n",
    "Bottom_4_eigen_vals_of_DGM_800 = list(bottom_4_eigen_vals_of_DGM_800)\n",
    "Bottom_5_eigen_vals_of_DGM_800 = list(bottom_5_eigen_vals_of_DGM_800)"
   ]
  },
  {
   "cell_type": "code",
   "execution_count": null,
   "metadata": {},
   "outputs": [],
   "source": [
    "plt.figure(figsize=(12,10))\n",
    "plt.plot(Epoch, Top_1_eigen_vals_of_DGM_800, color = \"r\", linestyle= \"-\", linewidth = 1.5, label = \"Top 1 eigenvalue\")\n",
    "plt.plot(Epoch, Top_2_eigen_vals_of_DGM_800, color = \"k\", linestyle= \"-\", linewidth = 1.5, label = \"Top 2 eigenvalue\")\n",
    "plt.plot(Epoch, Top_3_eigen_vals_of_DGM_800, color = \"b\", linestyle= \"-\", linewidth = 1.5, label = \"Top 3 eigenvalue\")\n",
    "plt.plot(Epoch, Top_4_eigen_vals_of_DGM_800, color = \"g\", linestyle= \"-\", linewidth = 1.5, label = \"Top 4 eigenvalue\")\n",
    "plt.plot(Epoch, Top_5_eigen_vals_of_DGM_800, color = \"y\", linestyle= \"-\", linewidth = 1.5, label = \"Top 5 eigenvalue\")\n",
    "plt.plot(Epoch, Bottom_1_eigen_vals_of_DGM_800, color = \"r\", linestyle= \"-.\", marker = \"+\", linewidth = 0.5, label = \"Bottom 1 eigenvalue\")\n",
    "plt.plot(Epoch, Bottom_2_eigen_vals_of_DGM_800, color = \"k\", linestyle= \"-.\", marker = \"+\", linewidth = 0.5, label = \"Bottom 2 eigenvalue\")\n",
    "plt.plot(Epoch, Bottom_3_eigen_vals_of_DGM_800, color = \"b\", linestyle= \"-.\", marker = \"+\", linewidth = 0.5, label = \"Bottom 3 eigenvalue\")\n",
    "plt.plot(Epoch, Bottom_4_eigen_vals_of_DGM_800, color = \"g\", linestyle= \"-.\", marker = \"+\", linewidth = 0.5, label = \"Bottom 4 eigenvalue\")\n",
    "plt.plot(Epoch, Bottom_5_eigen_vals_of_DGM_800, color = \"y\", linestyle= \"-.\", marker = \"+\", linewidth = 0.5, label = \"Bottom 5 eigenvalue\")\n",
    "plt.xlabel(\"epoch ( * 50)\")\n",
    "plt.ylabel(\"Top and bottom five eigenvalues of DGM (batch size = 800)\")\n",
    "plt.legend(loc = 'upper left', bbox_to_anchor = (0.7, 0.9))\n",
    "plt.savefig(\"Eigenvalues_of_DGM_Batchsize_800.eps\", dpi = 120)\n",
    "plt.show()"
   ]
  },
  {
   "cell_type": "code",
   "execution_count": null,
   "metadata": {},
   "outputs": [],
   "source": [
    "# plt.figure(figsize=(12,10))\n",
    "# plt.plot(Epoch, Top_1_eigen_vals_of_DGM_800, color = \"r\", linestyle= \"-.\", marker = \".\", linewidth = 0.5, label = \"Top_1_eigen_vals\")\n",
    "# plt.plot(Epoch, Top_2_eigen_vals_of_DGM_800, color = \"k\", linestyle= \"-.\", marker = \".\", linewidth = 0.5, label = \"Top_2_eigen_vals\")\n",
    "# plt.plot(Epoch, Top_3_eigen_vals_of_DGM_800, color = \"b\", linestyle= \"-.\", marker = \".\", linewidth = 0.5, label = \"Top_3_eigen_vals\")\n",
    "# plt.plot(Epoch, Top_4_eigen_vals_of_DGM_800, color = \"g\", linestyle= \"-.\", marker = \".\", linewidth = 0.5, label = \"Top_4_eigen_vals\")\n",
    "# plt.plot(Epoch, Top_5_eigen_vals_of_DGM_800, color = \"y\", linestyle= \"-.\", marker = \".\", linewidth = 0.5, label = \"Top_5_eigen_vals\")\n",
    "# plt.plot(Epoch, Bottom_1_eigen_vals_of_DGM_800, color = \"r\", linestyle= \"-.\", marker = \"+\", linewidth = 0.5, label = \"Bottom_1_eigen_vals\")\n",
    "# plt.plot(Epoch, Bottom_2_eigen_vals_of_DGM_800, color = \"k\", linestyle= \"-.\", marker = \"+\", linewidth = 0.5, label = \"Bottom_2_eigen_vals\")\n",
    "# plt.plot(Epoch, Bottom_3_eigen_vals_of_DGM_800, color = \"b\", linestyle= \"-.\", marker = \"+\", linewidth = 0.5, label = \"Bottom_3_eigen_vals\")\n",
    "# plt.plot(Epoch, Bottom_4_eigen_vals_of_DGM_800, color = \"g\", linestyle= \"-.\", marker = \"+\", linewidth = 0.5, label = \"Bottom_4_eigen_vals\")\n",
    "# plt.plot(Epoch, Bottom_5_eigen_vals_of_DGM_800, color = \"y\", linestyle= \"-.\", marker = \"+\", linewidth = 0.5, label = \"Bottom_5_eigen_vals\")\n",
    "# plt.xlabel(\"epoch ( * 50)\")\n",
    "# plt.ylabel(\"top and bottom five eigen values of DGM (grid size = 800)\")\n",
    "# plt.legend(loc = 'upper left', bbox_to_anchor = (0.7, 0.95))\n",
    "# # plt.savefig(\"eigen_vals_of_DGM_800.eps\", dpi = 120)\n",
    "# plt.show() "
   ]
  },
  {
   "cell_type": "code",
   "execution_count": null,
   "metadata": {},
   "outputs": [],
   "source": [
    "top_1_eigen_vals_of_DGM_1600 = eigen_vals_of_DGM_1600[0,0:200]\n",
    "top_2_eigen_vals_of_DGM_1600 = eigen_vals_of_DGM_1600[1,0:200]\n",
    "top_3_eigen_vals_of_DGM_1600 = eigen_vals_of_DGM_1600[2,0:200]\n",
    "top_4_eigen_vals_of_DGM_1600 = eigen_vals_of_DGM_1600[3,0:200]\n",
    "top_5_eigen_vals_of_DGM_1600 = eigen_vals_of_DGM_1600[4,0:200]"
   ]
  },
  {
   "cell_type": "code",
   "execution_count": null,
   "metadata": {},
   "outputs": [],
   "source": [
    "print(top_1_eigen_vals_of_DGM_1600[-1])\n",
    "print(top_2_eigen_vals_of_DGM_1600[-1])\n",
    "print(top_3_eigen_vals_of_DGM_1600[-1])\n",
    "print(top_4_eigen_vals_of_DGM_1600[-1])\n",
    "print(top_5_eigen_vals_of_DGM_1600[-1])\n",
    "print(np.log10(top_1_eigen_vals_of_DGM_1600[-1]*top_2_eigen_vals_of_DGM_1600[-1]*top_3_eigen_vals_of_DGM_1600[-1]*top_4_eigen_vals_of_DGM_1600[-1]))"
   ]
  },
  {
   "cell_type": "code",
   "execution_count": null,
   "metadata": {},
   "outputs": [],
   "source": [
    "bottom_1_eigen_vals_of_DGM_1600 = eigen_vals_of_DGM_1600[-1,0:200]\n",
    "bottom_2_eigen_vals_of_DGM_1600 = eigen_vals_of_DGM_1600[-2,0:200]\n",
    "bottom_3_eigen_vals_of_DGM_1600 = eigen_vals_of_DGM_1600[-3,0:200]\n",
    "bottom_4_eigen_vals_of_DGM_1600 = eigen_vals_of_DGM_1600[-4,0:200]\n",
    "bottom_5_eigen_vals_of_DGM_1600 = eigen_vals_of_DGM_1600[-5,0:200]"
   ]
  },
  {
   "cell_type": "code",
   "execution_count": null,
   "metadata": {},
   "outputs": [],
   "source": [
    "Epoch = [i for i in range(len(top_1_eigen_vals_of_DGM_1600))]\n",
    "Top_1_eigen_vals_of_DGM_1600 = list(top_1_eigen_vals_of_DGM_1600)\n",
    "Top_2_eigen_vals_of_DGM_1600 = list(top_2_eigen_vals_of_DGM_1600)\n",
    "Top_3_eigen_vals_of_DGM_1600 = list(top_3_eigen_vals_of_DGM_1600)\n",
    "Top_4_eigen_vals_of_DGM_1600 = list(top_4_eigen_vals_of_DGM_1600)\n",
    "Top_5_eigen_vals_of_DGM_1600 = list(top_5_eigen_vals_of_DGM_1600)"
   ]
  },
  {
   "cell_type": "code",
   "execution_count": null,
   "metadata": {},
   "outputs": [],
   "source": [
    "Bottom_1_eigen_vals_of_DGM_1600 = list(bottom_1_eigen_vals_of_DGM_1600)\n",
    "Bottom_2_eigen_vals_of_DGM_1600 = list(bottom_2_eigen_vals_of_DGM_1600)\n",
    "Bottom_3_eigen_vals_of_DGM_1600 = list(bottom_3_eigen_vals_of_DGM_1600)\n",
    "Bottom_4_eigen_vals_of_DGM_1600 = list(bottom_4_eigen_vals_of_DGM_1600)\n",
    "Bottom_5_eigen_vals_of_DGM_1600 = list(bottom_5_eigen_vals_of_DGM_1600)"
   ]
  },
  {
   "cell_type": "code",
   "execution_count": null,
   "metadata": {},
   "outputs": [],
   "source": [
    "plt.figure(figsize=(12,10))\n",
    "plt.plot(Epoch, Top_1_eigen_vals_of_DGM_1600, color = \"r\", linestyle= \"-\", linewidth = 1.5, label = \"Top 1 eigenvalue\")\n",
    "plt.plot(Epoch, Top_2_eigen_vals_of_DGM_1600, color = \"k\", linestyle= \"-\", linewidth = 1.5, label = \"Top 2 eigenvalue\")\n",
    "plt.plot(Epoch, Top_3_eigen_vals_of_DGM_1600, color = \"b\", linestyle= \"-\", linewidth = 1.5, label = \"Top 3 eigenvalue\")\n",
    "plt.plot(Epoch, Top_4_eigen_vals_of_DGM_1600, color = \"g\", linestyle= \"-\", linewidth = 1.5, label = \"Top 4 eigenvalue\")\n",
    "plt.plot(Epoch, Top_5_eigen_vals_of_DGM_1600, color = \"y\", linestyle= \"-\", linewidth = 1.5, label = \"Top 5 eigenvalue\")\n",
    "plt.plot(Epoch, Bottom_1_eigen_vals_of_DGM_1600, color = \"r\", linestyle= \"-.\", marker = \"+\", linewidth = 0.5, label = \"Bottom 1 eigenvalue\")\n",
    "plt.plot(Epoch, Bottom_2_eigen_vals_of_DGM_1600, color = \"k\", linestyle= \"-.\", marker = \"+\", linewidth = 0.5, label = \"Bottom 2 eigenvalue\")\n",
    "plt.plot(Epoch, Bottom_3_eigen_vals_of_DGM_1600, color = \"b\", linestyle= \"-.\", marker = \"+\", linewidth = 0.5, label = \"Bottom 3 eigenvalue\")\n",
    "plt.plot(Epoch, Bottom_4_eigen_vals_of_DGM_1600, color = \"g\", linestyle= \"-.\", marker = \"+\", linewidth = 0.5, label = \"Bottom 4 eigenvalue\")\n",
    "plt.plot(Epoch, Bottom_5_eigen_vals_of_DGM_1600, color = \"y\", linestyle= \"-.\", marker = \"+\", linewidth = 0.5, label = \"Bottom 5 eigenvalue\")\n",
    "plt.xlabel(\"epoch ( * 50)\")\n",
    "plt.ylabel(\"Top and bottom five eigenvalues of DGM (batch size = 1600)\")\n",
    "plt.legend(loc = 'upper left', bbox_to_anchor = (0.7, 0.9))\n",
    "plt.savefig(\"Eigenvalues_of_DGM_Batchsize_1600.eps\", dpi = 120)\n",
    "plt.show()"
   ]
  },
  {
   "cell_type": "code",
   "execution_count": null,
   "metadata": {},
   "outputs": [],
   "source": [
    "# plt.figure(figsize=(12,10))\n",
    "# plt.plot(Epoch, Top_1_eigen_vals_of_DGM_1600, color = \"r\", linestyle= \"-.\", marker = \".\", linewidth = 0.5, label = \"Top_1_eigen_vals\")\n",
    "# plt.plot(Epoch, Top_2_eigen_vals_of_DGM_1600, color = \"k\", linestyle= \"-.\", marker = \".\", linewidth = 0.5, label = \"Top_2_eigen_vals\")\n",
    "# plt.plot(Epoch, Top_3_eigen_vals_of_DGM_1600, color = \"b\", linestyle= \"-.\", marker = \".\", linewidth = 0.5, label = \"Top_3_eigen_vals\")\n",
    "# plt.plot(Epoch, Top_4_eigen_vals_of_DGM_1600, color = \"g\", linestyle= \"-.\", marker = \".\", linewidth = 0.5, label = \"Top_4_eigen_vals\")\n",
    "# plt.plot(Epoch, Top_5_eigen_vals_of_DGM_1600, color = \"y\", linestyle= \"-.\", marker = \".\", linewidth = 0.5, label = \"Top_5_eigen_vals\")\n",
    "# plt.plot(Epoch, Bottom_1_eigen_vals_of_DGM_1600, color = \"r\", linestyle= \"-.\", marker = \"+\", linewidth = 0.5, label = \"Bottom_1_eigen_vals\")\n",
    "# plt.plot(Epoch, Bottom_2_eigen_vals_of_DGM_1600, color = \"k\", linestyle= \"-.\", marker = \"+\", linewidth = 0.5, label = \"Bottom_2_eigen_vals\")\n",
    "# plt.plot(Epoch, Bottom_3_eigen_vals_of_DGM_1600, color = \"b\", linestyle= \"-.\", marker = \"+\", linewidth = 0.5, label = \"Bottom_3_eigen_vals\")\n",
    "# plt.plot(Epoch, Bottom_4_eigen_vals_of_DGM_1600, color = \"g\", linestyle= \"-.\", marker = \"+\", linewidth = 0.5, label = \"Bottom_4_eigen_vals\")\n",
    "# plt.plot(Epoch, Bottom_5_eigen_vals_of_DGM_1600, color = \"y\", linestyle= \"-.\", marker = \"+\", linewidth = 0.5, label = \"Bottom_5_eigen_vals\")\n",
    "# plt.xlabel(\"epoch ( * 50)\")\n",
    "# plt.ylabel(\"top and bottom five eigen values of DGM (grid size = 1600)\")\n",
    "# plt.legend(loc = 'upper left', bbox_to_anchor = (0.7, 0.95))\n",
    "# # plt.savefig(\"eigen_vals_of_DGM_1600.eps\", dpi = 120)\n",
    "# plt.show() "
   ]
  },
  {
   "cell_type": "code",
   "execution_count": null,
   "metadata": {},
   "outputs": [],
   "source": []
  },
  {
   "cell_type": "code",
   "execution_count": null,
   "metadata": {},
   "outputs": [],
   "source": []
  }
 ],
 "metadata": {
  "kernelspec": {
   "display_name": "Python 3",
   "language": "python",
   "name": "python3"
  },
  "language_info": {
   "codemirror_mode": {
    "name": "ipython",
    "version": 3
   },
   "file_extension": ".py",
   "mimetype": "text/x-python",
   "name": "python",
   "nbconvert_exporter": "python",
   "pygments_lexer": "ipython3",
   "version": "3.6.8"
  }
 },
 "nbformat": 4,
 "nbformat_minor": 4
}
