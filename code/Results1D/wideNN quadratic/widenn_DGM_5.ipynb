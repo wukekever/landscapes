{
 "cells": [
  {
   "cell_type": "code",
   "execution_count": null,
   "metadata": {},
   "outputs": [],
   "source": [
    "import torch\n",
    "from torch.autograd import Variable\n",
    "import torch.nn as nn\n",
    "import torch.nn.functional as F\n",
    "import torch.optim as optim\n",
    "from torch.optim import lr_scheduler\n",
    "from torch.optim.lr_scheduler import StepLR, MultiStepLR\n",
    "import numpy as np\n",
    "import matplotlib.pyplot as plt\n",
    "from math import *\n",
    "import time"
   ]
  },
  {
   "cell_type": "code",
   "execution_count": null,
   "metadata": {},
   "outputs": [],
   "source": [
    "torch.set_default_tensor_type('torch.DoubleTensor')"
   ]
  },
  {
   "cell_type": "code",
   "execution_count": null,
   "metadata": {},
   "outputs": [],
   "source": [
    "# activation function\n",
    "def activation(x):\n",
    "    return x * torch.sigmoid(x) "
   ]
  },
  {
   "cell_type": "code",
   "execution_count": null,
   "metadata": {},
   "outputs": [],
   "source": [
    "# build ResNet with one blocks\n",
    "class Net(nn.Module):\n",
    "    def __init__(self,input_size,width):\n",
    "        super(Net,self).__init__()\n",
    "        self.layer_in = nn.Linear(input_size,width)\n",
    "        self.layer_1 = nn.Linear(width,width)\n",
    "        self.layer_2 = nn.Linear(width,width)\n",
    "        self.layer_out = nn.Linear(width,1)\n",
    "    def forward(self,x):\n",
    "        output = self.layer_in(x)\n",
    "        output = output + activation(self.layer_2(activation(self.layer_1(output)))) # residual block 1\n",
    "        output = self.layer_out(output)\n",
    "        return output"
   ]
  },
  {
   "cell_type": "code",
   "execution_count": null,
   "metadata": {},
   "outputs": [],
   "source": [
    "input_size = 1\n",
    "width = 5\n",
    "net = Net(input_size,width)"
   ]
  },
  {
   "cell_type": "code",
   "execution_count": null,
   "metadata": {},
   "outputs": [],
   "source": [
    "def model(x):\n",
    "    return x * (x - 1.0) * net(x)"
   ]
  },
  {
   "cell_type": "code",
   "execution_count": null,
   "metadata": {},
   "outputs": [],
   "source": [
    "# exact solution\n",
    "def u_ex(x):  \n",
    "    return torch.sin(pi*x)"
   ]
  },
  {
   "cell_type": "code",
   "execution_count": null,
   "metadata": {},
   "outputs": [],
   "source": [
    "# f(x)\n",
    "def f(x):\n",
    "    return pi**2 * torch.sin(pi*x)"
   ]
  },
  {
   "cell_type": "code",
   "execution_count": null,
   "metadata": {},
   "outputs": [],
   "source": [
    "grid_num = 200\n",
    "x = torch.zeros(grid_num + 1, input_size)\n",
    "for index in range(grid_num + 1):\n",
    "    x[index] = index * 1 / grid_num"
   ]
  },
  {
   "cell_type": "code",
   "execution_count": null,
   "metadata": {},
   "outputs": [],
   "source": [
    "# loss function to DGM by auto differential\n",
    "def loss_function(x):\n",
    "    h = 1 / grid_num\n",
    "    sum_0 = 0.0\n",
    "    sum_1 = 0.0\n",
    "    sum_2 = 0.0\n",
    "    sum_a = 0.0\n",
    "    sum_b = 0.0\n",
    "    for index in range(grid_num):\n",
    "        x_temp = x[index] + h / 2 \n",
    "        x_temp.requires_grad = True\n",
    "#         grad_x_temp = torch.autograd.grad(model(x_temp), x_temp, create_graph = True)\n",
    "        grad_x_temp = torch.autograd.grad(outputs = model(x_temp), inputs = x_temp, grad_outputs = torch.ones(model(x_temp).shape), create_graph = True)\n",
    "        grad_grad_x_temp = torch.autograd.grad(outputs = grad_x_temp[0], inputs = x_temp, grad_outputs = torch.ones(model(x_temp).shape), create_graph = True)\n",
    "        sum_1 += ((grad_grad_x_temp[0])[0] + f(x_temp)[0])**2\n",
    "    \n",
    "    for index in range(1, grid_num):\n",
    "        x_temp = x[index]\n",
    "        x_temp.requires_grad = True\n",
    "#         grad_x_temp = torch.autograd.grad(model(x_temp), x_temp, create_graph = True)\n",
    "        grad_x_temp = torch.autograd.grad(outputs = model(x_temp), inputs = x_temp, grad_outputs = torch.ones(model(x_temp).shape), create_graph = True)\n",
    "        grad_grad_x_temp = torch.autograd.grad(outputs = grad_x_temp[0], inputs = x_temp, grad_outputs = torch.ones(model(x_temp).shape), create_graph = True)\n",
    "        sum_2 += ((grad_grad_x_temp[0])[0] + f(x_temp)[0])**2\n",
    "    \n",
    "    x_temp = x[0]\n",
    "    x_temp.requires_grad = True\n",
    "#     grad_x_temp = torch.autograd.grad(model(x_temp), x_temp, create_graph = True)\n",
    "    grad_x_temp = torch.autograd.grad(outputs = model(x_temp), inputs = x_temp, grad_outputs = torch.ones(model(x_temp).shape), create_graph = True)\n",
    "    grad_grad_x_temp = torch.autograd.grad(outputs = grad_x_temp[0], inputs = x_temp, grad_outputs = torch.ones(model(x_temp).shape), create_graph = True)\n",
    "    sum_a = ((grad_grad_x_temp[0])[0] + f(x_temp)[0])**2\n",
    "    \n",
    "    x_temp = x[grid_num]\n",
    "    x_temp.requires_grad = True\n",
    "#     grad_x_temp = torch.autograd.grad(model(x_temp), x_temp, create_graph = True)\n",
    "    grad_x_temp = torch.autograd.grad(outputs = model(x_temp), inputs = x_temp, grad_outputs = torch.ones(model(x_temp).shape), create_graph = True)\n",
    "    grad_grad_x_temp = torch.autograd.grad(outputs = grad_x_temp[0], inputs = x_temp, grad_outputs = torch.ones(model(x_temp).shape), create_graph = True)\n",
    "    sum_b = ((grad_grad_x_temp[0])[0] + f(x_temp)[0])**2\n",
    "    \n",
    "    sum_0 = h / 6 * (sum_a + 4 * sum_1 + 2 * sum_2 + sum_b)\n",
    "    return sum_0"
   ]
  },
  {
   "cell_type": "code",
   "execution_count": null,
   "metadata": {},
   "outputs": [],
   "source": [
    "def error_function(x):\n",
    "    error = 0.0\n",
    "    for index in range(len(x)):\n",
    "        x_temp = x[index]\n",
    "        error += (model(x_temp)[0] - u_ex(x_temp)[0])**2\n",
    "    return error / len(x)"
   ]
  },
  {
   "cell_type": "code",
   "execution_count": null,
   "metadata": {},
   "outputs": [],
   "source": [
    "# set optimizer and learning rate decay\n",
    "optimizer = optim.Adam(net.parameters())\n",
    "scheduler = lr_scheduler.StepLR(optimizer, 250, 0.8) # every 250 epoch, learning rate * 0.5"
   ]
  },
  {
   "cell_type": "code",
   "execution_count": null,
   "metadata": {},
   "outputs": [],
   "source": [
    "epoch = 5000\n",
    "loss_record = np.zeros(epoch)\n",
    "error_record = np.zeros(epoch)\n",
    "time_start = time.time()\n",
    "for i in range(epoch):\n",
    "    optimizer.zero_grad()\n",
    "    loss = loss_function(x)\n",
    "    loss_record[i] = float(loss)\n",
    "    error = error_function(x)\n",
    "    error_record[i] = float(error)\n",
    "    np.save(\"unit_DGM_loss_1d_5.npy\", loss_record)\n",
    "    np.save(\"unit_DGM_error_1d_5.npy\", error_record)\n",
    "    if i % 1 == 0:\n",
    "        print(\"current epoch is: \", i)\n",
    "        print(\"current loss is: \", loss.detach())\n",
    "        print(\"current error is: \", error.detach())\n",
    "        \n",
    "    loss.backward()\n",
    "    optimizer.step() \n",
    "    scheduler.step()\n",
    "    torch.cuda.empty_cache() # clear memory\n",
    "    \n",
    "time_end = time.time()\n",
    "print('total time is: ', time_end-time_start, 'seconds')"
   ]
  },
  {
   "cell_type": "code",
   "execution_count": null,
   "metadata": {},
   "outputs": [],
   "source": []
  }
 ],
 "metadata": {
  "kernelspec": {
   "display_name": "Python 3",
   "language": "python",
   "name": "python3"
  },
  "language_info": {
   "codemirror_mode": {
    "name": "ipython",
    "version": 3
   },
   "file_extension": ".py",
   "mimetype": "text/x-python",
   "name": "python",
   "nbconvert_exporter": "python",
   "pygments_lexer": "ipython3",
   "version": "3.6.9"
  }
 },
 "nbformat": 4,
 "nbformat_minor": 4
}
