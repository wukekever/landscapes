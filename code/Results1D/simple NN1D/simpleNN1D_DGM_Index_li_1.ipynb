{
 "cells": [
  {
   "cell_type": "code",
   "execution_count": 1,
   "metadata": {},
   "outputs": [],
   "source": [
    "import numpy as np\n",
    "import random\n",
    "from math import *\n",
    "import time\n",
    "\n",
    "import copy\n",
    "\n",
    "import torch\n",
    "from torch.autograd import Variable\n",
    "import torch.nn as nn\n",
    "import torch.nn.functional as F\n",
    "import torch.optim as optim\n",
    "from torch.optim.lr_scheduler import StepLR, MultiStepLR"
   ]
  },
  {
   "cell_type": "code",
   "execution_count": 2,
   "metadata": {},
   "outputs": [],
   "source": [
    "torch.set_default_tensor_type('torch.DoubleTensor')"
   ]
  },
  {
   "cell_type": "code",
   "execution_count": 3,
   "metadata": {},
   "outputs": [],
   "source": [
    "class Net(torch.nn.Module):\n",
    "    def __init__(self,input_width,layer_width):\n",
    "        super(Net,self).__init__()\n",
    "        self.layer_out = torch.nn.Linear(layer_width, 1)\n",
    "    def forward(self,x):\n",
    "        output = self.layer_out(x)\n",
    "        return output"
   ]
  },
  {
   "cell_type": "code",
   "execution_count": 4,
   "metadata": {},
   "outputs": [],
   "source": [
    "dimension = 1"
   ]
  },
  {
   "cell_type": "code",
   "execution_count": 5,
   "metadata": {},
   "outputs": [],
   "source": [
    "input_width,layer_width = dimension, 1"
   ]
  },
  {
   "cell_type": "code",
   "execution_count": 6,
   "metadata": {},
   "outputs": [],
   "source": [
    "net = Net(input_width,layer_width)"
   ]
  },
  {
   "cell_type": "code",
   "execution_count": 7,
   "metadata": {},
   "outputs": [],
   "source": [
    "# defination of exact solution\n",
    "def u_ex(x):     \n",
    "    u_temp = 2*x**3 - x**2 - x\n",
    "    return u_temp.reshape([x.size()[0], 1])"
   ]
  },
  {
   "cell_type": "code",
   "execution_count": 8,
   "metadata": {},
   "outputs": [],
   "source": [
    "# defination of f(x)\n",
    "def f(x):\n",
    "    f_temp = -(12*x - 2)\n",
    "    return f_temp.reshape([x.size()[0],1])"
   ]
  },
  {
   "cell_type": "code",
   "execution_count": 9,
   "metadata": {},
   "outputs": [],
   "source": [
    "# generate points by random\n",
    "def generate_sample(data_size):\n",
    "    sample_temp = torch.rand(data_size, dimension)\n",
    "    return sample_temp"
   ]
  },
  {
   "cell_type": "code",
   "execution_count": 10,
   "metadata": {},
   "outputs": [],
   "source": [
    "def model(x):\n",
    "    x_temp = x\n",
    "    D_x_0 = torch.prod(x_temp, axis = 1).reshape([x.size()[0], 1]) \n",
    "    D_x_1 = torch.prod(1.0 - x_temp, axis = 1).reshape([x.size()[0], 1]) \n",
    "    model_u_temp = D_x_0 * D_x_1 * net(x)\n",
    "    return model_u_temp.reshape([x.size()[0], 1])"
   ]
  },
  {
   "cell_type": "code",
   "execution_count": 11,
   "metadata": {},
   "outputs": [],
   "source": [
    "# loss function to DGM by auto differential\n",
    "def loss_function(x):\n",
    "#     x = generate_sample(data_size).cuda()\n",
    "#     x.requires_grad = True\n",
    "    u_hat = model(x)\n",
    "    grad_u_hat = torch.autograd.grad(outputs = u_hat, inputs = x, grad_outputs = torch.ones(u_hat.shape), create_graph = True)\n",
    "    laplace_u = torch.zeros([len(grad_u_hat[0]), 1])\n",
    "    for index in range(dimension):\n",
    "        p_temp = grad_u_hat[0][:, index].reshape([len(grad_u_hat[0]), 1])\n",
    "        temp = torch.autograd.grad(outputs = p_temp, inputs = x, grad_outputs = torch.ones(p_temp.shape), create_graph = True, allow_unused = True)[0]\n",
    "        laplace_u = temp[:, index].reshape([len(grad_u_hat[0]), 1]) + laplace_u\n",
    "        part_2 = torch.sum((-laplace_u - f(x))**2)  / len(x)\n",
    "    return part_2 "
   ]
  },
  {
   "cell_type": "code",
   "execution_count": 12,
   "metadata": {},
   "outputs": [],
   "source": [
    "data_size = 10000\n",
    "x = generate_sample(data_size)\n",
    "x.requires_grad = True"
   ]
  },
  {
   "cell_type": "code",
   "execution_count": 13,
   "metadata": {},
   "outputs": [],
   "source": [
    "def get_weights(net):\n",
    "    \"\"\" Extract parameters from net, and return a list of tensors\"\"\"\n",
    "    return [p.data for p in net.parameters()]"
   ]
  },
  {
   "cell_type": "code",
   "execution_count": 14,
   "metadata": {},
   "outputs": [],
   "source": [
    "def set_weights(net, weights, directions=None, step=None):\n",
    "    \"\"\"\n",
    "        Overwrite the network's weights with a specified list of tensors\n",
    "        or change weights along directions with a step size.\n",
    "    \"\"\"\n",
    "    if directions is None:\n",
    "        # You cannot specify a step length without a direction.\n",
    "        for (p, w) in zip(net.parameters(), weights):\n",
    "            p.data.copy_(w.type(type(p.data)))\n",
    "    else:\n",
    "        assert step is not None, 'If a direction is specified then step must be specified as well'\n",
    "\n",
    "        if len(directions) == 2:\n",
    "            dx = directions[0]\n",
    "            dy = directions[1]\n",
    "            changes = [d0*step[0] + d1*step[1] for (d0, d1) in zip(dx, dy)]\n",
    "        else:\n",
    "            changes = [d*step for d in directions[0]]\n",
    "\n",
    "        for (p, w, d) in zip(net.parameters(), weights, changes):\n",
    "            p.data = w + torch.Tensor(d).type(type(w))"
   ]
  },
  {
   "cell_type": "code",
   "execution_count": 15,
   "metadata": {},
   "outputs": [],
   "source": [
    "def set_states(net, states, directions=None, step=None):\n",
    "    \"\"\"\n",
    "        Overwrite the network's state_dict or change it along directions with a step size.\n",
    "    \"\"\"\n",
    "    if directions is None:\n",
    "        net.load_state_dict(states)\n",
    "    else:\n",
    "        assert step is not None, 'If direction is provided then the step must be specified as well'\n",
    "        if len(directions) == 2:\n",
    "            dx = directions[0]\n",
    "            dy = directions[1]\n",
    "            changes = [d0*step[0] + d1*step[1] for (d0, d1) in zip(dx, dy)]\n",
    "        else:\n",
    "            changes = [d*step for d in directions[0]]\n",
    "\n",
    "        new_states = copy.deepcopy(states)\n",
    "        assert (len(new_states) == len(changes))\n",
    "        for (k, v), d in zip(new_states.items(), changes):\n",
    "            d = torch.tensor(d)\n",
    "            v.add_(d.type(v.type()))\n",
    "\n",
    "        net.load_state_dict(new_states)"
   ]
  },
  {
   "cell_type": "code",
   "execution_count": 16,
   "metadata": {},
   "outputs": [],
   "source": [
    "def get_random_weights(weights):\n",
    "    \"\"\"\n",
    "        Produce a random direction that is a list of random Gaussian tensors\n",
    "        with the same shape as the network's weights, so one direction entry per weight.\n",
    "    \"\"\"\n",
    "    return [torch.randn(w.size()) for w in weights]"
   ]
  },
  {
   "cell_type": "code",
   "execution_count": 17,
   "metadata": {},
   "outputs": [],
   "source": [
    "def get_random_states(states):\n",
    "    \"\"\"\n",
    "        Produce a random direction that is a list of random Gaussian tensors\n",
    "        with the same shape as the network's state_dict(), so one direction entry\n",
    "        per weight, including BN's running_mean/var.\n",
    "    \"\"\"\n",
    "    return [torch.randn(w.size()) for k, w in states.items()]"
   ]
  },
  {
   "cell_type": "code",
   "execution_count": 18,
   "metadata": {},
   "outputs": [],
   "source": [
    "def get_diff_weights(weights, weights2):\n",
    "    \"\"\" Produce a direction from 'weights' to 'weights2'.\"\"\"\n",
    "    return [w2 - w for (w, w2) in zip(weights, weights2)]"
   ]
  },
  {
   "cell_type": "code",
   "execution_count": 19,
   "metadata": {},
   "outputs": [],
   "source": [
    "def get_diff_states(states, states2):\n",
    "    \"\"\" Produce a direction from 'states' to 'states2'.\"\"\"\n",
    "    return [v2 - v for (k, v), (k2, v2) in zip(states.items(), states2.items())]"
   ]
  },
  {
   "cell_type": "code",
   "execution_count": 20,
   "metadata": {},
   "outputs": [],
   "source": [
    "def normalize_direction(direction, weights, norm='filter'):\n",
    "    \"\"\"\n",
    "        Rescale the direction so that it has similar norm as their corresponding\n",
    "        model in different levels.\n",
    "        Args:\n",
    "          direction: a variables of the random direction for one layer\n",
    "          weights: a variable of the original model for one layer\n",
    "          norm: normalization method, 'filter' | 'layer' | 'weight'\n",
    "    \"\"\"\n",
    "    if norm == 'filter':\n",
    "        # Rescale the filters (weights in group) in 'direction' so that each\n",
    "        # filter has the same norm as its corresponding filter in 'weights'.\n",
    "        for d, w in zip(direction, weights):\n",
    "            d.mul_(w.norm()/(d.norm() + 1e-10))\n",
    "    elif norm == 'layer':\n",
    "        # Rescale the layer variables in the direction so that each layer has\n",
    "        # the same norm as the layer variables in weights.\n",
    "        direction.mul_(weights.norm()/direction.norm())\n",
    "    elif norm == 'weight':\n",
    "        # Rescale the entries in the direction so that each entry has the same\n",
    "        # scale as the corresponding weight.\n",
    "        direction.mul_(weights)\n",
    "    elif norm == 'dfilter':\n",
    "        # Rescale the entries in the direction so that each filter direction\n",
    "        # has the unit norm.\n",
    "        for d in direction:\n",
    "            d.div_(d.norm() + 1e-10)\n",
    "    elif norm == 'dlayer':\n",
    "        # Rescale the entries in the direction so that each layer direction has\n",
    "        # the unit norm.\n",
    "        direction.div_(direction.norm())"
   ]
  },
  {
   "cell_type": "code",
   "execution_count": 21,
   "metadata": {},
   "outputs": [],
   "source": [
    "def normalize_directions_for_weights(direction, weights, norm='filter', ignore='biasbn'):\n",
    "    \"\"\"\n",
    "        The normalization scales the direction entries according to the entries of weights.\n",
    "    \"\"\"\n",
    "    assert(len(direction) == len(weights))\n",
    "    for d, w in zip(direction, weights):\n",
    "        if d.dim() <= 1:\n",
    "            if ignore == 'biasbn':\n",
    "                d.fill_(0) # ignore directions for weights with 1 dimension\n",
    "            else:\n",
    "                d.copy_(w) # keep directions for weights/bias that are only 1 per node\n",
    "        else:\n",
    "            normalize_direction(d, w, norm)"
   ]
  },
  {
   "cell_type": "code",
   "execution_count": 22,
   "metadata": {},
   "outputs": [],
   "source": [
    "def normalize_directions_for_states(direction, states, norm='filter', ignore='ignore'):\n",
    "    assert(len(direction) == len(states))\n",
    "    for d, (k, w) in zip(direction, states.items()):\n",
    "        if d.dim() <= 1:\n",
    "            if ignore == 'biasbn':\n",
    "                d.fill_(0) # ignore directions for weights with 1 dimension\n",
    "            else:\n",
    "                d.copy_(w) # keep directions for weights/bias that are only 1 per node\n",
    "        else:\n",
    "            normalize_direction(d, w, norm)"
   ]
  },
  {
   "cell_type": "code",
   "execution_count": 23,
   "metadata": {},
   "outputs": [],
   "source": [
    "def ignore_biasbn(directions):\n",
    "    \"\"\" Set bias and bn parameters in directions to zero \"\"\"\n",
    "    for d in directions:\n",
    "        if d.dim() <= 1:\n",
    "            d.fill_(0)"
   ]
  },
  {
   "cell_type": "code",
   "execution_count": 24,
   "metadata": {},
   "outputs": [],
   "source": [
    "def create_random_direction(net, dir_type='weights', ignore='biasbn', norm='filter'):\n",
    "    \"\"\"\n",
    "        Setup a random (normalized) direction with the same dimension as\n",
    "        the weights or states.\n",
    "        Args:\n",
    "          net: the given trained model\n",
    "          dir_type: 'weights' or 'states', type of directions.\n",
    "          ignore: 'biasbn', ignore biases and BN parameters.\n",
    "          norm: direction normalization method, including\n",
    "                'filter\" | 'layer' | 'weight' | 'dlayer' | 'dfilter'\n",
    "        Returns:\n",
    "          direction: a random direction with the same dimension as weights or states.\n",
    "    \"\"\"\n",
    "\n",
    "    # random direction\n",
    "    if dir_type == 'weights':\n",
    "        weights = get_weights(net) # a list of parameters.\n",
    "        direction = get_random_weights(weights)\n",
    "        normalize_directions_for_weights(direction, weights, norm, ignore)\n",
    "    elif dir_type == 'states':\n",
    "        states = net.state_dict() # a dict of parameters, including BN's running mean/var.\n",
    "        direction = get_random_states(states)\n",
    "        normalize_directions_for_states(direction, states, norm, ignore)\n",
    "\n",
    "    return direction"
   ]
  },
  {
   "cell_type": "code",
   "execution_count": 25,
   "metadata": {},
   "outputs": [],
   "source": [
    "def tvd(m, l_i):\n",
    "    \n",
    "    # load model parameters\n",
    "    pretrained_dict = torch.load('net_params_DGM.pkl')\n",
    "    \n",
    "    # get state_dict\n",
    "    net_state_dict = net.state_dict()\n",
    "\n",
    "    # remove keys that does not belong to net_state_dict\n",
    "    pretrained_dict_1 = {k: v for k, v in pretrained_dict.items() if k in net_state_dict}\n",
    "\n",
    "    # update dict\n",
    "    net_state_dict.update(pretrained_dict_1)\n",
    "\n",
    "    # set new dict back to net\n",
    "    net.load_state_dict(net_state_dict)\n",
    "    \n",
    "    weights_temp = get_weights(net)\n",
    "    states_temp = net.state_dict()\n",
    "    \n",
    "    step_size = 2 * l_i / m  \n",
    "    grid = np.arange(-l_i, l_i + step_size, step_size)\n",
    "    num_direction = 1\n",
    "    loss_matrix = torch.zeros((num_direction, len(grid)))\n",
    "\n",
    "    for temp in range(num_direction):\n",
    "        weights = weights_temp\n",
    "        states = states_temp\n",
    "        direction_temp = create_random_direction(net, dir_type='weights', ignore='biasbn', norm='filter')\n",
    "        normalize_directions_for_states(direction_temp, states, norm='filter', ignore='ignore')\n",
    "        directions = [direction_temp]\n",
    "\n",
    "        for dx in grid:\n",
    "            itemindex_1 = np.argwhere(grid == dx)\n",
    "            step = dx\n",
    "\n",
    "            set_states(net, states, directions, step)\n",
    "            loss_temp = loss_function(x)\n",
    "            loss_matrix[temp, itemindex_1[0]] = loss_temp\n",
    "            \n",
    "            # clear memory\n",
    "            torch.cuda.empty_cache()\n",
    "\n",
    "            # get state_dict\n",
    "            net_state_dict = net.state_dict()\n",
    "            # remove keys that does not belong to net_state_dict\n",
    "            pretrained_dict_1 = {k: v for k, v in pretrained_dict.items() if k in net_state_dict}\n",
    "            # update dict\n",
    "            net_state_dict.update(pretrained_dict_1)\n",
    "            # set new dict back to net\n",
    "            net.load_state_dict(net_state_dict)\n",
    "            weights_temp = get_weights(net)\n",
    "            states_temp = net.state_dict()\n",
    "\n",
    "    interval_length = grid[-1] - grid[0]\n",
    "    TVD = 0.0\n",
    "    for temp in range(num_direction):\n",
    "        for index in range(loss_matrix.size()[1] - 1):\n",
    "            TVD = TVD + np.abs(float(loss_matrix[temp, index] - loss_matrix[temp, index + 1]))\n",
    "    Max = np.max(loss_matrix.detach().numpy())\n",
    "    Min = np.min(loss_matrix.detach().numpy())\n",
    "\n",
    "    TVD = TVD / interval_length / num_direction / (Max - Min)\n",
    "\n",
    "    return TVD, Max, Min"
   ]
  },
  {
   "cell_type": "code",
   "execution_count": 26,
   "metadata": {},
   "outputs": [
    {
     "name": "stderr",
     "output_type": "stream",
     "text": [
      "/home/keke/.local/lib/python3.6/site-packages/ipykernel_launcher.py:19: UserWarning: To copy construct from a tensor, it is recommended to use sourceTensor.clone().detach() or sourceTensor.clone().detach().requires_grad_(True), rather than torch.tensor(sourceTensor).\n"
     ]
    },
    {
     "name": "stdout",
     "output_type": "stream",
     "text": [
      "Current direction TVD of DGM is:  0.9999999038035886\n",
      "2.0 % finished.\n",
      "Current direction TVD of DGM is:  0.9999988329499364\n",
      "4.0 % finished.\n",
      "Current direction TVD of DGM is:  0.9999999038035886\n",
      "6.0 % finished.\n",
      "Current direction TVD of DGM is:  0.9999999038035886\n",
      "8.0 % finished.\n",
      "Current direction TVD of DGM is:  0.9999988329499364\n",
      "10.0 % finished.\n",
      "Current direction TVD of DGM is:  0.9999988329499364\n",
      "12.0 % finished.\n",
      "Current direction TVD of DGM is:  0.9999988329499364\n",
      "14.000000000000002 % finished.\n",
      "Current direction TVD of DGM is:  0.9999988329499364\n",
      "16.0 % finished.\n",
      "Current direction TVD of DGM is:  0.9999988329499364\n",
      "18.0 % finished.\n",
      "Current direction TVD of DGM is:  0.9999988329499364\n",
      "20.0 % finished.\n",
      "Current direction TVD of DGM is:  0.9999999038035886\n",
      "22.0 % finished.\n",
      "Current direction TVD of DGM is:  0.9999988329499364\n",
      "24.0 % finished.\n",
      "Current direction TVD of DGM is:  0.9999988329499364\n",
      "26.0 % finished.\n",
      "Current direction TVD of DGM is:  0.9999988329499364\n",
      "28.000000000000004 % finished.\n",
      "Current direction TVD of DGM is:  0.9999999038035886\n",
      "30.0 % finished.\n",
      "Current direction TVD of DGM is:  0.9999988329499364\n",
      "32.0 % finished.\n",
      "Current direction TVD of DGM is:  0.9999988329499364\n",
      "34.0 % finished.\n",
      "Current direction TVD of DGM is:  0.9999988329499364\n",
      "36.0 % finished.\n",
      "Current direction TVD of DGM is:  0.9999999038035886\n",
      "38.0 % finished.\n",
      "Current direction TVD of DGM is:  0.9999988329499364\n",
      "40.0 % finished.\n",
      "Current direction TVD of DGM is:  0.9999999038035886\n",
      "42.0 % finished.\n",
      "Current direction TVD of DGM is:  0.9999988329499364\n",
      "44.0 % finished.\n",
      "Current direction TVD of DGM is:  0.9999999038035886\n",
      "46.0 % finished.\n",
      "Current direction TVD of DGM is:  0.9999988329499364\n",
      "48.0 % finished.\n",
      "Current direction TVD of DGM is:  0.9999999038035886\n",
      "50.0 % finished.\n",
      "Current direction TVD of DGM is:  0.9999988329499364\n",
      "52.0 % finished.\n",
      "Current direction TVD of DGM is:  0.9999999038035886\n",
      "54.0 % finished.\n",
      "Current direction TVD of DGM is:  0.9999988329499364\n",
      "56.00000000000001 % finished.\n",
      "Current direction TVD of DGM is:  0.9999988329499364\n",
      "57.99999999999999 % finished.\n",
      "Current direction TVD of DGM is:  0.9999999038035886\n",
      "60.0 % finished.\n",
      "Current direction TVD of DGM is:  0.9999999038035886\n",
      "62.0 % finished.\n",
      "Current direction TVD of DGM is:  0.9999988329499364\n",
      "64.0 % finished.\n",
      "Current direction TVD of DGM is:  0.9999999038035886\n",
      "66.0 % finished.\n",
      "Current direction TVD of DGM is:  0.9999988329499364\n",
      "68.0 % finished.\n",
      "Current direction TVD of DGM is:  0.9999999038035886\n",
      "70.0 % finished.\n",
      "Current direction TVD of DGM is:  0.9999988329499364\n",
      "72.0 % finished.\n",
      "Current direction TVD of DGM is:  0.9999988329499364\n",
      "74.0 % finished.\n",
      "Current direction TVD of DGM is:  0.9999988329499364\n",
      "76.0 % finished.\n",
      "Current direction TVD of DGM is:  0.9999999038035886\n",
      "78.0 % finished.\n",
      "Current direction TVD of DGM is:  0.9999988329499364\n",
      "80.0 % finished.\n",
      "Current direction TVD of DGM is:  0.9999988329499364\n",
      "82.0 % finished.\n",
      "Current direction TVD of DGM is:  0.9999999038035886\n",
      "84.0 % finished.\n",
      "Current direction TVD of DGM is:  0.9999988329499364\n",
      "86.0 % finished.\n",
      "Current direction TVD of DGM is:  0.9999988329499364\n",
      "88.0 % finished.\n",
      "Current direction TVD of DGM is:  0.9999999038035886\n",
      "90.0 % finished.\n",
      "Current direction TVD of DGM is:  0.9999999038035886\n",
      "92.0 % finished.\n",
      "Current direction TVD of DGM is:  0.9999999038035886\n",
      "94.0 % finished.\n",
      "Current direction TVD of DGM is:  0.9999999038035886\n",
      "96.0 % finished.\n",
      "Current direction TVD of DGM is:  0.9999999038035886\n",
      "98.0 % finished.\n",
      "Current direction TVD of DGM is:  0.9999988329499364\n",
      "100.0 % finished.\n",
      "All directions average TVD of DGM is:  0.9999992827084705\n",
      "Variance TVD of DGM is:  5.338948434844352e-07\n",
      "Total time costs:  93.69633960723877 seconds\n"
     ]
    }
   ],
   "source": [
    "M = 50\n",
    "m = 50\n",
    "l_i = 1.0\n",
    "\n",
    "TVD_DGM = 0.0\n",
    "\n",
    "time_start = time.time()\n",
    "\n",
    "Max = []\n",
    "Min = []\n",
    "Result = []\n",
    "\n",
    "for count in range(M):\n",
    "    TVD_temp, Max_temp, Min_temp = tvd(m, l_i)\n",
    "#     print(Max_temp, Min_temp)\n",
    "    Max.append(Max_temp)\n",
    "    Min.append(Min_temp)\n",
    "    Result.append(TVD_temp)\n",
    "    print('Current direction TVD of DGM is: ', TVD_temp)\n",
    "    TVD_DGM = TVD_DGM + TVD_temp\n",
    "    print((count + 1) / M * 100, '% finished.')\n",
    "\n",
    "# print('Max of all is: ', np.max(Max))\n",
    "# print('Min of all is: ', np.min(Min))\n",
    "\n",
    "TVD_DGM = TVD_DGM / M \n",
    "print('All directions average TVD of DGM is: ', TVD_DGM)\n",
    "\n",
    "print('Variance TVD of DGM is: ', np.sqrt(np.var(Result, ddof = 1)))\n",
    "\n",
    "time_end = time.time()\n",
    "print('Total time costs: ', time_end - time_start, 'seconds')"
   ]
  },
  {
   "cell_type": "code",
   "execution_count": 27,
   "metadata": {},
   "outputs": [],
   "source": [
    "import matplotlib.pylab as plt \n",
    "import matplotlib.pyplot as mp\n",
    "import numpy as np\n",
    "plt.style.use(\"seaborn-dark\") # print(plt.style.available)\n",
    "from mpl_toolkits.mplot3d import Axes3D\n",
    "import seaborn as sns\n",
    "sns.set()"
   ]
  },
  {
   "cell_type": "code",
   "execution_count": 28,
   "metadata": {},
   "outputs": [],
   "source": [
    "dirc = [i + 1 for i in range(len(Result))]"
   ]
  },
  {
   "cell_type": "code",
   "execution_count": 29,
   "metadata": {},
   "outputs": [
    {
     "data": {
      "image/png": "[encoded data removed]",
      "text/plain": [
       "<Figure size 432x288 with 1 Axes>"
      ]
     },
     "metadata": {},
     "output_type": "display_data"
    }
   ],
   "source": [
    "import matplotlib.pylab as plt \n",
    "import matplotlib.pyplot as mp\n",
    "import numpy as np\n",
    "\n",
    "plt.style.use(\"seaborn-dark\")\n",
    "fig = plt.figure()\n",
    "ax = plt.subplot(1,1,1)\n",
    "\n",
    "ax.set_ylim(0.999, 1.0)\n",
    "\n",
    "plt.scatter(dirc, Result, c = 'green')\n",
    "plt.xlabel('Direction index', size = 12)\n",
    "plt.ylabel('TV', size = 12)\n",
    "plt.grid(True)\n",
    "# plt.savefig(\"Relative_error.eps\", dpi = 120)\n",
    "plt.show()"
   ]
  },
  {
   "cell_type": "code",
   "execution_count": 30,
   "metadata": {},
   "outputs": [],
   "source": [
    "np.save('DGM.npy', Result)"
   ]
  },
  {
   "cell_type": "code",
   "execution_count": null,
   "metadata": {},
   "outputs": [],
   "source": []
  }
 ],
 "metadata": {
  "kernelspec": {
   "display_name": "Python 3",
   "language": "python",
   "name": "python3"
  },
  "language_info": {
   "codemirror_mode": {
    "name": "ipython",
    "version": 3
   },
   "file_extension": ".py",
   "mimetype": "text/x-python",
   "name": "python",
   "nbconvert_exporter": "python",
   "pygments_lexer": "ipython3",
   "version": "3.6.9"
  }
 },
 "nbformat": 4,
 "nbformat_minor": 4
}
